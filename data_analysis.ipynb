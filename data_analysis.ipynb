{
  "nbformat": 4,
  "nbformat_minor": 0,
  "metadata": {
    "colab": {
      "name": "data_analysis.ipynb",
      "provenance": [],
      "collapsed_sections": [],
      "toc_visible": true
    },
    "kernelspec": {
      "name": "python3",
      "display_name": "Python 3"
    }
  },
  "cells": [
    {
      "cell_type": "markdown",
      "metadata": {
        "id": "_tS0rjTVZIk-"
      },
      "source": [
        "# 1. Clone the repo"
      ]
    },
    {
      "cell_type": "code",
      "metadata": {
        "id": "qDB0D_pfYJs8",
        "outputId": "d3c0b8d1-46ba-4010-878b-49cf93cd0712",
        "colab": {
          "base_uri": "https://localhost:8080/"
        }
      },
      "source": [
        "# Clone the entire repo.\n",
        "!git clone -b data-inspecting --single-branch https://github.com/NewLuminous/Zalo-Vietnamese-Wiki-QA.git zaloqa\n",
        "%cd zaloqa\n",
        "!ls"
      ],
      "execution_count": 1,
      "outputs": [
        {
          "output_type": "stream",
          "text": [
            "Cloning into 'zaloqa'...\n",
            "remote: Enumerating objects: 20, done.\u001b[K\n",
            "remote: Counting objects: 100% (20/20), done.\u001b[K\n",
            "remote: Compressing objects: 100% (17/17), done.\u001b[K\n",
            "remote: Total 20 (delta 2), reused 16 (delta 2), pack-reused 0\u001b[K\n",
            "Unpacking objects: 100% (20/20), done.\n",
            "/content/zaloqa\n",
            "data  LICENSE  README.md\n"
          ],
          "name": "stdout"
        }
      ]
    },
    {
      "cell_type": "markdown",
      "metadata": {
        "id": "gRKbkEMeZQm0"
      },
      "source": [
        "# 2. Load data"
      ]
    },
    {
      "cell_type": "code",
      "metadata": {
        "id": "ZtmWtowukxW-",
        "outputId": "ccf9b72e-aeda-47df-dd72-5dde409ce307",
        "colab": {
          "base_uri": "https://localhost:8080/",
          "height": 570
        }
      },
      "source": [
        "from utils.data_loading import ZaloLoader\n",
        "\n",
        "zalo_loader = ZaloLoader()\n",
        "zalo_data = zalo_loader.read_json(\"data/zaloai/train.json\")\n",
        "zalo_data"
      ],
      "execution_count": 3,
      "outputs": [
        {
          "output_type": "execute_result",
          "data": {
            "text/html": [
              "<div>\n",
              "<style scoped>\n",
              "    .dataframe tbody tr th:only-of-type {\n",
              "        vertical-align: middle;\n",
              "    }\n",
              "\n",
              "    .dataframe tbody tr th {\n",
              "        vertical-align: top;\n",
              "    }\n",
              "\n",
              "    .dataframe thead th {\n",
              "        text-align: right;\n",
              "    }\n",
              "</style>\n",
              "<table border=\"1\" class=\"dataframe\">\n",
              "  <thead>\n",
              "    <tr style=\"text-align: right;\">\n",
              "      <th></th>\n",
              "      <th>id</th>\n",
              "      <th>question</th>\n",
              "      <th>title</th>\n",
              "      <th>text</th>\n",
              "      <th>label</th>\n",
              "    </tr>\n",
              "  </thead>\n",
              "  <tbody>\n",
              "    <tr>\n",
              "      <th>0</th>\n",
              "      <td>u7-1570446247_1</td>\n",
              "      <td>Quang Hải giành được chức vô địch U21 quốc gia...</td>\n",
              "      <td>Nguyễn Quang Hải (sinh 1997)</td>\n",
              "      <td>Năm 2013 , Nguyễn Quang Hải giành chức vô địch...</td>\n",
              "      <td>True</td>\n",
              "    </tr>\n",
              "    <tr>\n",
              "      <th>1</th>\n",
              "      <td>u7-1570446247_2</td>\n",
              "      <td>Quang Hải giành được chức vô địch U21 quốc gia...</td>\n",
              "      <td>Nguyễn Quang Hải (sinh 1997)</td>\n",
              "      <td>Sau chức vô địch U-21 quốc gia 2013 , Nguyễn Q...</td>\n",
              "      <td>True</td>\n",
              "    </tr>\n",
              "    <tr>\n",
              "      <th>2</th>\n",
              "      <td>u7-1570446247_0</td>\n",
              "      <td>Quang Hải giành được chức vô địch U21 quốc gia...</td>\n",
              "      <td>Nguyễn Quang Hải (sinh 1997)</td>\n",
              "      <td>Anh bắt đầu gia nhập lò đào tạo trẻ Hà Nội T&amp;T...</td>\n",
              "      <td>False</td>\n",
              "    </tr>\n",
              "    <tr>\n",
              "      <th>3</th>\n",
              "      <td>u7-1570446247_3</td>\n",
              "      <td>Quang Hải giành được chức vô địch U21 quốc gia...</td>\n",
              "      <td>Nguyễn Quang Hải (sinh 1997)</td>\n",
              "      <td>Năm 2011 , Nguyễn Quang Hải mới 14 tuổi được g...</td>\n",
              "      <td>False</td>\n",
              "    </tr>\n",
              "    <tr>\n",
              "      <th>4</th>\n",
              "      <td>u7-1570445661_0</td>\n",
              "      <td>Mỗi hiệp bóng đá kéo dài bao lâu</td>\n",
              "      <td>Bóng đá</td>\n",
              "      <td>Một trận đấu bóng đá thông thường có hai hiệp ...</td>\n",
              "      <td>True</td>\n",
              "    </tr>\n",
              "    <tr>\n",
              "      <th>...</th>\n",
              "      <td>...</td>\n",
              "      <td>...</td>\n",
              "      <td>...</td>\n",
              "      <td>...</td>\n",
              "      <td>...</td>\n",
              "    </tr>\n",
              "    <tr>\n",
              "      <th>18103</th>\n",
              "      <td>u6-1551268099_0</td>\n",
              "      <td>Thành phố nào là thủ đô của Costa Rica</td>\n",
              "      <td>San José, Costa Rica</td>\n",
              "      <td>San José (tiếng Tây Ban Nha: San José; ) là th...</td>\n",
              "      <td>True</td>\n",
              "    </tr>\n",
              "    <tr>\n",
              "      <th>18104</th>\n",
              "      <td>u6-1551268099_1</td>\n",
              "      <td>Thành phố nào là thủ đô của Costa Rica</td>\n",
              "      <td>Costa Rica</td>\n",
              "      <td>Vì Costa Rica có địa hình đa dạng nhiều núi no...</td>\n",
              "      <td>True</td>\n",
              "    </tr>\n",
              "    <tr>\n",
              "      <th>18105</th>\n",
              "      <td>u6-1551268099_2</td>\n",
              "      <td>Thành phố nào là thủ đô của Costa Rica</td>\n",
              "      <td>San José, Costa Rica</td>\n",
              "      <td>Với địa vị là thủ đô, San José là nơi đặt trụ ...</td>\n",
              "      <td>True</td>\n",
              "    </tr>\n",
              "    <tr>\n",
              "      <th>18106</th>\n",
              "      <td>u6-1551268099_4</td>\n",
              "      <td>Thành phố nào là thủ đô của Costa Rica</td>\n",
              "      <td>Santa Teresa, Costa Rica</td>\n",
              "      <td>Santa Teresa là một thị xã nhỏ ở tỉnh Puntaren...</td>\n",
              "      <td>True</td>\n",
              "    </tr>\n",
              "    <tr>\n",
              "      <th>18107</th>\n",
              "      <td>u6-1551268099_3</td>\n",
              "      <td>Thành phố nào là thủ đô của Costa Rica</td>\n",
              "      <td>Cartago (tỉnh)</td>\n",
              "      <td>Cartago là một tỉnh của Costa Rica. Tỉnh này n...</td>\n",
              "      <td>False</td>\n",
              "    </tr>\n",
              "  </tbody>\n",
              "</table>\n",
              "<p>18108 rows × 5 columns</p>\n",
              "</div>"
            ],
            "text/plain": [
              "                    id  ...  label\n",
              "0      u7-1570446247_1  ...   True\n",
              "1      u7-1570446247_2  ...   True\n",
              "2      u7-1570446247_0  ...  False\n",
              "3      u7-1570446247_3  ...  False\n",
              "4      u7-1570445661_0  ...   True\n",
              "...                ...  ...    ...\n",
              "18103  u6-1551268099_0  ...   True\n",
              "18104  u6-1551268099_1  ...   True\n",
              "18105  u6-1551268099_2  ...   True\n",
              "18106  u6-1551268099_4  ...   True\n",
              "18107  u6-1551268099_3  ...  False\n",
              "\n",
              "[18108 rows x 5 columns]"
            ]
          },
          "metadata": {
            "tags": []
          },
          "execution_count": 3
        }
      ]
    },
    {
      "cell_type": "markdown",
      "metadata": {
        "id": "01aVeq6dmEw0"
      },
      "source": [
        "# 3. Inspect data"
      ]
    },
    {
      "cell_type": "code",
      "metadata": {
        "id": "FoU5R7RGoGiG",
        "outputId": "4dc5fa7d-2793-467f-fc3b-5993e95d5da5",
        "colab": {
          "base_uri": "https://localhost:8080/"
        }
      },
      "source": [
        "# No missing data\n",
        "zalo_data.isna().sum()"
      ],
      "execution_count": 17,
      "outputs": [
        {
          "output_type": "execute_result",
          "data": {
            "text/plain": [
              "id          0\n",
              "question    0\n",
              "title       0\n",
              "text        0\n",
              "label       0\n",
              "dtype: int64"
            ]
          },
          "metadata": {
            "tags": []
          },
          "execution_count": 17
        }
      ]
    },
    {
      "cell_type": "code",
      "metadata": {
        "id": "YUUzGyyTmHES",
        "outputId": "4d02a02b-ac07-4d1d-8509-eac66b153d11",
        "colab": {
          "base_uri": "https://localhost:8080/",
          "height": 298
        }
      },
      "source": [
        "# There are more wrong answers than the right ones\n",
        "zalo_data['label'].value_counts().plot(kind='bar')"
      ],
      "execution_count": 4,
      "outputs": [
        {
          "output_type": "execute_result",
          "data": {
            "text/plain": [
              "<matplotlib.axes._subplots.AxesSubplot at 0x7fe6c24c77b8>"
            ]
          },
          "metadata": {
            "tags": []
          },
          "execution_count": 4
        },
        {
          "output_type": "display_data",
          "data": {
            "image/png": "[encoded data removed]",
            "text/plain": [
              "<Figure size 432x288 with 1 Axes>"
            ]
          },
          "metadata": {
            "tags": [],
            "needs_background": "light"
          }
        }
      ]
    },
    {
      "cell_type": "code",
      "metadata": {
        "id": "0NWIK9D5m8A9",
        "outputId": "ff1a4a0d-ab02-4dee-eabd-89fbe0dcced5",
        "colab": {
          "base_uri": "https://localhost:8080/"
        }
      },
      "source": [
        "# Numbers of questions\n",
        "zalo_data['question'].value_counts()"
      ],
      "execution_count": 8,
      "outputs": [
        {
          "output_type": "execute_result",
          "data": {
            "text/plain": [
              "Quê hương của tổng thống Obama ở đâu                 22\n",
              "phó bí thư thành ủy của Hà Nội là ai                 20\n",
              "Chiến tranh Việt Nam bắt đầu năm nào                 15\n",
              "Obama đắc cử vào Thượng viện Hoa Kỳ năm nào          14\n",
              "Hàn Quốc còn có những tên gọi nào                    14\n",
              "                                                     ..\n",
              "Isaac Newton Jr là ai                                 1\n",
              "Hàn Mạc Tử là ai                                      1\n",
              "Tên thật của Lê Thái Tổ là gì                         1\n",
              "ai là người đầu tiên khám phá ra mặt trăng            1\n",
              "Ngọn núi nào được mệnh danh là Nóc nhà Đông Dương     1\n",
              "Name: question, Length: 5070, dtype: int64"
            ]
          },
          "metadata": {
            "tags": []
          },
          "execution_count": 8
        }
      ]
    },
    {
      "cell_type": "code",
      "metadata": {
        "id": "sbwQH2RGnS0T",
        "outputId": "3be9d5e7-a86f-4586-cfdc-61efc1891fc9",
        "colab": {
          "base_uri": "https://localhost:8080/"
        }
      },
      "source": [
        "# Number of titles\n",
        "zalo_data['title'].value_counts()"
      ],
      "execution_count": 34,
      "outputs": [
        {
          "output_type": "execute_result",
          "data": {
            "text/plain": [
              "                                        995\n",
              "Việt Nam                                 67\n",
              "Vịnh Hạ Long                             55\n",
              "Ngày Bác Hồ ra đi tìm đường cứu nước     43\n",
              "Hàn Quốc                                 40\n",
              "                                       ... \n",
              "Haruno Sakura                             1\n",
              "An Lão (thị trấn thuộc Bình Định)         1\n",
              "Hậu Bổn                                   1\n",
              "Đại hội Giới trẻ Thế giới 2011            1\n",
              "Quân đội Hoa Kỳ                           1\n",
              "Name: title, Length: 9457, dtype: int64"
            ]
          },
          "metadata": {
            "tags": []
          },
          "execution_count": 34
        }
      ]
    },
    {
      "cell_type": "code",
      "metadata": {
        "id": "COHXnLNFne7K",
        "outputId": "2029c786-7bc2-4a5d-ffac-dfbcdbd9db97",
        "colab": {
          "base_uri": "https://localhost:8080/",
          "height": 265
        }
      },
      "source": [
        "# Top 10 popular titles excluding the empty one\n",
        "zalo_data['title'].value_counts()[1:11].plot(kind='barh').invert_yaxis()"
      ],
      "execution_count": 37,
      "outputs": [
        {
          "output_type": "display_data",
          "data": {
            "image/png": "[encoded data removed]",
            "text/plain": [
              "<Figure size 432x288 with 1 Axes>"
            ]
          },
          "metadata": {
            "tags": [],
            "needs_background": "light"
          }
        }
      ]
    },
    {
      "cell_type": "code",
      "metadata": {
        "id": "gZM_ccbGomc0",
        "outputId": "0135bacc-4fa7-42da-dc19-56a29485831d",
        "colab": {
          "base_uri": "https://localhost:8080/",
          "height": 402
        }
      },
      "source": [
        "# Cases with empty title\n",
        "zalo_data.query('title == \"\"')"
      ],
      "execution_count": 38,
      "outputs": [
        {
          "output_type": "execute_result",
          "data": {
            "text/html": [
              "<div>\n",
              "<style scoped>\n",
              "    .dataframe tbody tr th:only-of-type {\n",
              "        vertical-align: middle;\n",
              "    }\n",
              "\n",
              "    .dataframe tbody tr th {\n",
              "        vertical-align: top;\n",
              "    }\n",
              "\n",
              "    .dataframe thead th {\n",
              "        text-align: right;\n",
              "    }\n",
              "</style>\n",
              "<table border=\"1\" class=\"dataframe\">\n",
              "  <thead>\n",
              "    <tr style=\"text-align: right;\">\n",
              "      <th></th>\n",
              "      <th>id</th>\n",
              "      <th>question</th>\n",
              "      <th>title</th>\n",
              "      <th>text</th>\n",
              "      <th>label</th>\n",
              "    </tr>\n",
              "  </thead>\n",
              "  <tbody>\n",
              "    <tr>\n",
              "      <th>22</th>\n",
              "      <td>u5-1570381939_0</td>\n",
              "      <td>Đế quốc Mông Cổ tồn tại khoảng thời gian nào</td>\n",
              "      <td></td>\n",
              "      <td>Đế quốc Mông Cổ (tiếng Mông Cổ: Монголын эзэнт...</td>\n",
              "      <td>True</td>\n",
              "    </tr>\n",
              "    <tr>\n",
              "      <th>37</th>\n",
              "      <td>u5-1570381734_0</td>\n",
              "      <td>Bangladesh có diện tích đứng thứ mấy thế giới</td>\n",
              "      <td></td>\n",
              "      <td>Dân số Bangladesh xếp hạng thứ bảy trên thế gi...</td>\n",
              "      <td>True</td>\n",
              "    </tr>\n",
              "    <tr>\n",
              "      <th>43</th>\n",
              "      <td>u5-1570381646_0</td>\n",
              "      <td>Tôn Trung Sơn là ai</td>\n",
              "      <td></td>\n",
              "      <td>Tôn Trung Sơn, nguyên danh là Tôn Văn, tự Tải ...</td>\n",
              "      <td>True</td>\n",
              "    </tr>\n",
              "    <tr>\n",
              "      <th>55</th>\n",
              "      <td>u5-1570381394_0</td>\n",
              "      <td>Iran nằm ở khu vực nào</td>\n",
              "      <td></td>\n",
              "      <td>Iran (tiếng Ba Tư: ایران‎ Irān [ʔiːˈɾɒːn] (ngh...</td>\n",
              "      <td>True</td>\n",
              "    </tr>\n",
              "    <tr>\n",
              "      <th>85</th>\n",
              "      <td>u5-1570380924_0</td>\n",
              "      <td>Giáo hoàng là ai</td>\n",
              "      <td></td>\n",
              "      <td>Giáo hoàng là vị giám mục của Giáo phận Rôma, ...</td>\n",
              "      <td>True</td>\n",
              "    </tr>\n",
              "    <tr>\n",
              "      <th>...</th>\n",
              "      <td>...</td>\n",
              "      <td>...</td>\n",
              "      <td>...</td>\n",
              "      <td>...</td>\n",
              "      <td>...</td>\n",
              "    </tr>\n",
              "    <tr>\n",
              "      <th>13053</th>\n",
              "      <td>u3-1557223614_0</td>\n",
              "      <td>Ở thủ đô Hà Nội có tất cả bao nhiêu Quận</td>\n",
              "      <td></td>\n",
              "      <td>Sau đợt mở rộng địa giới hành chính vào tháng ...</td>\n",
              "      <td>True</td>\n",
              "    </tr>\n",
              "    <tr>\n",
              "      <th>13058</th>\n",
              "      <td>u8-1557223614_0</td>\n",
              "      <td>Việt Nam hiện tại có bao nhiêu tỉnh và thành phố</td>\n",
              "      <td></td>\n",
              "      <td>Việt Nam có 63 tỉnh thành phố trực thuộc Trung...</td>\n",
              "      <td>True</td>\n",
              "    </tr>\n",
              "    <tr>\n",
              "      <th>13061</th>\n",
              "      <td>u3-1557223454_0</td>\n",
              "      <td>Một ván cờ vua mỗi bên có bao nhiêu quân</td>\n",
              "      <td></td>\n",
              "      <td>Cờ vua (tên tiếng Anh: Chess), trước kia còn đ...</td>\n",
              "      <td>True</td>\n",
              "    </tr>\n",
              "    <tr>\n",
              "      <th>13091</th>\n",
              "      <td>u8-1557222362_0</td>\n",
              "      <td>Cách mạng tháng 10 Nga diễn ra vào năm nào</td>\n",
              "      <td></td>\n",
              "      <td>Cách mạng Tháng Mười nổ ra vào ngày 24 tháng 1...</td>\n",
              "      <td>True</td>\n",
              "    </tr>\n",
              "    <tr>\n",
              "      <th>13104</th>\n",
              "      <td>u8-1557221254_0</td>\n",
              "      <td>Máy bay được phát minh lần đầu tiên bởi ai</td>\n",
              "      <td></td>\n",
              "      <td>Anh em nhà Wright là hai anh em người Mỹ gồm O...</td>\n",
              "      <td>True</td>\n",
              "    </tr>\n",
              "  </tbody>\n",
              "</table>\n",
              "<p>995 rows × 5 columns</p>\n",
              "</div>"
            ],
            "text/plain": [
              "                    id  ... label\n",
              "22     u5-1570381939_0  ...  True\n",
              "37     u5-1570381734_0  ...  True\n",
              "43     u5-1570381646_0  ...  True\n",
              "55     u5-1570381394_0  ...  True\n",
              "85     u5-1570380924_0  ...  True\n",
              "...                ...  ...   ...\n",
              "13053  u3-1557223614_0  ...  True\n",
              "13058  u8-1557223614_0  ...  True\n",
              "13061  u3-1557223454_0  ...  True\n",
              "13091  u8-1557222362_0  ...  True\n",
              "13104  u8-1557221254_0  ...  True\n",
              "\n",
              "[995 rows x 5 columns]"
            ]
          },
          "metadata": {
            "tags": []
          },
          "execution_count": 38
        }
      ]
    },
    {
      "cell_type": "code",
      "metadata": {
        "id": "u7c4taVdqmFS"
      },
      "source": [
        ""
      ],
      "execution_count": null,
      "outputs": []
    }
  ]
}