{
 "cells": [
  {
   "cell_type": "markdown",
   "metadata": {},
   "source": [
    "# Load libraries"
   ]
  },
  {
   "cell_type": "code",
   "execution_count": 1,
   "metadata": {
    "ExecuteTime": {
     "end_time": "2020-12-02T02:53:46.955007Z",
     "start_time": "2020-12-02T02:53:42.379355Z"
    }
   },
   "outputs": [],
   "source": [
    "import modeling\n",
    "import evaluation\n",
    "from utils import data_loading\n",
    "import matplotlib.pyplot as plt\n",
    "import pickle\n",
    "%matplotlib inline\n",
    "\n",
    "import warnings\n",
    "warnings.filterwarnings('ignore')"
   ]
  },
  {
   "cell_type": "markdown",
   "metadata": {},
   "source": [
    "# Load data"
   ]
  },
  {
   "cell_type": "code",
   "execution_count": 2,
   "metadata": {
    "ExecuteTime": {
     "end_time": "2020-12-02T02:53:49.265572Z",
     "start_time": "2020-12-02T02:53:48.715573Z"
    }
   },
   "outputs": [
    {
     "data": {
      "text/html": [
       "<div>\n",
       "<style scoped>\n",
       "    .dataframe tbody tr th:only-of-type {\n",
       "        vertical-align: middle;\n",
       "    }\n",
       "\n",
       "    .dataframe tbody tr th {\n",
       "        vertical-align: top;\n",
       "    }\n",
       "\n",
       "    .dataframe thead th {\n",
       "        text-align: right;\n",
       "    }\n",
       "</style>\n",
       "<table border=\"1\" class=\"dataframe\">\n",
       "  <thead>\n",
       "    <tr style=\"text-align: right;\">\n",
       "      <th></th>\n",
       "      <th>question</th>\n",
       "      <th>text</th>\n",
       "      <th>label</th>\n",
       "    </tr>\n",
       "  </thead>\n",
       "  <tbody>\n",
       "    <tr>\n",
       "      <th>0</th>\n",
       "      <td>Quang Hải giành được chức vô địch U21 quốc gia...</td>\n",
       "      <td>Năm 2013 , Nguyễn Quang Hải giành chức vô địch...</td>\n",
       "      <td>True</td>\n",
       "    </tr>\n",
       "    <tr>\n",
       "      <th>1</th>\n",
       "      <td>Quang Hải giành được chức vô địch U21 quốc gia...</td>\n",
       "      <td>Sau chức vô địch U-21 quốc gia 2013 , Nguyễn Q...</td>\n",
       "      <td>True</td>\n",
       "    </tr>\n",
       "    <tr>\n",
       "      <th>2</th>\n",
       "      <td>Quang Hải giành được chức vô địch U21 quốc gia...</td>\n",
       "      <td>Anh bắt đầu gia nhập lò đào tạo trẻ Hà Nội T&amp;T...</td>\n",
       "      <td>False</td>\n",
       "    </tr>\n",
       "    <tr>\n",
       "      <th>3</th>\n",
       "      <td>Quang Hải giành được chức vô địch U21 quốc gia...</td>\n",
       "      <td>Năm 2011 , Nguyễn Quang Hải mới 14 tuổi được g...</td>\n",
       "      <td>False</td>\n",
       "    </tr>\n",
       "    <tr>\n",
       "      <th>4</th>\n",
       "      <td>Mỗi hiệp bóng đá kéo dài bao lâu</td>\n",
       "      <td>Một trận đấu bóng đá thông thường có hai hiệp ...</td>\n",
       "      <td>True</td>\n",
       "    </tr>\n",
       "    <tr>\n",
       "      <th>...</th>\n",
       "      <td>...</td>\n",
       "      <td>...</td>\n",
       "      <td>...</td>\n",
       "    </tr>\n",
       "    <tr>\n",
       "      <th>5490</th>\n",
       "      <td>Ai đã xác định Vaginailis?</td>\n",
       "      <td>Có khoảng 58 triệu ca nhiễm bệnh này trong năm...</td>\n",
       "      <td>True</td>\n",
       "    </tr>\n",
       "    <tr>\n",
       "      <th>5491</th>\n",
       "      <td>Bộ phận nào trong quá khứ có quyền ra quyết đị...</td>\n",
       "      <td>Hiến pháp Hoa Kỳ phân chia quyền lực giữa hai ...</td>\n",
       "      <td>True</td>\n",
       "    </tr>\n",
       "    <tr>\n",
       "      <th>5492</th>\n",
       "      <td>Lễ trao giải diễn ra khi nào?</td>\n",
       "      <td>Lễ trao giải Oscar lần thứ 89, tổ chức bởi Việ...</td>\n",
       "      <td>True</td>\n",
       "    </tr>\n",
       "    <tr>\n",
       "      <th>5493</th>\n",
       "      <td>Các mẫu được nhắm đến ai?</td>\n",
       "      <td>Dòng  Nokia 3000 chủ yếu là điện thoại tầm tru...</td>\n",
       "      <td>True</td>\n",
       "    </tr>\n",
       "    <tr>\n",
       "      <th>5494</th>\n",
       "      <td>DEF có nghĩa là gì?</td>\n",
       "      <td>Dung dịch xử lý khí thải động cơ diesel (viết ...</td>\n",
       "      <td>True</td>\n",
       "    </tr>\n",
       "  </tbody>\n",
       "</table>\n",
       "<p>24900 rows × 3 columns</p>\n",
       "</div>"
      ],
      "text/plain": [
       "                                               question  \\\n",
       "0     Quang Hải giành được chức vô địch U21 quốc gia...   \n",
       "1     Quang Hải giành được chức vô địch U21 quốc gia...   \n",
       "2     Quang Hải giành được chức vô địch U21 quốc gia...   \n",
       "3     Quang Hải giành được chức vô địch U21 quốc gia...   \n",
       "4                      Mỗi hiệp bóng đá kéo dài bao lâu   \n",
       "...                                                 ...   \n",
       "5490                      Ai đã xác định Vaginailis?   \n",
       "5491  Bộ phận nào trong quá khứ có quyền ra quyết đị...   \n",
       "5492                     Lễ trao giải diễn ra khi nào?    \n",
       "5493                          Các mẫu được nhắm đến ai?   \n",
       "5494                                DEF có nghĩa là gì?   \n",
       "\n",
       "                                                   text  label  \n",
       "0     Năm 2013 , Nguyễn Quang Hải giành chức vô địch...   True  \n",
       "1     Sau chức vô địch U-21 quốc gia 2013 , Nguyễn Q...   True  \n",
       "2     Anh bắt đầu gia nhập lò đào tạo trẻ Hà Nội T&T...  False  \n",
       "3     Năm 2011 , Nguyễn Quang Hải mới 14 tuổi được g...  False  \n",
       "4     Một trận đấu bóng đá thông thường có hai hiệp ...   True  \n",
       "...                                                 ...    ...  \n",
       "5490  Có khoảng 58 triệu ca nhiễm bệnh này trong năm...   True  \n",
       "5491  Hiến pháp Hoa Kỳ phân chia quyền lực giữa hai ...   True  \n",
       "5492  Lễ trao giải Oscar lần thứ 89, tổ chức bởi Việ...   True  \n",
       "5493  Dòng  Nokia 3000 chủ yếu là điện thoại tầm tru...   True  \n",
       "5494  Dung dịch xử lý khí thải động cơ diesel (viết ...   True  \n",
       "\n",
       "[24900 rows x 3 columns]"
      ]
     },
     "execution_count": 2,
     "metadata": {},
     "output_type": "execute_result"
    }
   ],
   "source": [
    "train_data = data_loading.load_train(['zaloai', 'mailong25', 'facebook'])\n",
    "test_data = data_loading.load_test(['zaloai', 'mailong25', 'facebook'])\n",
    "train_data"
   ]
  },
  {
   "cell_type": "code",
   "execution_count": 3,
   "metadata": {
    "ExecuteTime": {
     "end_time": "2020-12-02T02:53:50.326738Z",
     "start_time": "2020-12-02T02:53:50.305742Z"
    }
   },
   "outputs": [],
   "source": [
    "X_train = train_data.drop(columns=['label'])\n",
    "y_train = train_data['label']\n",
    "X_test = test_data.drop(columns=['label'])\n",
    "y_test = test_data['label']"
   ]
  },
  {
   "cell_type": "code",
   "execution_count": 4,
   "metadata": {
    "ExecuteTime": {
     "end_time": "2020-12-02T02:53:50.575388Z",
     "start_time": "2020-12-02T02:53:50.569413Z"
    }
   },
   "outputs": [],
   "source": [
    "y_pred = {}"
   ]
  },
  {
   "cell_type": "markdown",
   "metadata": {},
   "source": [
    "# Train models"
   ]
  },
  {
   "cell_type": "markdown",
   "metadata": {},
   "source": [
    "## Naive Bayes"
   ]
  },
  {
   "cell_type": "code",
   "execution_count": 5,
   "metadata": {
    "ExecuteTime": {
     "end_time": "2020-12-01T19:56:35.020728Z",
     "start_time": "2020-12-01T19:54:29.969310Z"
    }
   },
   "outputs": [],
   "source": [
    "model = modeling.get_model('naive_bayes')(vectorizer='tfidf-ngram')\n",
    "model.fit(X_train, y_train)\n",
    "y_pred['Naive Bayes'] = model.predict(X_test)"
   ]
  },
  {
   "cell_type": "code",
   "execution_count": 6,
   "metadata": {
    "ExecuteTime": {
     "end_time": "2020-12-01T19:56:35.270754Z",
     "start_time": "2020-12-01T19:56:35.024715Z"
    },
    "scrolled": true
   },
   "outputs": [
    {
     "data": {
      "image/png": "[encoded data removed]",
      "text/plain": [
       "<Figure size 432x288 with 2 Axes>"
      ]
     },
     "metadata": {
      "needs_background": "light"
     },
     "output_type": "display_data"
    }
   ],
   "source": [
    "evaluation.plot_confusion_matrix(y_test, y_pred['Naive Bayes'])"
   ]
  },
  {
   "cell_type": "code",
   "execution_count": 7,
   "metadata": {
    "ExecuteTime": {
     "end_time": "2020-12-01T19:56:35.300760Z",
     "start_time": "2020-12-01T19:56:35.273715Z"
    }
   },
   "outputs": [
    {
     "data": {
      "text/plain": [
       "0.657580785609005"
      ]
     },
     "execution_count": 7,
     "metadata": {},
     "output_type": "execute_result"
    }
   ],
   "source": [
    "evaluation.get_f1_score(y_test, y_pred['Naive Bayes'])"
   ]
  },
  {
   "cell_type": "markdown",
   "metadata": {},
   "source": [
    "## Bagging"
   ]
  },
  {
   "cell_type": "code",
   "execution_count": 9,
   "metadata": {
    "ExecuteTime": {
     "end_time": "2020-12-01T20:13:01.197183Z",
     "start_time": "2020-12-01T20:04:23.208677Z"
    }
   },
   "outputs": [],
   "source": [
    "model = modeling.get_model('bagging')(vectorizer='tfidf-ngram')\n",
    "model.fit(X_train, y_train)\n",
    "y_pred['Bagging'] = model.predict(X_test)"
   ]
  },
  {
   "cell_type": "code",
   "execution_count": 10,
   "metadata": {
    "ExecuteTime": {
     "end_time": "2020-12-01T20:13:01.412184Z",
     "start_time": "2020-12-01T20:13:01.201187Z"
    }
   },
   "outputs": [
    {
     "data": {
      "image/png": "[encoded data removed]",
      "text/plain": [
       "<Figure size 432x288 with 2 Axes>"
      ]
     },
     "metadata": {
      "needs_background": "light"
     },
     "output_type": "display_data"
    }
   ],
   "source": [
    "evaluation.plot_confusion_matrix(y_test, y_pred['Bagging'])"
   ]
  },
  {
   "cell_type": "code",
   "execution_count": 11,
   "metadata": {
    "ExecuteTime": {
     "end_time": "2020-12-01T20:13:01.428182Z",
     "start_time": "2020-12-01T20:13:01.414183Z"
    }
   },
   "outputs": [
    {
     "data": {
      "text/plain": [
       "0.6724905311908198"
      ]
     },
     "execution_count": 11,
     "metadata": {},
     "output_type": "execute_result"
    }
   ],
   "source": [
    "evaluation.get_f1_score(y_test, y_pred['Bagging'])"
   ]
  },
  {
   "cell_type": "markdown",
   "metadata": {},
   "source": [
    "# Evaluation"
   ]
  },
  {
   "cell_type": "code",
   "execution_count": 12,
   "metadata": {
    "ExecuteTime": {
     "end_time": "2020-12-01T20:16:45.067695Z",
     "start_time": "2020-12-01T20:16:45.050696Z"
    }
   },
   "outputs": [],
   "source": [
    "# pickle.dump(y_pred, open('submissions/survey_remain.pkl', 'wb'))"
   ]
  },
  {
   "cell_type": "code",
   "execution_count": 5,
   "metadata": {
    "ExecuteTime": {
     "end_time": "2020-12-02T02:53:59.655018Z",
     "start_time": "2020-12-02T02:53:59.647020Z"
    }
   },
   "outputs": [
    {
     "data": {
      "text/plain": [
       "{'Rocchio': array([ True,  True,  True, ...,  True,  True,  True]),\n",
       " 'KNN': array([ True,  True,  True, ...,  True,  True,  True])}"
      ]
     },
     "execution_count": 5,
     "metadata": {},
     "output_type": "execute_result"
    }
   ],
   "source": [
    "with open('submissions/survey_neighbors.pkl', 'rb') as f:\n",
    "    y_neighbors = pickle.load(f)\n",
    "y_neighbors"
   ]
  },
  {
   "cell_type": "code",
   "execution_count": 6,
   "metadata": {
    "ExecuteTime": {
     "end_time": "2020-12-02T02:53:59.981523Z",
     "start_time": "2020-12-02T02:53:59.961486Z"
    }
   },
   "outputs": [
    {
     "data": {
      "text/plain": [
       "{'LinearSVC': array([False, False, False, ...,  True,  True,  True]),\n",
       " 'SVC': array([False, False, False, ...,  True,  True,  True])}"
      ]
     },
     "execution_count": 6,
     "metadata": {},
     "output_type": "execute_result"
    }
   ],
   "source": [
    "with open('submissions/survey_svm.pkl', 'rb') as f:\n",
    "    y_svm = pickle.load(f)\n",
    "y_svm"
   ]
  },
  {
   "cell_type": "code",
   "execution_count": 7,
   "metadata": {
    "ExecuteTime": {
     "end_time": "2020-12-02T02:54:00.357940Z",
     "start_time": "2020-12-02T02:54:00.341943Z"
    }
   },
   "outputs": [
    {
     "data": {
      "text/plain": [
       "{'Random Forest': array([False, False, False, ...,  True,  True,  True]),\n",
       " 'Extra Trees': array([False, False, False, ...,  True,  True,  True])}"
      ]
     },
     "execution_count": 7,
     "metadata": {},
     "output_type": "execute_result"
    }
   ],
   "source": [
    "with open('submissions/survey_tree_based.pkl', 'rb') as f:\n",
    "    y_tree_based = pickle.load(f)\n",
    "y_tree_based"
   ]
  },
  {
   "cell_type": "code",
   "execution_count": 8,
   "metadata": {
    "ExecuteTime": {
     "end_time": "2020-12-02T02:54:00.733879Z",
     "start_time": "2020-12-02T02:54:00.720884Z"
    }
   },
   "outputs": [
    {
     "data": {
      "text/plain": [
       "{'XGBoost': array([False, False,  True, ...,  True,  True,  True]),\n",
       " 'LightGBM': array([False, False, False, ...,  True,  True,  True])}"
      ]
     },
     "execution_count": 8,
     "metadata": {},
     "output_type": "execute_result"
    }
   ],
   "source": [
    "with open('submissions/survey_boosting.pkl', 'rb') as f:\n",
    "    y_boosting = pickle.load(f)\n",
    "y_boosting"
   ]
  },
  {
   "cell_type": "code",
   "execution_count": 9,
   "metadata": {
    "ExecuteTime": {
     "end_time": "2020-12-02T02:54:01.171296Z",
     "start_time": "2020-12-02T02:54:01.154269Z"
    }
   },
   "outputs": [
    {
     "data": {
      "text/plain": [
       "{'Naive Bayes': array([False,  True, False, ...,  True,  True,  True]),\n",
       " 'Bagging': array([False, False,  True, ...,  True,  True,  True])}"
      ]
     },
     "execution_count": 9,
     "metadata": {},
     "output_type": "execute_result"
    }
   ],
   "source": [
    "with open('submissions/survey_remain.pkl', 'rb') as f:\n",
    "    y_remain = pickle.load(f)\n",
    "y_remain"
   ]
  },
  {
   "cell_type": "code",
   "execution_count": 10,
   "metadata": {
    "ExecuteTime": {
     "end_time": "2020-12-02T02:54:01.933277Z",
     "start_time": "2020-12-02T02:54:01.926283Z"
    }
   },
   "outputs": [
    {
     "data": {
      "text/plain": [
       "{'CRNN+Attention': array([[False],\n",
       "        [ True],\n",
       "        [ True],\n",
       "        ...,\n",
       "        [ True],\n",
       "        [ True],\n",
       "        [ True]]),\n",
       " 'CRNN': array([[ True],\n",
       "        [ True],\n",
       "        [ True],\n",
       "        ...,\n",
       "        [ True],\n",
       "        [ True],\n",
       "        [ True]]),\n",
       " 'Logit': array([[False],\n",
       "        [False],\n",
       "        [False],\n",
       "        ...,\n",
       "        [ True],\n",
       "        [ True],\n",
       "        [ True]])}"
      ]
     },
     "execution_count": 10,
     "metadata": {},
     "output_type": "execute_result"
    }
   ],
   "source": [
    "with open('submissions/survey_neural_net.pkl', 'rb') as f:\n",
    "    y_neural_net = pickle.load(f)\n",
    "y_neural_net"
   ]
  },
  {
   "cell_type": "code",
   "execution_count": 11,
   "metadata": {
    "ExecuteTime": {
     "end_time": "2020-12-02T02:54:03.741158Z",
     "start_time": "2020-12-02T02:54:03.723133Z"
    }
   },
   "outputs": [
    {
     "data": {
      "text/plain": [
       "{'KNN': array([ True,  True,  True, ...,  True,  True,  True]),\n",
       " 'Rocchio': array([ True,  True,  True, ...,  True,  True,  True]),\n",
       " 'Naive Bayes': array([False,  True, False, ...,  True,  True,  True]),\n",
       " 'Extra Trees': array([False, False, False, ...,  True,  True,  True]),\n",
       " 'LinearSVC': array([False, False, False, ...,  True,  True,  True]),\n",
       " 'LightGBM': array([False, False, False, ...,  True,  True,  True]),\n",
       " 'CRNN+Attention': array([[False],\n",
       "        [ True],\n",
       "        [ True],\n",
       "        ...,\n",
       "        [ True],\n",
       "        [ True],\n",
       "        [ True]])}"
      ]
     },
     "execution_count": 11,
     "metadata": {},
     "output_type": "execute_result"
    }
   ],
   "source": [
    "y_pred = {}\n",
    "y_pred['KNN'] = y_neighbors['KNN']\n",
    "y_pred['Rocchio'] = y_neighbors['Rocchio']\n",
    "y_pred['Naive Bayes'] = y_remain['Naive Bayes']\n",
    "y_pred['Extra Trees'] = y_tree_based['Extra Trees']\n",
    "y_pred['LinearSVC'] = y_svm['LinearSVC']\n",
    "y_pred['LightGBM'] = y_boosting['LightGBM']\n",
    "y_pred['CRNN+Attention'] = y_neural_net['CRNN+Attention']\n",
    "y_pred"
   ]
  },
  {
   "cell_type": "code",
   "execution_count": 23,
   "metadata": {
    "ExecuteTime": {
     "end_time": "2020-12-02T02:56:39.826120Z",
     "start_time": "2020-12-02T02:56:39.651120Z"
    }
   },
   "outputs": [
    {
     "data": {
      "image/png": "[encoded data removed]",
      "text/plain": [
       "<Figure size 720x504 with 1 Axes>"
      ]
     },
     "metadata": {
      "needs_background": "light"
     },
     "output_type": "display_data"
    }
   ],
   "source": [
    "evaluation.plot_accuracy(y_test, y_pred, show_values=True)"
   ]
  },
  {
   "cell_type": "code",
   "execution_count": 24,
   "metadata": {
    "ExecuteTime": {
     "end_time": "2020-12-02T02:56:43.260902Z",
     "start_time": "2020-12-02T02:56:43.090665Z"
    }
   },
   "outputs": [
    {
     "data": {
      "image/png": "[encoded data removed]",
      "text/plain": [
       "<Figure size 720x504 with 1 Axes>"
      ]
     },
     "metadata": {
      "needs_background": "light"
     },
     "output_type": "display_data"
    }
   ],
   "source": [
    "evaluation.plot_f1_score(y_test, y_pred, show_values=True)"
   ]
  },
  {
   "cell_type": "code",
   "execution_count": 25,
   "metadata": {
    "ExecuteTime": {
     "end_time": "2020-12-02T02:56:44.198748Z",
     "start_time": "2020-12-02T02:56:44.022477Z"
    }
   },
   "outputs": [
    {
     "data": {
      "image/png": "[encoded data removed]",
      "text/plain": [
       "<Figure size 720x504 with 1 Axes>"
      ]
     },
     "metadata": {
      "needs_background": "light"
     },
     "output_type": "display_data"
    }
   ],
   "source": [
    "evaluation.plot_mcc(y_test, y_pred, show_values=True)"
   ]
  },
  {
   "cell_type": "code",
   "execution_count": null,
   "metadata": {},
   "outputs": [],
   "source": []
  }
 ],
 "metadata": {
  "colab": {
   "collapsed_sections": [],
   "name": "train.ipynb",
   "provenance": [],
   "toc_visible": true
  },
  "kernelspec": {
   "display_name": "Python 3",
   "language": "python",
   "name": "python3"
  },
  "language_info": {
   "codemirror_mode": {
    "name": "ipython",
    "version": 3
   },
   "file_extension": ".py",
   "mimetype": "text/x-python",
   "name": "python",
   "nbconvert_exporter": "python",
   "pygments_lexer": "ipython3",
   "version": "3.7.8"
  },
  "toc": {
   "base_numbering": 1,
   "nav_menu": {},
   "number_sections": true,
   "sideBar": true,
   "skip_h1_title": false,
   "title_cell": "Table of Contents",
   "title_sidebar": "Contents",
   "toc_cell": false,
   "toc_position": {},
   "toc_section_display": true,
   "toc_window_display": false
  }
 },
 "nbformat": 4,
 "nbformat_minor": 1
}
