{
 "cells": [
  {
   "cell_type": "markdown",
   "metadata": {},
   "source": [
    "# Load libraries"
   ]
  },
  {
   "cell_type": "code",
   "execution_count": 1,
   "metadata": {
    "ExecuteTime": {
     "end_time": "2020-12-02T02:35:09.667147Z",
     "start_time": "2020-12-02T02:34:47.063442Z"
    }
   },
   "outputs": [],
   "source": [
    "import modeling\n",
    "import evaluation\n",
    "from utils import data_loading\n",
    "import matplotlib.pyplot as plt\n",
    "import pickle\n",
    "%matplotlib inline\n",
    "\n",
    "import warnings\n",
    "warnings.filterwarnings('ignore')"
   ]
  },
  {
   "cell_type": "markdown",
   "metadata": {},
   "source": [
    "# Load data"
   ]
  },
  {
   "cell_type": "code",
   "execution_count": 2,
   "metadata": {
    "ExecuteTime": {
     "end_time": "2020-12-02T02:35:10.371016Z",
     "start_time": "2020-12-02T02:35:09.670879Z"
    }
   },
   "outputs": [
    {
     "data": {
      "text/html": [
       "<div>\n",
       "<style scoped>\n",
       "    .dataframe tbody tr th:only-of-type {\n",
       "        vertical-align: middle;\n",
       "    }\n",
       "\n",
       "    .dataframe tbody tr th {\n",
       "        vertical-align: top;\n",
       "    }\n",
       "\n",
       "    .dataframe thead th {\n",
       "        text-align: right;\n",
       "    }\n",
       "</style>\n",
       "<table border=\"1\" class=\"dataframe\">\n",
       "  <thead>\n",
       "    <tr style=\"text-align: right;\">\n",
       "      <th></th>\n",
       "      <th>question</th>\n",
       "      <th>text</th>\n",
       "      <th>label</th>\n",
       "    </tr>\n",
       "  </thead>\n",
       "  <tbody>\n",
       "    <tr>\n",
       "      <th>0</th>\n",
       "      <td>Quang Hải giành được chức vô địch U21 quốc gia...</td>\n",
       "      <td>Năm 2013 , Nguyễn Quang Hải giành chức vô địch...</td>\n",
       "      <td>True</td>\n",
       "    </tr>\n",
       "    <tr>\n",
       "      <th>1</th>\n",
       "      <td>Quang Hải giành được chức vô địch U21 quốc gia...</td>\n",
       "      <td>Sau chức vô địch U-21 quốc gia 2013 , Nguyễn Q...</td>\n",
       "      <td>True</td>\n",
       "    </tr>\n",
       "    <tr>\n",
       "      <th>2</th>\n",
       "      <td>Quang Hải giành được chức vô địch U21 quốc gia...</td>\n",
       "      <td>Anh bắt đầu gia nhập lò đào tạo trẻ Hà Nội T&amp;T...</td>\n",
       "      <td>False</td>\n",
       "    </tr>\n",
       "    <tr>\n",
       "      <th>3</th>\n",
       "      <td>Quang Hải giành được chức vô địch U21 quốc gia...</td>\n",
       "      <td>Năm 2011 , Nguyễn Quang Hải mới 14 tuổi được g...</td>\n",
       "      <td>False</td>\n",
       "    </tr>\n",
       "    <tr>\n",
       "      <th>4</th>\n",
       "      <td>Mỗi hiệp bóng đá kéo dài bao lâu</td>\n",
       "      <td>Một trận đấu bóng đá thông thường có hai hiệp ...</td>\n",
       "      <td>True</td>\n",
       "    </tr>\n",
       "    <tr>\n",
       "      <th>...</th>\n",
       "      <td>...</td>\n",
       "      <td>...</td>\n",
       "      <td>...</td>\n",
       "    </tr>\n",
       "    <tr>\n",
       "      <th>5490</th>\n",
       "      <td>Ai đã xác định Vaginailis?</td>\n",
       "      <td>Có khoảng 58 triệu ca nhiễm bệnh này trong năm...</td>\n",
       "      <td>True</td>\n",
       "    </tr>\n",
       "    <tr>\n",
       "      <th>5491</th>\n",
       "      <td>Bộ phận nào trong quá khứ có quyền ra quyết đị...</td>\n",
       "      <td>Hiến pháp Hoa Kỳ phân chia quyền lực giữa hai ...</td>\n",
       "      <td>True</td>\n",
       "    </tr>\n",
       "    <tr>\n",
       "      <th>5492</th>\n",
       "      <td>Lễ trao giải diễn ra khi nào?</td>\n",
       "      <td>Lễ trao giải Oscar lần thứ 89, tổ chức bởi Việ...</td>\n",
       "      <td>True</td>\n",
       "    </tr>\n",
       "    <tr>\n",
       "      <th>5493</th>\n",
       "      <td>Các mẫu được nhắm đến ai?</td>\n",
       "      <td>Dòng  Nokia 3000 chủ yếu là điện thoại tầm tru...</td>\n",
       "      <td>True</td>\n",
       "    </tr>\n",
       "    <tr>\n",
       "      <th>5494</th>\n",
       "      <td>DEF có nghĩa là gì?</td>\n",
       "      <td>Dung dịch xử lý khí thải động cơ diesel (viết ...</td>\n",
       "      <td>True</td>\n",
       "    </tr>\n",
       "  </tbody>\n",
       "</table>\n",
       "<p>24900 rows × 3 columns</p>\n",
       "</div>"
      ],
      "text/plain": [
       "                                               question  \\\n",
       "0     Quang Hải giành được chức vô địch U21 quốc gia...   \n",
       "1     Quang Hải giành được chức vô địch U21 quốc gia...   \n",
       "2     Quang Hải giành được chức vô địch U21 quốc gia...   \n",
       "3     Quang Hải giành được chức vô địch U21 quốc gia...   \n",
       "4                      Mỗi hiệp bóng đá kéo dài bao lâu   \n",
       "...                                                 ...   \n",
       "5490                      Ai đã xác định Vaginailis?   \n",
       "5491  Bộ phận nào trong quá khứ có quyền ra quyết đị...   \n",
       "5492                     Lễ trao giải diễn ra khi nào?    \n",
       "5493                          Các mẫu được nhắm đến ai?   \n",
       "5494                                DEF có nghĩa là gì?   \n",
       "\n",
       "                                                   text  label  \n",
       "0     Năm 2013 , Nguyễn Quang Hải giành chức vô địch...   True  \n",
       "1     Sau chức vô địch U-21 quốc gia 2013 , Nguyễn Q...   True  \n",
       "2     Anh bắt đầu gia nhập lò đào tạo trẻ Hà Nội T&T...  False  \n",
       "3     Năm 2011 , Nguyễn Quang Hải mới 14 tuổi được g...  False  \n",
       "4     Một trận đấu bóng đá thông thường có hai hiệp ...   True  \n",
       "...                                                 ...    ...  \n",
       "5490  Có khoảng 58 triệu ca nhiễm bệnh này trong năm...   True  \n",
       "5491  Hiến pháp Hoa Kỳ phân chia quyền lực giữa hai ...   True  \n",
       "5492  Lễ trao giải Oscar lần thứ 89, tổ chức bởi Việ...   True  \n",
       "5493  Dòng  Nokia 3000 chủ yếu là điện thoại tầm tru...   True  \n",
       "5494  Dung dịch xử lý khí thải động cơ diesel (viết ...   True  \n",
       "\n",
       "[24900 rows x 3 columns]"
      ]
     },
     "execution_count": 2,
     "metadata": {},
     "output_type": "execute_result"
    }
   ],
   "source": [
    "train_data = data_loading.load_train(['zaloai', 'mailong25', 'facebook'])\n",
    "test_data = data_loading.load_test(['zaloai', 'mailong25', 'facebook'])\n",
    "train_data"
   ]
  },
  {
   "cell_type": "code",
   "execution_count": 3,
   "metadata": {
    "ExecuteTime": {
     "end_time": "2020-12-02T02:35:10.386982Z",
     "start_time": "2020-12-02T02:35:10.374978Z"
    }
   },
   "outputs": [],
   "source": [
    "X_train = train_data.drop(columns=['label'])\n",
    "y_train = train_data['label']\n",
    "X_test = test_data.drop(columns=['label'])\n",
    "y_test = test_data['label']"
   ]
  },
  {
   "cell_type": "code",
   "execution_count": 4,
   "metadata": {
    "ExecuteTime": {
     "end_time": "2020-12-02T02:35:10.402980Z",
     "start_time": "2020-12-02T02:35:10.389987Z"
    }
   },
   "outputs": [],
   "source": [
    "y_pred = {}"
   ]
  },
  {
   "cell_type": "markdown",
   "metadata": {},
   "source": [
    "# Train models"
   ]
  },
  {
   "cell_type": "markdown",
   "metadata": {},
   "source": [
    "## Logistic Regression"
   ]
  },
  {
   "cell_type": "code",
   "execution_count": 8,
   "metadata": {
    "ExecuteTime": {
     "end_time": "2020-12-01T22:43:32.379927Z",
     "start_time": "2020-12-01T21:53:52.084929Z"
    }
   },
   "outputs": [
    {
     "name": "stdout",
     "output_type": "stream",
     "text": [
      "Model: \"functional_5\"\n",
      "__________________________________________________________________________________________________\n",
      "Layer (type)                    Output Shape         Param #     Connected to                     \n",
      "==================================================================================================\n",
      "input_5 (InputLayer)            [(None, 40)]         0                                            \n",
      "__________________________________________________________________________________________________\n",
      "input_6 (InputLayer)            [(None, 500)]        0                                            \n",
      "__________________________________________________________________________________________________\n",
      "embedding (Embedding)           (None, 40, 64)       1920000     input_5[0][0]                    \n",
      "__________________________________________________________________________________________________\n",
      "embedding_1 (Embedding)         (None, 500, 64)      1920000     input_6[0][0]                    \n",
      "__________________________________________________________________________________________________\n",
      "flatten (Flatten)               (None, 2560)         0           embedding[0][0]                  \n",
      "__________________________________________________________________________________________________\n",
      "flatten_1 (Flatten)             (None, 32000)        0           embedding_1[0][0]                \n",
      "__________________________________________________________________________________________________\n",
      "concatenate_2 (Concatenate)     (None, 34560)        0           flatten[0][0]                    \n",
      "                                                                 flatten_1[0][0]                  \n",
      "__________________________________________________________________________________________________\n",
      "dense_7 (Dense)                 (None, 10)           345610      concatenate_2[0][0]              \n",
      "__________________________________________________________________________________________________\n",
      "dropout_3 (Dropout)             (None, 10)           0           dense_7[0][0]                    \n",
      "__________________________________________________________________________________________________\n",
      "dense_8 (Dense)                 (None, 1)            11          dropout_3[0][0]                  \n",
      "==================================================================================================\n",
      "Total params: 4,185,621\n",
      "Trainable params: 4,185,621\n",
      "Non-trainable params: 0\n",
      "__________________________________________________________________________________________________\n",
      "Epoch 1/50\n",
      "583/583 [==============================] - 183s 314ms/step - loss: 0.6322 - acc: 0.6455 - val_loss: 0.5633 - val_acc: 0.6985\n",
      "Epoch 2/50\n",
      "583/583 [==============================] - 192s 329ms/step - loss: 0.5623 - acc: 0.7019 - val_loss: 0.5319 - val_acc: 0.7196\n",
      "Epoch 3/50\n",
      "583/583 [==============================] - 194s 333ms/step - loss: 0.5170 - acc: 0.7350 - val_loss: 0.5296 - val_acc: 0.7270\n",
      "Epoch 4/50\n",
      "583/583 [==============================] - 195s 334ms/step - loss: 0.4679 - acc: 0.7674 - val_loss: 0.5654 - val_acc: 0.7179\n",
      "Epoch 5/50\n",
      "583/583 [==============================] - 198s 340ms/step - loss: 0.4205 - acc: 0.7994 - val_loss: 0.5601 - val_acc: 0.7308\n",
      "Epoch 6/50\n",
      "583/583 [==============================] - 193s 332ms/step - loss: 0.3763 - acc: 0.8295 - val_loss: 0.6575 - val_acc: 0.7196\n",
      "Epoch 7/50\n",
      "583/583 [==============================] - 189s 324ms/step - loss: 0.3416 - acc: 0.8507 - val_loss: 0.6671 - val_acc: 0.7204\n",
      "Epoch 8/50\n",
      "583/583 [==============================] - 191s 327ms/step - loss: 0.3086 - acc: 0.8698 - val_loss: 0.6506 - val_acc: 0.7302\n",
      "Epoch 9/50\n",
      "583/583 [==============================] - 187s 321ms/step - loss: 0.2916 - acc: 0.8822 - val_loss: 0.6954 - val_acc: 0.7315\n",
      "Epoch 10/50\n",
      "583/583 [==============================] - 187s 320ms/step - loss: 0.2722 - acc: 0.8885 - val_loss: 0.7231 - val_acc: 0.7286\n",
      "Epoch 11/50\n",
      "583/583 [==============================] - 183s 314ms/step - loss: 0.2659 - acc: 0.8930 - val_loss: 0.8389 - val_acc: 0.7210\n",
      "Epoch 12/50\n",
      "583/583 [==============================] - 175s 301ms/step - loss: 0.2524 - acc: 0.8981 - val_loss: 0.8711 - val_acc: 0.7159\n",
      "Epoch 13/50\n",
      "583/583 [==============================] - 178s 305ms/step - loss: 0.2499 - acc: 0.9012 - val_loss: 0.8670 - val_acc: 0.7231\n",
      "Epoch 14/50\n",
      "583/583 [==============================] - 176s 301ms/step - loss: 0.2457 - acc: 0.9019 - val_loss: 0.8867 - val_acc: 0.7263\n",
      "Epoch 15/50\n",
      "583/583 [==============================] - 175s 301ms/step - loss: 0.2446 - acc: 0.9018 - val_loss: 0.9409 - val_acc: 0.7155\n",
      "Epoch 16/50\n",
      "583/583 [==============================] - 176s 302ms/step - loss: 0.2361 - acc: 0.9084 - val_loss: 0.9193 - val_acc: 0.7228\n"
     ]
    }
   ],
   "source": [
    "model = modeling.get_model('logit-embedding')()\n",
    "model.fit(X_train, y_train)\n",
    "y_pred['Logit'] = model.predict(X_test)"
   ]
  },
  {
   "cell_type": "code",
   "execution_count": 9,
   "metadata": {
    "ExecuteTime": {
     "end_time": "2020-12-01T22:43:32.583770Z",
     "start_time": "2020-12-01T22:43:32.382771Z"
    },
    "scrolled": true
   },
   "outputs": [
    {
     "data": {
      "image/png": "[encoded data removed]",
      "text/plain": [
       "<Figure size 432x288 with 2 Axes>"
      ]
     },
     "metadata": {
      "needs_background": "light"
     },
     "output_type": "display_data"
    }
   ],
   "source": [
    "evaluation.plot_confusion_matrix(y_test, y_pred['Logit'])"
   ]
  },
  {
   "cell_type": "code",
   "execution_count": 10,
   "metadata": {
    "ExecuteTime": {
     "end_time": "2020-12-01T22:43:32.598774Z",
     "start_time": "2020-12-01T22:43:32.586782Z"
    }
   },
   "outputs": [
    {
     "data": {
      "text/plain": [
       "0.693084198424794"
      ]
     },
     "execution_count": 10,
     "metadata": {},
     "output_type": "execute_result"
    }
   ],
   "source": [
    "evaluation.get_f1_score(y_test, y_pred['Logit'])"
   ]
  },
  {
   "cell_type": "markdown",
   "metadata": {},
   "source": [
    "## CRNN"
   ]
  },
  {
   "cell_type": "code",
   "execution_count": 7,
   "metadata": {
    "ExecuteTime": {
     "end_time": "2020-12-01T21:53:52.080963Z",
     "start_time": "2020-12-01T20:48:58.981366Z"
    }
   },
   "outputs": [
    {
     "name": "stdout",
     "output_type": "stream",
     "text": [
      "Model: \"functional_3\"\n",
      "__________________________________________________________________________________________________\n",
      "Layer (type)                    Output Shape         Param #     Connected to                     \n",
      "==================================================================================================\n",
      "input_4 (InputLayer)            [(None, None, 50)]   0                                            \n",
      "__________________________________________________________________________________________________\n",
      "conv1d_3 (Conv1D)               (None, None, 400)    100400      input_4[0][0]                    \n",
      "__________________________________________________________________________________________________\n",
      "input_3 (InputLayer)            [(None, None, 50)]   0                                            \n",
      "__________________________________________________________________________________________________\n",
      "max_pooling1d_3 (MaxPooling1D)  (None, None, 400)    0           conv1d_3[0][0]                   \n",
      "__________________________________________________________________________________________________\n",
      "conv1d_2 (Conv1D)               (None, None, 200)    50200       input_3[0][0]                    \n",
      "__________________________________________________________________________________________________\n",
      "conv1d_4 (Conv1D)               (None, None, 600)    1200600     max_pooling1d_3[0][0]            \n",
      "__________________________________________________________________________________________________\n",
      "max_pooling1d_2 (MaxPooling1D)  (None, None, 200)    0           conv1d_2[0][0]                   \n",
      "__________________________________________________________________________________________________\n",
      "max_pooling1d_4 (MaxPooling1D)  (None, None, 600)    0           conv1d_4[0][0]                   \n",
      "__________________________________________________________________________________________________\n",
      "bidirectional_2 (Bidirectional) (None, 40)           35360       max_pooling1d_2[0][0]            \n",
      "__________________________________________________________________________________________________\n",
      "bidirectional_3 (Bidirectional) (None, 140)          375760      max_pooling1d_4[0][0]            \n",
      "__________________________________________________________________________________________________\n",
      "concatenate_1 (Concatenate)     (None, 180)          0           bidirectional_2[0][0]            \n",
      "                                                                 bidirectional_3[0][0]            \n",
      "__________________________________________________________________________________________________\n",
      "dense_4 (Dense)                 (None, 128)          23168       concatenate_1[0][0]              \n",
      "__________________________________________________________________________________________________\n",
      "dropout_1 (Dropout)             (None, 128)          0           dense_4[0][0]                    \n",
      "__________________________________________________________________________________________________\n",
      "dense_5 (Dense)                 (None, 256)          33024       dropout_1[0][0]                  \n",
      "__________________________________________________________________________________________________\n",
      "dropout_2 (Dropout)             (None, 256)          0           dense_5[0][0]                    \n",
      "__________________________________________________________________________________________________\n",
      "dense_6 (Dense)                 (None, 1)            257         dropout_2[0][0]                  \n",
      "==================================================================================================\n",
      "Total params: 1,818,769\n",
      "Trainable params: 1,818,769\n",
      "Non-trainable params: 0\n",
      "__________________________________________________________________________________________________\n",
      "Epoch 1/50\n",
      "    2/18675 [..............................] - ETA: 1:59:22 - loss: 0.8978 - acc: 0.5000WARNING:tensorflow:Callbacks method `on_train_batch_end` is slow compared to the batch time (batch time: 0.1800s vs `on_train_batch_end` time: 0.5861s). Check your callbacks.\n",
      "18675/18675 [==============================] - 305s 16ms/step - loss: 0.7032 - acc: 0.5749 - val_loss: 0.6873 - val_acc: 0.6369\n",
      "Epoch 2/50\n",
      "18675/18675 [==============================] - 248s 13ms/step - loss: 0.6934 - acc: 0.6164 - val_loss: 0.6753 - val_acc: 0.6222\n",
      "Epoch 3/50\n",
      "18675/18675 [==============================] - 245s 13ms/step - loss: 0.6895 - acc: 0.6253 - val_loss: 0.6676 - val_acc: 0.6458\n",
      "Epoch 4/50\n",
      "18675/18675 [==============================] - 249s 13ms/step - loss: 0.6826 - acc: 0.6341 - val_loss: 0.6695 - val_acc: 0.6424\n",
      "Epoch 5/50\n",
      "18675/18675 [==============================] - 250s 13ms/step - loss: 0.6788 - acc: 0.6367 - val_loss: 0.6630 - val_acc: 0.6427\n",
      "Epoch 6/50\n",
      "18675/18675 [==============================] - 250s 13ms/step - loss: 0.6826 - acc: 0.6404 - val_loss: 0.6623 - val_acc: 0.6435\n",
      "Epoch 7/50\n",
      "18675/18675 [==============================] - 251s 13ms/step - loss: 0.6783 - acc: 0.6444 - val_loss: 0.7328 - val_acc: 0.6235\n",
      "Epoch 8/50\n",
      "18675/18675 [==============================] - 251s 13ms/step - loss: 0.6794 - acc: 0.6446 - val_loss: 0.6880 - val_acc: 0.6556\n",
      "Epoch 9/50\n",
      "18675/18675 [==============================] - 244s 13ms/step - loss: 0.6760 - acc: 0.6444 - val_loss: 0.6897 - val_acc: 0.6196\n",
      "Epoch 10/50\n",
      "18675/18675 [==============================] - 243s 13ms/step - loss: 0.6761 - acc: 0.6480 - val_loss: 0.6962 - val_acc: 0.6435\n",
      "Epoch 11/50\n",
      "18675/18675 [==============================] - 243s 13ms/step - loss: 0.6758 - acc: 0.6513 - val_loss: 0.7038 - val_acc: 0.6296\n",
      "Epoch 12/50\n",
      "18675/18675 [==============================] - 243s 13ms/step - loss: 0.6694 - acc: 0.6549 - val_loss: 0.6812 - val_acc: 0.6424\n",
      "Epoch 13/50\n",
      "18675/18675 [==============================] - 244s 13ms/step - loss: 0.6743 - acc: 0.6528 - val_loss: 0.6679 - val_acc: 0.6504\n",
      "Epoch 14/50\n",
      "18675/18675 [==============================] - 244s 13ms/step - loss: 0.6748 - acc: 0.6576 - val_loss: 0.6866 - val_acc: 0.6466\n",
      "Epoch 15/50\n",
      "18675/18675 [==============================] - 244s 13ms/step - loss: 0.6742 - acc: 0.6605 - val_loss: 0.6690 - val_acc: 0.6448\n"
     ]
    }
   ],
   "source": [
    "model = modeling.get_model('crnn')()\n",
    "model.fit(X_train, y_train)\n",
    "y_pred['CRNN'] = model.predict(X_test)"
   ]
  },
  {
   "cell_type": "code",
   "execution_count": 8,
   "metadata": {
    "ExecuteTime": {
     "end_time": "2020-12-02T02:36:13.868087Z",
     "start_time": "2020-12-02T02:36:13.705100Z"
    }
   },
   "outputs": [
    {
     "data": {
      "image/png": "[encoded data removed]",
      "text/plain": [
       "<Figure size 432x288 with 2 Axes>"
      ]
     },
     "metadata": {
      "needs_background": "light"
     },
     "output_type": "display_data"
    }
   ],
   "source": [
    "evaluation.plot_confusion_matrix(y_test, y_pred['CRNN'])"
   ]
  },
  {
   "cell_type": "code",
   "execution_count": 9,
   "metadata": {
    "ExecuteTime": {
     "end_time": "2020-12-02T02:36:20.393812Z",
     "start_time": "2020-12-02T02:36:20.375813Z"
    }
   },
   "outputs": [
    {
     "data": {
      "text/plain": [
       "0.7270008773320742"
      ]
     },
     "execution_count": 9,
     "metadata": {},
     "output_type": "execute_result"
    }
   ],
   "source": [
    "evaluation.get_f1_score(y_test, y_pred['CRNN'])"
   ]
  },
  {
   "cell_type": "markdown",
   "metadata": {},
   "source": [
    "## CRNN + Attention"
   ]
  },
  {
   "cell_type": "code",
   "execution_count": 5,
   "metadata": {
    "ExecuteTime": {
     "end_time": "2020-12-01T20:46:50.182479Z",
     "start_time": "2020-12-01T19:59:31.029589Z"
    }
   },
   "outputs": [
    {
     "name": "stdout",
     "output_type": "stream",
     "text": [
      "Model: \"functional_1\"\n",
      "__________________________________________________________________________________________________\n",
      "Layer (type)                    Output Shape         Param #     Connected to                     \n",
      "==================================================================================================\n",
      "input_2 (InputLayer)            [(None, None, 50)]   0                                            \n",
      "__________________________________________________________________________________________________\n",
      "conv1d (Conv1D)                 (None, None, 128)    32128       input_2[0][0]                    \n",
      "__________________________________________________________________________________________________\n",
      "max_pooling1d (MaxPooling1D)    (None, None, 128)    0           conv1d[0][0]                     \n",
      "__________________________________________________________________________________________________\n",
      "conv1d_1 (Conv1D)               (None, None, 128)    82048       max_pooling1d[0][0]              \n",
      "__________________________________________________________________________________________________\n",
      "input_1 (InputLayer)            [(None, None, 50)]   0                                            \n",
      "__________________________________________________________________________________________________\n",
      "max_pooling1d_1 (MaxPooling1D)  (None, None, 128)    0           conv1d_1[0][0]                   \n",
      "__________________________________________________________________________________________________\n",
      "bidirectional (Bidirectional)   (None, 128)          58880       input_1[0][0]                    \n",
      "__________________________________________________________________________________________________\n",
      "bidirectional_1 (Bidirectional) (None, 128)          98816       max_pooling1d_1[0][0]            \n",
      "__________________________________________________________________________________________________\n",
      "dense (Dense)                   (None, 128)          16512       bidirectional[0][0]              \n",
      "__________________________________________________________________________________________________\n",
      "dense_1 (Dense)                 (None, 128)          16512       bidirectional_1[0][0]            \n",
      "__________________________________________________________________________________________________\n",
      "multiply (Multiply)             (None, 128)          0           bidirectional[0][0]              \n",
      "                                                                 dense[0][0]                      \n",
      "__________________________________________________________________________________________________\n",
      "multiply_1 (Multiply)           (None, 128)          0           bidirectional_1[0][0]            \n",
      "                                                                 dense_1[0][0]                    \n",
      "__________________________________________________________________________________________________\n",
      "concatenate (Concatenate)       (None, 256)          0           multiply[0][0]                   \n",
      "                                                                 multiply_1[0][0]                 \n",
      "__________________________________________________________________________________________________\n",
      "dense_2 (Dense)                 (None, 128)          32896       concatenate[0][0]                \n",
      "__________________________________________________________________________________________________\n",
      "dropout (Dropout)               (None, 128)          0           dense_2[0][0]                    \n",
      "__________________________________________________________________________________________________\n",
      "dense_3 (Dense)                 (None, 1)            129         dropout[0][0]                    \n",
      "==================================================================================================\n",
      "Total params: 337,921\n",
      "Trainable params: 337,921\n",
      "Non-trainable params: 0\n",
      "__________________________________________________________________________________________________\n",
      "Epoch 1/50\n",
      "    1/18675 [..............................] - ETA: 0s - loss: 0.6933 - acc: 0.0000e+00WARNING:tensorflow:From C:\\Users\\Admin\\AppData\\Roaming\\Python\\Python37\\site-packages\\tensorflow\\python\\ops\\summary_ops_v2.py:1277: stop (from tensorflow.python.eager.profiler) is deprecated and will be removed after 2020-07-01.\n",
      "Instructions for updating:\n",
      "use `tf.profiler.experimental.stop` instead.\n",
      "18675/18675 [==============================] - 266s 14ms/step - loss: 0.6418 - acc: 0.6315 - val_loss: 0.6170 - val_acc: 0.6506\n",
      "Epoch 2/50\n",
      "18675/18675 [==============================] - 214s 11ms/step - loss: 0.6113 - acc: 0.6630 - val_loss: 0.6078 - val_acc: 0.6606\n",
      "Epoch 3/50\n",
      "18675/18675 [==============================] - 227s 12ms/step - loss: 0.5910 - acc: 0.6782 - val_loss: 0.6020 - val_acc: 0.6602\n",
      "Epoch 4/50\n",
      "18675/18675 [==============================] - 219s 12ms/step - loss: 0.5704 - acc: 0.6945 - val_loss: 0.6014 - val_acc: 0.6651\n",
      "Epoch 5/50\n",
      "18675/18675 [==============================] - 209s 11ms/step - loss: 0.5524 - acc: 0.7058 - val_loss: 0.6247 - val_acc: 0.6673\n",
      "Epoch 6/50\n",
      "18675/18675 [==============================] - 210s 11ms/step - loss: 0.5380 - acc: 0.7130 - val_loss: 0.6133 - val_acc: 0.6704\n",
      "Epoch 7/50\n",
      "18675/18675 [==============================] - 211s 11ms/step - loss: 0.5249 - acc: 0.7210 - val_loss: 0.6416 - val_acc: 0.6622\n",
      "Epoch 8/50\n",
      "18675/18675 [==============================] - 208s 11ms/step - loss: 0.5161 - acc: 0.7267 - val_loss: 0.6894 - val_acc: 0.6618\n",
      "Epoch 9/50\n",
      "18675/18675 [==============================] - 214s 11ms/step - loss: 0.5068 - acc: 0.7295 - val_loss: 0.6905 - val_acc: 0.6667\n",
      "Epoch 10/50\n",
      "18675/18675 [==============================] - 212s 11ms/step - loss: 0.5006 - acc: 0.7349 - val_loss: 0.6634 - val_acc: 0.6599\n",
      "Epoch 11/50\n",
      "18675/18675 [==============================] - 216s 12ms/step - loss: 0.4910 - acc: 0.7383 - val_loss: 0.6979 - val_acc: 0.6598\n",
      "Epoch 12/50\n",
      "18675/18675 [==============================] - 211s 11ms/step - loss: 0.4880 - acc: 0.7398 - val_loss: 0.7427 - val_acc: 0.6612\n",
      "Epoch 13/50\n",
      "18675/18675 [==============================] - 214s 11ms/step - loss: 0.4813 - acc: 0.7428 - val_loss: 0.7465 - val_acc: 0.6604\n"
     ]
    },
    {
     "data": {
      "text/plain": [
       "<tensorflow.python.keras.callbacks.History at 0x1d721047848>"
      ]
     },
     "execution_count": 5,
     "metadata": {},
     "output_type": "execute_result"
    }
   ],
   "source": [
    "model = modeling.get_model('crnn-attention')()\n",
    "model.fit(X_train, y_train)"
   ]
  },
  {
   "cell_type": "code",
   "execution_count": 6,
   "metadata": {
    "ExecuteTime": {
     "end_time": "2020-12-01T20:48:58.979374Z",
     "start_time": "2020-12-01T20:46:50.185480Z"
    }
   },
   "outputs": [],
   "source": [
    "y_pred['CRNN+Attention'] = model.predict(X_test)"
   ]
  },
  {
   "cell_type": "code",
   "execution_count": 10,
   "metadata": {
    "ExecuteTime": {
     "end_time": "2020-12-02T02:36:45.402195Z",
     "start_time": "2020-12-02T02:36:45.239195Z"
    }
   },
   "outputs": [
    {
     "data": {
      "image/png": "[encoded data removed]",
      "text/plain": [
       "<Figure size 432x288 with 2 Axes>"
      ]
     },
     "metadata": {
      "needs_background": "light"
     },
     "output_type": "display_data"
    }
   ],
   "source": [
    "evaluation.plot_confusion_matrix(y_test, y_pred['CRNN+Attention'])"
   ]
  },
  {
   "cell_type": "code",
   "execution_count": 11,
   "metadata": {
    "ExecuteTime": {
     "end_time": "2020-12-02T02:36:46.339825Z",
     "start_time": "2020-12-02T02:36:46.326824Z"
    }
   },
   "outputs": [
    {
     "data": {
      "text/plain": [
       "0.7668151799465259"
      ]
     },
     "execution_count": 11,
     "metadata": {},
     "output_type": "execute_result"
    }
   ],
   "source": [
    "evaluation.get_f1_score(y_test, y_pred['CRNN+Attention'])"
   ]
  },
  {
   "cell_type": "markdown",
   "metadata": {},
   "source": [
    "# Evaluation"
   ]
  },
  {
   "cell_type": "code",
   "execution_count": 13,
   "metadata": {
    "ExecuteTime": {
     "end_time": "2020-12-02T02:37:17.832112Z",
     "start_time": "2020-12-02T02:37:17.815128Z"
    }
   },
   "outputs": [],
   "source": [
    "# pickle.dump(y_pred, open('submissions/survey_neural_net.pkl', 'wb'))"
   ]
  },
  {
   "cell_type": "code",
   "execution_count": 14,
   "metadata": {
    "ExecuteTime": {
     "end_time": "2020-12-02T02:37:22.622076Z",
     "start_time": "2020-12-02T02:37:22.611115Z"
    }
   },
   "outputs": [],
   "source": [
    "with open('submissions/survey_neural_net.pkl', 'rb') as f:\n",
    "    y_pred = pickle.load(f)"
   ]
  },
  {
   "cell_type": "code",
   "execution_count": 12,
   "metadata": {
    "ExecuteTime": {
     "end_time": "2020-12-02T02:36:58.654556Z",
     "start_time": "2020-12-02T02:36:58.644522Z"
    }
   },
   "outputs": [
    {
     "data": {
      "text/plain": [
       "{'CRNN+Attention': array([[False],\n",
       "        [ True],\n",
       "        [ True],\n",
       "        ...,\n",
       "        [ True],\n",
       "        [ True],\n",
       "        [ True]]),\n",
       " 'CRNN': array([[ True],\n",
       "        [ True],\n",
       "        [ True],\n",
       "        ...,\n",
       "        [ True],\n",
       "        [ True],\n",
       "        [ True]]),\n",
       " 'Logit': array([[False],\n",
       "        [False],\n",
       "        [False],\n",
       "        ...,\n",
       "        [ True],\n",
       "        [ True],\n",
       "        [ True]])}"
      ]
     },
     "execution_count": 12,
     "metadata": {},
     "output_type": "execute_result"
    }
   ],
   "source": [
    "y_pred"
   ]
  },
  {
   "cell_type": "code",
   "execution_count": 126,
   "metadata": {
    "ExecuteTime": {
     "end_time": "2020-12-02T02:32:59.887685Z",
     "start_time": "2020-12-02T02:32:59.479927Z"
    }
   },
   "outputs": [
    {
     "data": {
      "image/png": "[encoded data removed]",
      "text/plain": [
       "<Figure size 432x288 with 1 Axes>"
      ]
     },
     "metadata": {
      "needs_background": "light"
     },
     "output_type": "display_data"
    }
   ],
   "source": [
    "evaluation.plot_accuracy(y_test, y_pred, show_values=True)"
   ]
  },
  {
   "cell_type": "code",
   "execution_count": 127,
   "metadata": {
    "ExecuteTime": {
     "end_time": "2020-12-02T02:33:06.391360Z",
     "start_time": "2020-12-02T02:33:06.239104Z"
    }
   },
   "outputs": [
    {
     "data": {
      "image/png": "[encoded data removed]",
      "text/plain": [
       "<Figure size 432x288 with 1 Axes>"
      ]
     },
     "metadata": {
      "needs_background": "light"
     },
     "output_type": "display_data"
    }
   ],
   "source": [
    "evaluation.plot_f1_score(y_test, y_pred, show_values=True)"
   ]
  },
  {
   "cell_type": "code",
   "execution_count": 128,
   "metadata": {
    "ExecuteTime": {
     "end_time": "2020-12-02T02:33:07.587383Z",
     "start_time": "2020-12-02T02:33:07.453328Z"
    }
   },
   "outputs": [
    {
     "data": {
      "image/png": "[encoded data removed]",
      "text/plain": [
       "<Figure size 432x288 with 1 Axes>"
      ]
     },
     "metadata": {
      "needs_background": "light"
     },
     "output_type": "display_data"
    }
   ],
   "source": [
    "evaluation.plot_mcc(y_test, y_pred, show_values=True)"
   ]
  },
  {
   "cell_type": "code",
   "execution_count": null,
   "metadata": {},
   "outputs": [],
   "source": []
  }
 ],
 "metadata": {
  "colab": {
   "collapsed_sections": [],
   "name": "train.ipynb",
   "provenance": [],
   "toc_visible": true
  },
  "kernelspec": {
   "display_name": "Python 3",
   "language": "python",
   "name": "python3"
  },
  "language_info": {
   "codemirror_mode": {
    "name": "ipython",
    "version": 3
   },
   "file_extension": ".py",
   "mimetype": "text/x-python",
   "name": "python",
   "nbconvert_exporter": "python",
   "pygments_lexer": "ipython3",
   "version": "3.7.8"
  },
  "toc": {
   "base_numbering": 1,
   "nav_menu": {},
   "number_sections": true,
   "sideBar": true,
   "skip_h1_title": false,
   "title_cell": "Table of Contents",
   "title_sidebar": "Contents",
   "toc_cell": false,
   "toc_position": {},
   "toc_section_display": true,
   "toc_window_display": false
  }
 },
 "nbformat": 4,
 "nbformat_minor": 1
}
