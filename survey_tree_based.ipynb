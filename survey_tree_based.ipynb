{
 "cells": [
  {
   "cell_type": "markdown",
   "metadata": {},
   "source": [
    "# Load libraries"
   ]
  },
  {
   "cell_type": "code",
   "execution_count": 1,
   "metadata": {
    "ExecuteTime": {
     "end_time": "2020-12-01T14:57:27.218283Z",
     "start_time": "2020-12-01T14:57:13.884529Z"
    }
   },
   "outputs": [],
   "source": [
    "import modeling\n",
    "import evaluation\n",
    "from utils import data_loading\n",
    "import matplotlib.pyplot as plt\n",
    "import pickle\n",
    "%matplotlib inline\n",
    "\n",
    "import warnings\n",
    "warnings.filterwarnings('ignore')"
   ]
  },
  {
   "cell_type": "markdown",
   "metadata": {},
   "source": [
    "# Load data"
   ]
  },
  {
   "cell_type": "code",
   "execution_count": 2,
   "metadata": {
    "ExecuteTime": {
     "end_time": "2020-12-01T14:57:27.826694Z",
     "start_time": "2020-12-01T14:57:27.220282Z"
    }
   },
   "outputs": [
    {
     "data": {
      "text/html": [
       "<div>\n",
       "<style scoped>\n",
       "    .dataframe tbody tr th:only-of-type {\n",
       "        vertical-align: middle;\n",
       "    }\n",
       "\n",
       "    .dataframe tbody tr th {\n",
       "        vertical-align: top;\n",
       "    }\n",
       "\n",
       "    .dataframe thead th {\n",
       "        text-align: right;\n",
       "    }\n",
       "</style>\n",
       "<table border=\"1\" class=\"dataframe\">\n",
       "  <thead>\n",
       "    <tr style=\"text-align: right;\">\n",
       "      <th></th>\n",
       "      <th>question</th>\n",
       "      <th>text</th>\n",
       "      <th>label</th>\n",
       "    </tr>\n",
       "  </thead>\n",
       "  <tbody>\n",
       "    <tr>\n",
       "      <th>0</th>\n",
       "      <td>Quang Hải giành được chức vô địch U21 quốc gia...</td>\n",
       "      <td>Năm 2013 , Nguyễn Quang Hải giành chức vô địch...</td>\n",
       "      <td>True</td>\n",
       "    </tr>\n",
       "    <tr>\n",
       "      <th>1</th>\n",
       "      <td>Quang Hải giành được chức vô địch U21 quốc gia...</td>\n",
       "      <td>Sau chức vô địch U-21 quốc gia 2013 , Nguyễn Q...</td>\n",
       "      <td>True</td>\n",
       "    </tr>\n",
       "    <tr>\n",
       "      <th>2</th>\n",
       "      <td>Quang Hải giành được chức vô địch U21 quốc gia...</td>\n",
       "      <td>Anh bắt đầu gia nhập lò đào tạo trẻ Hà Nội T&amp;T...</td>\n",
       "      <td>False</td>\n",
       "    </tr>\n",
       "    <tr>\n",
       "      <th>3</th>\n",
       "      <td>Quang Hải giành được chức vô địch U21 quốc gia...</td>\n",
       "      <td>Năm 2011 , Nguyễn Quang Hải mới 14 tuổi được g...</td>\n",
       "      <td>False</td>\n",
       "    </tr>\n",
       "    <tr>\n",
       "      <th>4</th>\n",
       "      <td>Mỗi hiệp bóng đá kéo dài bao lâu</td>\n",
       "      <td>Một trận đấu bóng đá thông thường có hai hiệp ...</td>\n",
       "      <td>True</td>\n",
       "    </tr>\n",
       "    <tr>\n",
       "      <th>...</th>\n",
       "      <td>...</td>\n",
       "      <td>...</td>\n",
       "      <td>...</td>\n",
       "    </tr>\n",
       "    <tr>\n",
       "      <th>5490</th>\n",
       "      <td>Ai đã xác định Vaginailis?</td>\n",
       "      <td>Có khoảng 58 triệu ca nhiễm bệnh này trong năm...</td>\n",
       "      <td>True</td>\n",
       "    </tr>\n",
       "    <tr>\n",
       "      <th>5491</th>\n",
       "      <td>Bộ phận nào trong quá khứ có quyền ra quyết đị...</td>\n",
       "      <td>Hiến pháp Hoa Kỳ phân chia quyền lực giữa hai ...</td>\n",
       "      <td>True</td>\n",
       "    </tr>\n",
       "    <tr>\n",
       "      <th>5492</th>\n",
       "      <td>Lễ trao giải diễn ra khi nào?</td>\n",
       "      <td>Lễ trao giải Oscar lần thứ 89, tổ chức bởi Việ...</td>\n",
       "      <td>True</td>\n",
       "    </tr>\n",
       "    <tr>\n",
       "      <th>5493</th>\n",
       "      <td>Các mẫu được nhắm đến ai?</td>\n",
       "      <td>Dòng  Nokia 3000 chủ yếu là điện thoại tầm tru...</td>\n",
       "      <td>True</td>\n",
       "    </tr>\n",
       "    <tr>\n",
       "      <th>5494</th>\n",
       "      <td>DEF có nghĩa là gì?</td>\n",
       "      <td>Dung dịch xử lý khí thải động cơ diesel (viết ...</td>\n",
       "      <td>True</td>\n",
       "    </tr>\n",
       "  </tbody>\n",
       "</table>\n",
       "<p>24900 rows × 3 columns</p>\n",
       "</div>"
      ],
      "text/plain": [
       "                                               question  \\\n",
       "0     Quang Hải giành được chức vô địch U21 quốc gia...   \n",
       "1     Quang Hải giành được chức vô địch U21 quốc gia...   \n",
       "2     Quang Hải giành được chức vô địch U21 quốc gia...   \n",
       "3     Quang Hải giành được chức vô địch U21 quốc gia...   \n",
       "4                      Mỗi hiệp bóng đá kéo dài bao lâu   \n",
       "...                                                 ...   \n",
       "5490                      Ai đã xác định Vaginailis?   \n",
       "5491  Bộ phận nào trong quá khứ có quyền ra quyết đị...   \n",
       "5492                     Lễ trao giải diễn ra khi nào?    \n",
       "5493                          Các mẫu được nhắm đến ai?   \n",
       "5494                                DEF có nghĩa là gì?   \n",
       "\n",
       "                                                   text  label  \n",
       "0     Năm 2013 , Nguyễn Quang Hải giành chức vô địch...   True  \n",
       "1     Sau chức vô địch U-21 quốc gia 2013 , Nguyễn Q...   True  \n",
       "2     Anh bắt đầu gia nhập lò đào tạo trẻ Hà Nội T&T...  False  \n",
       "3     Năm 2011 , Nguyễn Quang Hải mới 14 tuổi được g...  False  \n",
       "4     Một trận đấu bóng đá thông thường có hai hiệp ...   True  \n",
       "...                                                 ...    ...  \n",
       "5490  Có khoảng 58 triệu ca nhiễm bệnh này trong năm...   True  \n",
       "5491  Hiến pháp Hoa Kỳ phân chia quyền lực giữa hai ...   True  \n",
       "5492  Lễ trao giải Oscar lần thứ 89, tổ chức bởi Việ...   True  \n",
       "5493  Dòng  Nokia 3000 chủ yếu là điện thoại tầm tru...   True  \n",
       "5494  Dung dịch xử lý khí thải động cơ diesel (viết ...   True  \n",
       "\n",
       "[24900 rows x 3 columns]"
      ]
     },
     "execution_count": 2,
     "metadata": {},
     "output_type": "execute_result"
    }
   ],
   "source": [
    "train_data = data_loading.load_train(['zaloai', 'mailong25', 'facebook'])\n",
    "test_data = data_loading.load_test(['zaloai', 'mailong25', 'facebook'])\n",
    "train_data"
   ]
  },
  {
   "cell_type": "code",
   "execution_count": 3,
   "metadata": {
    "ExecuteTime": {
     "end_time": "2020-12-01T14:57:27.842652Z",
     "start_time": "2020-12-01T14:57:27.830668Z"
    }
   },
   "outputs": [],
   "source": [
    "X_train = train_data.drop(columns=['label'])\n",
    "y_train = train_data['label']\n",
    "X_test = test_data.drop(columns=['label'])\n",
    "y_test = test_data['label']"
   ]
  },
  {
   "cell_type": "code",
   "execution_count": 4,
   "metadata": {
    "ExecuteTime": {
     "end_time": "2020-12-01T14:57:27.858650Z",
     "start_time": "2020-12-01T14:57:27.846651Z"
    }
   },
   "outputs": [],
   "source": [
    "y_pred = {}"
   ]
  },
  {
   "cell_type": "markdown",
   "metadata": {},
   "source": [
    "# Train models"
   ]
  },
  {
   "cell_type": "markdown",
   "metadata": {},
   "source": [
    "## Random Forest"
   ]
  },
  {
   "cell_type": "code",
   "execution_count": 13,
   "metadata": {
    "ExecuteTime": {
     "end_time": "2020-12-01T15:07:59.136036Z",
     "start_time": "2020-12-01T15:05:31.226776Z"
    }
   },
   "outputs": [],
   "source": [
    "model = modeling.get_model('random-forest')(vectorizer='tfidf-ngram')\n",
    "model.fit(X_train, y_train)\n",
    "y_pred['Random Forest'] = model.predict(X_test)"
   ]
  },
  {
   "cell_type": "code",
   "execution_count": 14,
   "metadata": {
    "ExecuteTime": {
     "end_time": "2020-12-01T15:07:59.290772Z",
     "start_time": "2020-12-01T15:07:59.138802Z"
    },
    "scrolled": true
   },
   "outputs": [
    {
     "data": {
      "image/png": "[encoded data removed]",
      "text/plain": [
       "<Figure size 432x288 with 2 Axes>"
      ]
     },
     "metadata": {
      "needs_background": "light"
     },
     "output_type": "display_data"
    }
   ],
   "source": [
    "evaluation.plot_confusion_matrix(y_test, y_pred['Random Forest'])"
   ]
  },
  {
   "cell_type": "code",
   "execution_count": 15,
   "metadata": {
    "ExecuteTime": {
     "end_time": "2020-12-01T15:07:59.305773Z",
     "start_time": "2020-12-01T15:07:59.293776Z"
    }
   },
   "outputs": [
    {
     "data": {
      "text/plain": [
       "0.6995047968548135"
      ]
     },
     "execution_count": 15,
     "metadata": {},
     "output_type": "execute_result"
    }
   ],
   "source": [
    "evaluation.get_f1_score(y_test, y_pred['Random Forest'])"
   ]
  },
  {
   "cell_type": "markdown",
   "metadata": {},
   "source": [
    "## Extra Trees"
   ]
  },
  {
   "cell_type": "code",
   "execution_count": 18,
   "metadata": {
    "ExecuteTime": {
     "end_time": "2020-12-01T15:17:05.824676Z",
     "start_time": "2020-12-01T15:13:47.722369Z"
    }
   },
   "outputs": [],
   "source": [
    "model = modeling.get_model('extra_trees')(vectorizer='tfidf-ngram')\n",
    "model.fit(X_train, y_train)\n",
    "y_pred['Extra Trees'] = model.predict(X_test)"
   ]
  },
  {
   "cell_type": "code",
   "execution_count": 19,
   "metadata": {
    "ExecuteTime": {
     "end_time": "2020-12-01T15:17:06.091716Z",
     "start_time": "2020-12-01T15:17:05.828676Z"
    }
   },
   "outputs": [
    {
     "data": {
      "image/png": "[encoded data removed]",
      "text/plain": [
       "<Figure size 432x288 with 2 Axes>"
      ]
     },
     "metadata": {
      "needs_background": "light"
     },
     "output_type": "display_data"
    }
   ],
   "source": [
    "evaluation.plot_confusion_matrix(y_test, y_pred['Extra Trees'])"
   ]
  },
  {
   "cell_type": "code",
   "execution_count": 20,
   "metadata": {
    "ExecuteTime": {
     "end_time": "2020-12-01T15:17:06.107678Z",
     "start_time": "2020-12-01T15:17:06.093673Z"
    }
   },
   "outputs": [
    {
     "data": {
      "text/plain": [
       "0.7004486941326811"
      ]
     },
     "execution_count": 20,
     "metadata": {},
     "output_type": "execute_result"
    }
   ],
   "source": [
    "evaluation.get_f1_score(y_test, y_pred['Extra Trees'])"
   ]
  },
  {
   "cell_type": "markdown",
   "metadata": {},
   "source": [
    "# Evaluation"
   ]
  },
  {
   "cell_type": "code",
   "execution_count": 22,
   "metadata": {
    "ExecuteTime": {
     "end_time": "2020-12-01T15:23:58.900330Z",
     "start_time": "2020-12-01T15:23:58.889343Z"
    }
   },
   "outputs": [],
   "source": [
    "# pickle.dump(y_pred, open('submissions/survey_tree_based.pkl', 'wb'))"
   ]
  },
  {
   "cell_type": "code",
   "execution_count": 29,
   "metadata": {
    "ExecuteTime": {
     "end_time": "2020-11-30T17:46:02.400514Z",
     "start_time": "2020-11-30T17:46:02.382506Z"
    }
   },
   "outputs": [],
   "source": [
    "with open('submissions/survey_tree_based.pkl', 'rb') as f:\n",
    "    y_pred = pickle.load(f)"
   ]
  },
  {
   "cell_type": "code",
   "execution_count": 21,
   "metadata": {
    "ExecuteTime": {
     "end_time": "2020-12-01T15:23:51.072278Z",
     "start_time": "2020-12-01T15:23:51.056283Z"
    }
   },
   "outputs": [
    {
     "data": {
      "text/plain": [
       "{'Random Forest': array([False, False, False, ...,  True,  True,  True]),\n",
       " 'Extra Trees': array([False, False, False, ...,  True,  True,  True])}"
      ]
     },
     "execution_count": 21,
     "metadata": {},
     "output_type": "execute_result"
    }
   ],
   "source": [
    "y_pred"
   ]
  },
  {
   "cell_type": "code",
   "execution_count": 23,
   "metadata": {
    "ExecuteTime": {
     "end_time": "2020-12-01T15:24:04.927729Z",
     "start_time": "2020-12-01T15:24:04.734409Z"
    }
   },
   "outputs": [
    {
     "data": {
      "image/png": "[encoded data removed]",
      "text/plain": [
       "<Figure size 432x288 with 1 Axes>"
      ]
     },
     "metadata": {
      "needs_background": "light"
     },
     "output_type": "display_data"
    }
   ],
   "source": [
    "evaluation.plot_accuracy(y_test, y_pred, show_values=True)"
   ]
  },
  {
   "cell_type": "code",
   "execution_count": 24,
   "metadata": {
    "ExecuteTime": {
     "end_time": "2020-12-01T15:24:12.148116Z",
     "start_time": "2020-12-01T15:24:12.011069Z"
    }
   },
   "outputs": [
    {
     "data": {
      "image/png": "[encoded data removed]",
      "text/plain": [
       "<Figure size 432x288 with 1 Axes>"
      ]
     },
     "metadata": {
      "needs_background": "light"
     },
     "output_type": "display_data"
    }
   ],
   "source": [
    "evaluation.plot_f1_score(y_test, y_pred, show_values=True)"
   ]
  },
  {
   "cell_type": "code",
   "execution_count": 25,
   "metadata": {
    "ExecuteTime": {
     "end_time": "2020-12-01T15:24:18.506624Z",
     "start_time": "2020-12-01T15:24:18.371367Z"
    }
   },
   "outputs": [
    {
     "data": {
      "image/png": "[encoded data removed]",
      "text/plain": [
       "<Figure size 432x288 with 1 Axes>"
      ]
     },
     "metadata": {
      "needs_background": "light"
     },
     "output_type": "display_data"
    }
   ],
   "source": [
    "evaluation.plot_mcc(y_test, y_pred, show_values=True)"
   ]
  },
  {
   "cell_type": "code",
   "execution_count": null,
   "metadata": {},
   "outputs": [],
   "source": []
  }
 ],
 "metadata": {
  "colab": {
   "collapsed_sections": [],
   "name": "train.ipynb",
   "provenance": [],
   "toc_visible": true
  },
  "kernelspec": {
   "display_name": "Python 3",
   "language": "python",
   "name": "python3"
  },
  "language_info": {
   "codemirror_mode": {
    "name": "ipython",
    "version": 3
   },
   "file_extension": ".py",
   "mimetype": "text/x-python",
   "name": "python",
   "nbconvert_exporter": "python",
   "pygments_lexer": "ipython3",
   "version": "3.7.8"
  },
  "toc": {
   "base_numbering": 1,
   "nav_menu": {},
   "number_sections": true,
   "sideBar": true,
   "skip_h1_title": false,
   "title_cell": "Table of Contents",
   "title_sidebar": "Contents",
   "toc_cell": false,
   "toc_position": {},
   "toc_section_display": true,
   "toc_window_display": false
  }
 },
 "nbformat": 4,
 "nbformat_minor": 1
}
