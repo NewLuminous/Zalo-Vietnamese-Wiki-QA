{
  "nbformat": 4,
  "nbformat_minor": 0,
  "metadata": {
    "colab": {
      "name": "train.ipynb",
      "provenance": [],
      "collapsed_sections": [],
      "toc_visible": true
    },
    "kernelspec": {
      "name": "python3",
      "display_name": "Python 3"
    }
  },
  "cells": [
    {
      "cell_type": "markdown",
      "metadata": {
        "id": "_tS0rjTVZIk-"
      },
      "source": [
        "# 1. Clone the repo"
      ]
    },
    {
      "cell_type": "code",
      "metadata": {
        "id": "qDB0D_pfYJs8"
      },
      "source": [
        "# Clone the entire repo.\n",
        "!git clone -b master --single-branch https://github.com/NewLuminous/Zalo-Vietnamese-Wiki-QA.git zaloqa\n",
        "%cd zaloqa"
      ],
      "execution_count": null,
      "outputs": []
    },
    {
      "cell_type": "markdown",
      "metadata": {
        "id": "Qwdz9e0qvZCd"
      },
      "source": [
        "#2. Install & load libraries"
      ]
    },
    {
      "cell_type": "code",
      "metadata": {
        "id": "NM-R44vIvbpl",
        "outputId": "8f761778-a5fc-4e30-895a-a8cf1a93d250",
        "colab": {
          "base_uri": "https://localhost:8080/"
        }
      },
      "source": [
        "!pip install pyvi"
      ],
      "execution_count": 2,
      "outputs": [
        {
          "output_type": "stream",
          "text": [
            "Requirement already satisfied: pyvi in /usr/local/lib/python3.6/dist-packages (0.1)\n",
            "Requirement already satisfied: sklearn-crfsuite in /usr/local/lib/python3.6/dist-packages (from pyvi) (0.3.6)\n",
            "Requirement already satisfied: scikit-learn in /usr/local/lib/python3.6/dist-packages (from pyvi) (0.22.2.post1)\n",
            "Requirement already satisfied: tabulate in /usr/local/lib/python3.6/dist-packages (from sklearn-crfsuite->pyvi) (0.8.7)\n",
            "Requirement already satisfied: six in /usr/local/lib/python3.6/dist-packages (from sklearn-crfsuite->pyvi) (1.15.0)\n",
            "Requirement already satisfied: tqdm>=2.0 in /usr/local/lib/python3.6/dist-packages (from sklearn-crfsuite->pyvi) (4.41.1)\n",
            "Requirement already satisfied: python-crfsuite>=0.8.3 in /usr/local/lib/python3.6/dist-packages (from sklearn-crfsuite->pyvi) (0.9.7)\n",
            "Requirement already satisfied: joblib>=0.11 in /usr/local/lib/python3.6/dist-packages (from scikit-learn->pyvi) (0.17.0)\n",
            "Requirement already satisfied: numpy>=1.11.0 in /usr/local/lib/python3.6/dist-packages (from scikit-learn->pyvi) (1.18.5)\n",
            "Requirement already satisfied: scipy>=0.17.0 in /usr/local/lib/python3.6/dist-packages (from scikit-learn->pyvi) (1.4.1)\n"
          ],
          "name": "stdout"
        }
      ]
    },
    {
      "cell_type": "code",
      "metadata": {
        "id": "a6RVnEoehZj8"
      },
      "source": [
        "import modeling\n",
        "import evaluating\n",
        "%matplotlib inline\n",
        "\n",
        "import warnings\n",
        "warnings.filterwarnings('ignore')"
      ],
      "execution_count": 3,
      "outputs": []
    },
    {
      "cell_type": "code",
      "metadata": {
        "id": "0STOXrXCM_aY",
        "outputId": "44a01d23-77f1-4f66-824c-c37250dd78c6",
        "colab": {
          "base_uri": "https://localhost:8080/"
        }
      },
      "source": [
        "# To reload a module while in the interactive mode\n",
        "import importlib\n",
        "importlib.reload(modeling)"
      ],
      "execution_count": 4,
      "outputs": [
        {
          "output_type": "execute_result",
          "data": {
            "text/plain": [
              "<module 'modeling' from '/content/zaloqa/modeling/__init__.py'>"
            ]
          },
          "metadata": {
            "tags": []
          },
          "execution_count": 4
        }
      ]
    },
    {
      "cell_type": "markdown",
      "metadata": {
        "id": "gRKbkEMeZQm0"
      },
      "source": [
        "# 3. Load data"
      ]
    },
    {
      "cell_type": "code",
      "metadata": {
        "id": "So1HOLq8jy-m",
        "outputId": "de453752-d2b1-46e0-e38d-26314fbeb0ed",
        "colab": {
          "base_uri": "https://localhost:8080/",
          "height": 570
        }
      },
      "source": [
        "from utils import data_loading\n",
        "\n",
        "zalo_data = data_loading.load()\n",
        "zalo_data"
      ],
      "execution_count": 5,
      "outputs": [
        {
          "output_type": "execute_result",
          "data": {
            "text/html": [
              "<div>\n",
              "<style scoped>\n",
              "    .dataframe tbody tr th:only-of-type {\n",
              "        vertical-align: middle;\n",
              "    }\n",
              "\n",
              "    .dataframe tbody tr th {\n",
              "        vertical-align: top;\n",
              "    }\n",
              "\n",
              "    .dataframe thead th {\n",
              "        text-align: right;\n",
              "    }\n",
              "</style>\n",
              "<table border=\"1\" class=\"dataframe\">\n",
              "  <thead>\n",
              "    <tr style=\"text-align: right;\">\n",
              "      <th></th>\n",
              "      <th>question</th>\n",
              "      <th>answer</th>\n",
              "      <th>label</th>\n",
              "    </tr>\n",
              "  </thead>\n",
              "  <tbody>\n",
              "    <tr>\n",
              "      <th>0</th>\n",
              "      <td>Quang Hải giành được chức vô địch U21 quốc gia...</td>\n",
              "      <td>Năm 2013 , Nguyễn Quang Hải giành chức vô địch...</td>\n",
              "      <td>True</td>\n",
              "    </tr>\n",
              "    <tr>\n",
              "      <th>1</th>\n",
              "      <td>Quang Hải giành được chức vô địch U21 quốc gia...</td>\n",
              "      <td>Sau chức vô địch U-21 quốc gia 2013 , Nguyễn Q...</td>\n",
              "      <td>True</td>\n",
              "    </tr>\n",
              "    <tr>\n",
              "      <th>2</th>\n",
              "      <td>Quang Hải giành được chức vô địch U21 quốc gia...</td>\n",
              "      <td>Anh bắt đầu gia nhập lò đào tạo trẻ Hà Nội T&amp;T...</td>\n",
              "      <td>False</td>\n",
              "    </tr>\n",
              "    <tr>\n",
              "      <th>3</th>\n",
              "      <td>Quang Hải giành được chức vô địch U21 quốc gia...</td>\n",
              "      <td>Năm 2011 , Nguyễn Quang Hải mới 14 tuổi được g...</td>\n",
              "      <td>False</td>\n",
              "    </tr>\n",
              "    <tr>\n",
              "      <th>4</th>\n",
              "      <td>Mỗi hiệp bóng đá kéo dài bao lâu</td>\n",
              "      <td>Một trận đấu bóng đá thông thường có hai hiệp ...</td>\n",
              "      <td>True</td>\n",
              "    </tr>\n",
              "    <tr>\n",
              "      <th>...</th>\n",
              "      <td>...</td>\n",
              "      <td>...</td>\n",
              "      <td>...</td>\n",
              "    </tr>\n",
              "    <tr>\n",
              "      <th>18103</th>\n",
              "      <td>Thành phố nào là thủ đô của Costa Rica</td>\n",
              "      <td>San José (tiếng Tây Ban Nha: San José; ) là th...</td>\n",
              "      <td>True</td>\n",
              "    </tr>\n",
              "    <tr>\n",
              "      <th>18104</th>\n",
              "      <td>Thành phố nào là thủ đô của Costa Rica</td>\n",
              "      <td>Vì Costa Rica có địa hình đa dạng nhiều núi no...</td>\n",
              "      <td>True</td>\n",
              "    </tr>\n",
              "    <tr>\n",
              "      <th>18105</th>\n",
              "      <td>Thành phố nào là thủ đô của Costa Rica</td>\n",
              "      <td>Với địa vị là thủ đô, San José là nơi đặt trụ ...</td>\n",
              "      <td>True</td>\n",
              "    </tr>\n",
              "    <tr>\n",
              "      <th>18106</th>\n",
              "      <td>Thành phố nào là thủ đô của Costa Rica</td>\n",
              "      <td>Santa Teresa là một thị xã nhỏ ở tỉnh Puntaren...</td>\n",
              "      <td>True</td>\n",
              "    </tr>\n",
              "    <tr>\n",
              "      <th>18107</th>\n",
              "      <td>Thành phố nào là thủ đô của Costa Rica</td>\n",
              "      <td>Cartago là một tỉnh của Costa Rica. Tỉnh này n...</td>\n",
              "      <td>False</td>\n",
              "    </tr>\n",
              "  </tbody>\n",
              "</table>\n",
              "<p>18108 rows × 3 columns</p>\n",
              "</div>"
            ],
            "text/plain": [
              "                                                question  ...  label\n",
              "0      Quang Hải giành được chức vô địch U21 quốc gia...  ...   True\n",
              "1      Quang Hải giành được chức vô địch U21 quốc gia...  ...   True\n",
              "2      Quang Hải giành được chức vô địch U21 quốc gia...  ...  False\n",
              "3      Quang Hải giành được chức vô địch U21 quốc gia...  ...  False\n",
              "4                       Mỗi hiệp bóng đá kéo dài bao lâu  ...   True\n",
              "...                                                  ...  ...    ...\n",
              "18103             Thành phố nào là thủ đô của Costa Rica  ...   True\n",
              "18104             Thành phố nào là thủ đô của Costa Rica  ...   True\n",
              "18105             Thành phố nào là thủ đô của Costa Rica  ...   True\n",
              "18106             Thành phố nào là thủ đô của Costa Rica  ...   True\n",
              "18107             Thành phố nào là thủ đô của Costa Rica  ...  False\n",
              "\n",
              "[18108 rows x 3 columns]"
            ]
          },
          "metadata": {
            "tags": []
          },
          "execution_count": 5
        }
      ]
    },
    {
      "cell_type": "markdown",
      "metadata": {
        "id": "2XLrq3BHNeih"
      },
      "source": [
        "# 4. Train & evaluate"
      ]
    },
    {
      "cell_type": "code",
      "metadata": {
        "id": "ZtmWtowukxW-"
      },
      "source": [
        "from sklearn.model_selection import train_test_split\n",
        "\n",
        "X = zalo_data.drop(columns=['label'])\n",
        "y = zalo_data['label']\n",
        "X_train, X_test, y_train, y_test = train_test_split(X, y, test_size = 0.1)"
      ],
      "execution_count": 6,
      "outputs": []
    },
    {
      "cell_type": "markdown",
      "metadata": {
        "id": "UmJwtAXbNrUS"
      },
      "source": [
        "## 4.1 LogisticRegression + CountVectorizer"
      ]
    },
    {
      "cell_type": "code",
      "metadata": {
        "id": "GZWBVs9xhRyp"
      },
      "source": [
        "model = modeling.get_model('logit')(vectorizer='count')\n",
        "model.fit(X_train, y_train)\n",
        "y_pred = model.predict(X_test)"
      ],
      "execution_count": 7,
      "outputs": []
    },
    {
      "cell_type": "code",
      "metadata": {
        "id": "ybe-ITf4GFq5",
        "outputId": "21b7f240-1d39-4683-9476-f4d0cd4656ac",
        "colab": {
          "base_uri": "https://localhost:8080/"
        }
      },
      "source": [
        "print('Accuracy:', evaluating.get_accuracy(y_test, y_pred))\n",
        "evaluating.print_classification_report(y_test, y_pred)"
      ],
      "execution_count": 8,
      "outputs": [
        {
          "output_type": "stream",
          "text": [
            "Accuracy: 0.7056874654886803\n",
            "Classification report:\n",
            "               precision    recall  f1-score   support\n",
            "\n",
            "       False       0.76      0.82      0.79      1233\n",
            "        True       0.55      0.46      0.50       578\n",
            "\n",
            "    accuracy                           0.71      1811\n",
            "   macro avg       0.65      0.64      0.64      1811\n",
            "weighted avg       0.69      0.71      0.70      1811\n",
            "\n"
          ],
          "name": "stdout"
        }
      ]
    },
    {
      "cell_type": "code",
      "metadata": {
        "id": "Cq5uggAAC5uH",
        "outputId": "9f5040f4-58a0-4d2f-e4ac-d5ed3d36c069",
        "colab": {
          "base_uri": "https://localhost:8080/",
          "height": 265
        }
      },
      "source": [
        "evaluating.plot_confusion_matrix(y_test, y_pred)"
      ],
      "execution_count": 9,
      "outputs": [
        {
          "output_type": "display_data",
          "data": {
            "image/png": "[encoded data removed]",
            "text/plain": [
              "<Figure size 432x288 with 2 Axes>"
            ]
          },
          "metadata": {
            "tags": [],
            "needs_background": "light"
          }
        }
      ]
    },
    {
      "cell_type": "markdown",
      "metadata": {
        "id": "5LJpm2JEPk4u"
      },
      "source": [
        "#4.2 LogisticRegression + TfidfVectorizer"
      ]
    },
    {
      "cell_type": "code",
      "metadata": {
        "id": "CeQwhwPrQBui"
      },
      "source": [
        "model = modeling.get_model('logit')(vectorizer='tfidf', random_state=42)\n",
        "model.fit(X_train, y_train)\n",
        "y_pred = model.predict(X_test)"
      ],
      "execution_count": 10,
      "outputs": []
    },
    {
      "cell_type": "code",
      "metadata": {
        "id": "4WPlQqSVQDgl",
        "outputId": "935a0cf0-2c44-4c2a-ace7-8ab25f585ec6",
        "colab": {
          "base_uri": "https://localhost:8080/"
        }
      },
      "source": [
        "print('Accuracy:', evaluating.get_accuracy(y_test, y_pred))\n",
        "evaluating.print_classification_report(y_test, y_pred)"
      ],
      "execution_count": 11,
      "outputs": [
        {
          "output_type": "stream",
          "text": [
            "Accuracy: 0.7211485367200442\n",
            "Classification report:\n",
            "               precision    recall  f1-score   support\n",
            "\n",
            "       False       0.74      0.91      0.82      1233\n",
            "        True       0.62      0.33      0.43       578\n",
            "\n",
            "    accuracy                           0.72      1811\n",
            "   macro avg       0.68      0.62      0.62      1811\n",
            "weighted avg       0.70      0.72      0.69      1811\n",
            "\n"
          ],
          "name": "stdout"
        }
      ]
    },
    {
      "cell_type": "code",
      "metadata": {
        "id": "Fhc_qp11QFdc",
        "outputId": "7c8652f5-2ccf-426c-a1bf-84ead41f186f",
        "colab": {
          "base_uri": "https://localhost:8080/",
          "height": 265
        }
      },
      "source": [
        "evaluating.plot_confusion_matrix(y_test, y_pred)"
      ],
      "execution_count": 12,
      "outputs": [
        {
          "output_type": "display_data",
          "data": {
            "image/png": "[encoded data removed]",
            "text/plain": [
              "<Figure size 432x288 with 2 Axes>"
            ]
          },
          "metadata": {
            "tags": [],
            "needs_background": "light"
          }
        }
      ]
    },
    {
      "cell_type": "code",
      "metadata": {
        "id": "-RZ67jAYQfoh"
      },
      "source": [
        ""
      ],
      "execution_count": null,
      "outputs": []
    }
  ]
}