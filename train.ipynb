{
 "cells": [
  {
   "cell_type": "markdown",
   "metadata": {
    "id": "_tS0rjTVZIk-"
   },
   "source": [
    "# Clone the repo"
   ]
  },
  {
   "cell_type": "code",
   "execution_count": null,
   "metadata": {
    "id": "qDB0D_pfYJs8"
   },
   "outputs": [],
   "source": [
    "# # Clone the entire repo.\n",
    "# !git clone -b master --single-branch https://github.com/NewLuminous/Zalo-Vietnamese-Wiki-QA.git zaloqa\n",
    "# %cd zaloqa"
   ]
  },
  {
   "cell_type": "markdown",
   "metadata": {
    "id": "Qwdz9e0qvZCd"
   },
   "source": [
    "# Install & load libraries"
   ]
  },
  {
   "cell_type": "code",
   "execution_count": 1,
   "metadata": {
    "ExecuteTime": {
     "end_time": "2020-11-09T16:47:03.810298Z",
     "start_time": "2020-11-09T16:46:47.464462Z"
    },
    "id": "a6RVnEoehZj8"
   },
   "outputs": [],
   "source": [
    "import modeling\n",
    "import transforming\n",
    "import evaluating\n",
    "from modeling import logit\n",
    "%matplotlib inline\n",
    "\n",
    "import warnings\n",
    "warnings.filterwarnings('ignore')"
   ]
  },
  {
   "cell_type": "code",
   "execution_count": null,
   "metadata": {
    "ExecuteTime": {
     "end_time": "2020-11-07T07:54:15.375403Z",
     "start_time": "2020-11-07T07:54:15.362400Z"
    },
    "colab": {
     "base_uri": "https://localhost:8080/"
    },
    "id": "0STOXrXCM_aY",
    "outputId": "44a01d23-77f1-4f66-824c-c37250dd78c6"
   },
   "outputs": [],
   "source": [
    "# To reload a module while in the interactive mode\n",
    "import importlib\n",
    "importlib.reload(modeling)"
   ]
  },
  {
   "cell_type": "markdown",
   "metadata": {
    "id": "gRKbkEMeZQm0"
   },
   "source": [
    "# Load data"
   ]
  },
  {
   "cell_type": "code",
   "execution_count": 2,
   "metadata": {
    "ExecuteTime": {
     "end_time": "2020-11-07T19:19:46.562226Z",
     "start_time": "2020-11-07T19:19:46.219224Z"
    },
    "colab": {
     "base_uri": "https://localhost:8080/",
     "height": 570
    },
    "id": "So1HOLq8jy-m",
    "outputId": "de453752-d2b1-46e0-e38d-26314fbeb0ed",
    "scrolled": false
   },
   "outputs": [
    {
     "data": {
      "text/html": [
       "<div>\n",
       "<style scoped>\n",
       "    .dataframe tbody tr th:only-of-type {\n",
       "        vertical-align: middle;\n",
       "    }\n",
       "\n",
       "    .dataframe tbody tr th {\n",
       "        vertical-align: top;\n",
       "    }\n",
       "\n",
       "    .dataframe thead th {\n",
       "        text-align: right;\n",
       "    }\n",
       "</style>\n",
       "<table border=\"1\" class=\"dataframe\">\n",
       "  <thead>\n",
       "    <tr style=\"text-align: right;\">\n",
       "      <th></th>\n",
       "      <th>question</th>\n",
       "      <th>text</th>\n",
       "      <th>label</th>\n",
       "    </tr>\n",
       "  </thead>\n",
       "  <tbody>\n",
       "    <tr>\n",
       "      <th>0</th>\n",
       "      <td>Quang Hải giành được chức vô địch U21 quốc gia...</td>\n",
       "      <td>Năm 2013 , Nguyễn Quang Hải giành chức vô địch...</td>\n",
       "      <td>True</td>\n",
       "    </tr>\n",
       "    <tr>\n",
       "      <th>1</th>\n",
       "      <td>Quang Hải giành được chức vô địch U21 quốc gia...</td>\n",
       "      <td>Sau chức vô địch U-21 quốc gia 2013 , Nguyễn Q...</td>\n",
       "      <td>True</td>\n",
       "    </tr>\n",
       "    <tr>\n",
       "      <th>2</th>\n",
       "      <td>Quang Hải giành được chức vô địch U21 quốc gia...</td>\n",
       "      <td>Anh bắt đầu gia nhập lò đào tạo trẻ Hà Nội T&amp;T...</td>\n",
       "      <td>False</td>\n",
       "    </tr>\n",
       "    <tr>\n",
       "      <th>3</th>\n",
       "      <td>Quang Hải giành được chức vô địch U21 quốc gia...</td>\n",
       "      <td>Năm 2011 , Nguyễn Quang Hải mới 14 tuổi được g...</td>\n",
       "      <td>False</td>\n",
       "    </tr>\n",
       "    <tr>\n",
       "      <th>4</th>\n",
       "      <td>Mỗi hiệp bóng đá kéo dài bao lâu</td>\n",
       "      <td>Một trận đấu bóng đá thông thường có hai hiệp ...</td>\n",
       "      <td>True</td>\n",
       "    </tr>\n",
       "    <tr>\n",
       "      <th>...</th>\n",
       "      <td>...</td>\n",
       "      <td>...</td>\n",
       "      <td>...</td>\n",
       "    </tr>\n",
       "    <tr>\n",
       "      <th>18103</th>\n",
       "      <td>Thành phố nào là thủ đô của Costa Rica</td>\n",
       "      <td>San José (tiếng Tây Ban Nha: San José; ) là th...</td>\n",
       "      <td>True</td>\n",
       "    </tr>\n",
       "    <tr>\n",
       "      <th>18104</th>\n",
       "      <td>Thành phố nào là thủ đô của Costa Rica</td>\n",
       "      <td>Vì Costa Rica có địa hình đa dạng nhiều núi no...</td>\n",
       "      <td>True</td>\n",
       "    </tr>\n",
       "    <tr>\n",
       "      <th>18105</th>\n",
       "      <td>Thành phố nào là thủ đô của Costa Rica</td>\n",
       "      <td>Với địa vị là thủ đô, San José là nơi đặt trụ ...</td>\n",
       "      <td>True</td>\n",
       "    </tr>\n",
       "    <tr>\n",
       "      <th>18106</th>\n",
       "      <td>Thành phố nào là thủ đô của Costa Rica</td>\n",
       "      <td>Santa Teresa là một thị xã nhỏ ở tỉnh Puntaren...</td>\n",
       "      <td>True</td>\n",
       "    </tr>\n",
       "    <tr>\n",
       "      <th>18107</th>\n",
       "      <td>Thành phố nào là thủ đô của Costa Rica</td>\n",
       "      <td>Cartago là một tỉnh của Costa Rica. Tỉnh này n...</td>\n",
       "      <td>False</td>\n",
       "    </tr>\n",
       "  </tbody>\n",
       "</table>\n",
       "<p>18108 rows × 3 columns</p>\n",
       "</div>"
      ],
      "text/plain": [
       "                                                question  \\\n",
       "0      Quang Hải giành được chức vô địch U21 quốc gia...   \n",
       "1      Quang Hải giành được chức vô địch U21 quốc gia...   \n",
       "2      Quang Hải giành được chức vô địch U21 quốc gia...   \n",
       "3      Quang Hải giành được chức vô địch U21 quốc gia...   \n",
       "4                       Mỗi hiệp bóng đá kéo dài bao lâu   \n",
       "...                                                  ...   \n",
       "18103             Thành phố nào là thủ đô của Costa Rica   \n",
       "18104             Thành phố nào là thủ đô của Costa Rica   \n",
       "18105             Thành phố nào là thủ đô của Costa Rica   \n",
       "18106             Thành phố nào là thủ đô của Costa Rica   \n",
       "18107             Thành phố nào là thủ đô của Costa Rica   \n",
       "\n",
       "                                                    text  label  \n",
       "0      Năm 2013 , Nguyễn Quang Hải giành chức vô địch...   True  \n",
       "1      Sau chức vô địch U-21 quốc gia 2013 , Nguyễn Q...   True  \n",
       "2      Anh bắt đầu gia nhập lò đào tạo trẻ Hà Nội T&T...  False  \n",
       "3      Năm 2011 , Nguyễn Quang Hải mới 14 tuổi được g...  False  \n",
       "4      Một trận đấu bóng đá thông thường có hai hiệp ...   True  \n",
       "...                                                  ...    ...  \n",
       "18103  San José (tiếng Tây Ban Nha: San José; ) là th...   True  \n",
       "18104  Vì Costa Rica có địa hình đa dạng nhiều núi no...   True  \n",
       "18105  Với địa vị là thủ đô, San José là nơi đặt trụ ...   True  \n",
       "18106  Santa Teresa là một thị xã nhỏ ở tỉnh Puntaren...   True  \n",
       "18107  Cartago là một tỉnh của Costa Rica. Tỉnh này n...  False  \n",
       "\n",
       "[18108 rows x 3 columns]"
      ]
     },
     "execution_count": 2,
     "metadata": {},
     "output_type": "execute_result"
    }
   ],
   "source": [
    "from utils import data_loading\n",
    "\n",
    "zalo_data = data_loading.load(['zaloai'])\n",
    "zalo_data"
   ]
  },
  {
   "cell_type": "markdown",
   "metadata": {
    "id": "2XLrq3BHNeih"
   },
   "source": [
    "# Train & evaluate"
   ]
  },
  {
   "cell_type": "code",
   "execution_count": 3,
   "metadata": {
    "ExecuteTime": {
     "end_time": "2020-11-07T19:19:49.244241Z",
     "start_time": "2020-11-07T19:19:49.218221Z"
    },
    "id": "ZtmWtowukxW-"
   },
   "outputs": [],
   "source": [
    "from sklearn.model_selection import train_test_split\n",
    "\n",
    "X = zalo_data.drop(columns=['label'])\n",
    "y = zalo_data['label']\n",
    "X_train, X_test, y_train, y_test = train_test_split(X, y, test_size = 0.1, random_state=42)"
   ]
  },
  {
   "cell_type": "code",
   "execution_count": 4,
   "metadata": {
    "ExecuteTime": {
     "end_time": "2020-11-07T19:19:49.604805Z",
     "start_time": "2020-11-07T19:19:49.399832Z"
    }
   },
   "outputs": [
    {
     "data": {
      "text/html": [
       "<div>\n",
       "<style scoped>\n",
       "    .dataframe tbody tr th:only-of-type {\n",
       "        vertical-align: middle;\n",
       "    }\n",
       "\n",
       "    .dataframe tbody tr th {\n",
       "        vertical-align: top;\n",
       "    }\n",
       "\n",
       "    .dataframe thead th {\n",
       "        text-align: right;\n",
       "    }\n",
       "</style>\n",
       "<table border=\"1\" class=\"dataframe\">\n",
       "  <thead>\n",
       "    <tr style=\"text-align: right;\">\n",
       "      <th></th>\n",
       "      <th>question</th>\n",
       "      <th>text</th>\n",
       "      <th>label</th>\n",
       "    </tr>\n",
       "  </thead>\n",
       "  <tbody>\n",
       "    <tr>\n",
       "      <th>0</th>\n",
       "      <td>Ai là thủ tướng Ấn Độ hiện tại</td>\n",
       "      <td>Thủ tướng Ấn Độ sắp sang Mỹ gặp ông Trump mua ...</td>\n",
       "      <td>False</td>\n",
       "    </tr>\n",
       "    <tr>\n",
       "      <th>1</th>\n",
       "      <td>Ai là thủ tướng Ấn Độ hiện tại</td>\n",
       "      <td>Narendra Damodardas Modi ( tiếng Gujarat : નરે...</td>\n",
       "      <td>True</td>\n",
       "    </tr>\n",
       "    <tr>\n",
       "      <th>2</th>\n",
       "      <td>Ai là thủ tướng Ấn Độ hiện tại</td>\n",
       "      <td>- Google hôm 3/6 đã xin lỗi Thủ tướng Ấn Độ Na...</td>\n",
       "      <td>True</td>\n",
       "    </tr>\n",
       "    <tr>\n",
       "      <th>3</th>\n",
       "      <td>Ai là thủ tướng Ấn Độ hiện tại</td>\n",
       "      <td>thủ tướng thăm Ấn Độ Nguyễn Xuân Phúc ASEAN th...</td>\n",
       "      <td>False</td>\n",
       "    </tr>\n",
       "    <tr>\n",
       "      <th>4</th>\n",
       "      <td>Ai là thủ tướng Ấn Độ hiện tại</td>\n",
       "      <td>Tin tức về chủ đề \" Thủ tướng Ấn Độ Narendra M...</td>\n",
       "      <td>True</td>\n",
       "    </tr>\n",
       "    <tr>\n",
       "      <th>...</th>\n",
       "      <td>...</td>\n",
       "      <td>...</td>\n",
       "      <td>...</td>\n",
       "    </tr>\n",
       "    <tr>\n",
       "      <th>6001</th>\n",
       "      <td>King đã ủng hộ kiểu phản kháng nào?</td>\n",
       "      <td>King dẫn dắt cuộc tẩy chay xe buýt diễn ra ở M...</td>\n",
       "      <td>True</td>\n",
       "    </tr>\n",
       "    <tr>\n",
       "      <th>6002</th>\n",
       "      <td>Tên ban đầu của Osechi là gì?</td>\n",
       "      <td>Nguyên thủy, osechi gọi là o-sechi với o là mộ...</td>\n",
       "      <td>True</td>\n",
       "    </tr>\n",
       "    <tr>\n",
       "      <th>6003</th>\n",
       "      <td>Dickens đã viết gì trong lời nói đầu năm 1876?</td>\n",
       "      <td>David Copperfield là một tiểu thuyết của Charl...</td>\n",
       "      <td>True</td>\n",
       "    </tr>\n",
       "    <tr>\n",
       "      <th>6004</th>\n",
       "      <td>Stephen Harper có vai trò gì trong chính phủ?</td>\n",
       "      <td>David Lloyd Johnston là một nhà chính trị Cana...</td>\n",
       "      <td>True</td>\n",
       "    </tr>\n",
       "    <tr>\n",
       "      <th>6005</th>\n",
       "      <td>Khách sạn nào được quay mùa 3?</td>\n",
       "      <td>Criss Angel là ngôi sao và cũng là người dàn d...</td>\n",
       "      <td>True</td>\n",
       "    </tr>\n",
       "  </tbody>\n",
       "</table>\n",
       "<p>9460 rows × 3 columns</p>\n",
       "</div>"
      ],
      "text/plain": [
       "                                            question  \\\n",
       "0                     Ai là thủ tướng Ấn Độ hiện tại   \n",
       "1                     Ai là thủ tướng Ấn Độ hiện tại   \n",
       "2                     Ai là thủ tướng Ấn Độ hiện tại   \n",
       "3                     Ai là thủ tướng Ấn Độ hiện tại   \n",
       "4                     Ai là thủ tướng Ấn Độ hiện tại   \n",
       "...                                              ...   \n",
       "6001             King đã ủng hộ kiểu phản kháng nào?   \n",
       "6002                   Tên ban đầu của Osechi là gì?   \n",
       "6003  Dickens đã viết gì trong lời nói đầu năm 1876?   \n",
       "6004   Stephen Harper có vai trò gì trong chính phủ?   \n",
       "6005                  Khách sạn nào được quay mùa 3?   \n",
       "\n",
       "                                                   text  label  \n",
       "0     Thủ tướng Ấn Độ sắp sang Mỹ gặp ông Trump mua ...  False  \n",
       "1     Narendra Damodardas Modi ( tiếng Gujarat : નરે...   True  \n",
       "2     - Google hôm 3/6 đã xin lỗi Thủ tướng Ấn Độ Na...   True  \n",
       "3     thủ tướng thăm Ấn Độ Nguyễn Xuân Phúc ASEAN th...  False  \n",
       "4     Tin tức về chủ đề \" Thủ tướng Ấn Độ Narendra M...   True  \n",
       "...                                                 ...    ...  \n",
       "6001  King dẫn dắt cuộc tẩy chay xe buýt diễn ra ở M...   True  \n",
       "6002  Nguyên thủy, osechi gọi là o-sechi với o là mộ...   True  \n",
       "6003  David Copperfield là một tiểu thuyết của Charl...   True  \n",
       "6004  David Lloyd Johnston là một nhà chính trị Cana...   True  \n",
       "6005  Criss Angel là ngôi sao và cũng là người dàn d...   True  \n",
       "\n",
       "[9460 rows x 3 columns]"
      ]
     },
     "execution_count": 4,
     "metadata": {},
     "output_type": "execute_result"
    }
   ],
   "source": [
    "extra_data = data_loading.load(['mailong25', 'facebook'])\n",
    "X_train = X_train.append(extra_data.drop(columns=['label']))\n",
    "y_train = y_train.append(extra_data['label'])\n",
    "extra_data"
   ]
  },
  {
   "cell_type": "markdown",
   "metadata": {
    "id": "UmJwtAXbNrUS"
   },
   "source": [
    "## LogisticRegression + CountVectorizer"
   ]
  },
  {
   "cell_type": "code",
   "execution_count": 5,
   "metadata": {
    "ExecuteTime": {
     "end_time": "2020-11-07T17:39:31.001022Z",
     "start_time": "2020-11-07T17:37:23.068391Z"
    },
    "id": "GZWBVs9xhRyp"
   },
   "outputs": [],
   "source": [
    "model = modeling.get_model('logit')(vectorizer='count', random_state=42)\n",
    "model.fit(X_train, y_train)\n",
    "y_pred = model.predict(X_test)"
   ]
  },
  {
   "cell_type": "code",
   "execution_count": 6,
   "metadata": {
    "ExecuteTime": {
     "end_time": "2020-11-07T17:39:31.032013Z",
     "start_time": "2020-11-07T17:39:31.003975Z"
    },
    "colab": {
     "base_uri": "https://localhost:8080/"
    },
    "id": "ybe-ITf4GFq5",
    "outputId": "21b7f240-1d39-4683-9476-f4d0cd4656ac"
   },
   "outputs": [
    {
     "name": "stdout",
     "output_type": "stream",
     "text": [
      "Accuracy: 0.6720044174489233\n",
      "Classification report:\n",
      "               precision    recall  f1-score   support\n",
      "\n",
      "       False       0.76      0.77      0.76      1234\n",
      "        True       0.48      0.47      0.48       577\n",
      "\n",
      "    accuracy                           0.67      1811\n",
      "   macro avg       0.62      0.62      0.62      1811\n",
      "weighted avg       0.67      0.67      0.67      1811\n",
      "\n"
     ]
    }
   ],
   "source": [
    "print('Accuracy:', evaluating.get_accuracy(y_test, y_pred))\n",
    "evaluating.print_classification_report(y_test, y_pred)"
   ]
  },
  {
   "cell_type": "code",
   "execution_count": 7,
   "metadata": {
    "ExecuteTime": {
     "end_time": "2020-11-07T17:39:31.280975Z",
     "start_time": "2020-11-07T17:39:31.034975Z"
    },
    "colab": {
     "base_uri": "https://localhost:8080/",
     "height": 265
    },
    "id": "Cq5uggAAC5uH",
    "outputId": "9f5040f4-58a0-4d2f-e4ac-d5ed3d36c069"
   },
   "outputs": [
    {
     "data": {
      "image/png": "[encoded data removed]",
      "text/plain": [
       "<Figure size 432x288 with 2 Axes>"
      ]
     },
     "metadata": {
      "needs_background": "light"
     },
     "output_type": "display_data"
    }
   ],
   "source": [
    "evaluating.plot_confusion_matrix(y_test, y_pred)"
   ]
  },
  {
   "cell_type": "markdown",
   "metadata": {
    "id": "5LJpm2JEPk4u"
   },
   "source": [
    "## LogisticRegression + TfidfVectorizer"
   ]
  },
  {
   "cell_type": "code",
   "execution_count": 8,
   "metadata": {
    "ExecuteTime": {
     "end_time": "2020-11-07T17:43:24.834941Z",
     "start_time": "2020-11-07T17:41:21.315550Z"
    },
    "id": "CeQwhwPrQBui"
   },
   "outputs": [],
   "source": [
    "model = modeling.get_model('logit')(vectorizer='tfidf', random_state=42)\n",
    "model.fit(X_train, y_train)\n",
    "y_pred = model.predict(X_test)"
   ]
  },
  {
   "cell_type": "code",
   "execution_count": 9,
   "metadata": {
    "ExecuteTime": {
     "end_time": "2020-11-07T17:43:24.864733Z",
     "start_time": "2020-11-07T17:43:24.837761Z"
    },
    "colab": {
     "base_uri": "https://localhost:8080/"
    },
    "id": "4WPlQqSVQDgl",
    "outputId": "935a0cf0-2c44-4c2a-ace7-8ab25f585ec6"
   },
   "outputs": [
    {
     "name": "stdout",
     "output_type": "stream",
     "text": [
      "Accuracy: 0.6703478741027057\n",
      "Classification report:\n",
      "               precision    recall  f1-score   support\n",
      "\n",
      "       False       0.75      0.77      0.76      1234\n",
      "        True       0.48      0.45      0.47       577\n",
      "\n",
      "    accuracy                           0.67      1811\n",
      "   macro avg       0.62      0.61      0.61      1811\n",
      "weighted avg       0.67      0.67      0.67      1811\n",
      "\n"
     ]
    }
   ],
   "source": [
    "print('Accuracy:', evaluating.get_accuracy(y_test, y_pred))\n",
    "evaluating.print_classification_report(y_test, y_pred)"
   ]
  },
  {
   "cell_type": "code",
   "execution_count": 10,
   "metadata": {
    "ExecuteTime": {
     "end_time": "2020-11-07T17:43:25.067771Z",
     "start_time": "2020-11-07T17:43:24.868736Z"
    },
    "colab": {
     "base_uri": "https://localhost:8080/",
     "height": 265
    },
    "id": "Fhc_qp11QFdc",
    "outputId": "7c8652f5-2ccf-426c-a1bf-84ead41f186f"
   },
   "outputs": [
    {
     "data": {
      "image/png": "[encoded data removed]",
      "text/plain": [
       "<Figure size 432x288 with 2 Axes>"
      ]
     },
     "metadata": {
      "needs_background": "light"
     },
     "output_type": "display_data"
    }
   ],
   "source": [
    "evaluating.plot_confusion_matrix(y_test, y_pred)"
   ]
  },
  {
   "cell_type": "markdown",
   "metadata": {},
   "source": [
    "## LogisticRegression + Word2Vec"
   ]
  },
  {
   "cell_type": "code",
   "execution_count": null,
   "metadata": {
    "ExecuteTime": {
     "end_time": "2020-11-07T19:22:33.999979Z",
     "start_time": "2020-11-07T19:19:52.831232Z"
    }
   },
   "outputs": [],
   "source": [
    "model = modeling.get_model('logit')(vectorizer='word2vec', random_state=42)\n",
    "model.fit(X_train, y_train)\n",
    "y_pred = model.predict(X_test)"
   ]
  },
  {
   "cell_type": "code",
   "execution_count": 6,
   "metadata": {
    "ExecuteTime": {
     "end_time": "2020-11-07T19:23:07.548440Z",
     "start_time": "2020-11-07T19:23:07.462681Z"
    }
   },
   "outputs": [
    {
     "name": "stdout",
     "output_type": "stream",
     "text": [
      "Accuracy: 0.5924903368304804\n",
      "Classification report:\n",
      "               precision    recall  f1-score   support\n",
      "\n",
      "       False       0.73      0.64      0.68      1234\n",
      "        True       0.39      0.50      0.44       577\n",
      "\n",
      "    accuracy                           0.59      1811\n",
      "   macro avg       0.56      0.57      0.56      1811\n",
      "weighted avg       0.62      0.59      0.60      1811\n",
      "\n"
     ]
    }
   ],
   "source": [
    "print('Accuracy:', evaluating.get_accuracy(y_test, y_pred))\n",
    "evaluating.print_classification_report(y_test, y_pred)"
   ]
  },
  {
   "cell_type": "code",
   "execution_count": 7,
   "metadata": {
    "ExecuteTime": {
     "end_time": "2020-11-07T19:23:35.498281Z",
     "start_time": "2020-11-07T19:23:32.954311Z"
    }
   },
   "outputs": [
    {
     "data": {
      "image/png": "[encoded data removed]",
      "text/plain": [
       "<Figure size 432x288 with 2 Axes>"
      ]
     },
     "metadata": {
      "needs_background": "light"
     },
     "output_type": "display_data"
    }
   ],
   "source": [
    "evaluating.plot_confusion_matrix(y_test, y_pred)"
   ]
  },
  {
   "cell_type": "markdown",
   "metadata": {},
   "source": [
    "# CRNN"
   ]
  },
  {
   "cell_type": "code",
   "execution_count": 12,
   "metadata": {
    "ExecuteTime": {
     "end_time": "2020-11-08T02:21:55.764214Z",
     "start_time": "2020-11-08T01:14:52.651662Z"
    }
   },
   "outputs": [
    {
     "name": "stdout",
     "output_type": "stream",
     "text": [
      "Model: \"functional_3\"\n",
      "__________________________________________________________________________________________________\n",
      "Layer (type)                    Output Shape         Param #     Connected to                     \n",
      "==================================================================================================\n",
      "input_4 (InputLayer)            [(None, None, 50)]   0                                            \n",
      "__________________________________________________________________________________________________\n",
      "conv1d_3 (Conv1D)               (None, None, 400)    100400      input_4[0][0]                    \n",
      "__________________________________________________________________________________________________\n",
      "input_3 (InputLayer)            [(None, None, 50)]   0                                            \n",
      "__________________________________________________________________________________________________\n",
      "max_pooling1d_3 (MaxPooling1D)  (None, None, 400)    0           conv1d_3[0][0]                   \n",
      "__________________________________________________________________________________________________\n",
      "conv1d_2 (Conv1D)               (None, None, 200)    50200       input_3[0][0]                    \n",
      "__________________________________________________________________________________________________\n",
      "conv1d_4 (Conv1D)               (None, None, 600)    1200600     max_pooling1d_3[0][0]            \n",
      "__________________________________________________________________________________________________\n",
      "max_pooling1d_2 (MaxPooling1D)  (None, None, 200)    0           conv1d_2[0][0]                   \n",
      "__________________________________________________________________________________________________\n",
      "max_pooling1d_4 (MaxPooling1D)  (None, None, 600)    0           conv1d_4[0][0]                   \n",
      "__________________________________________________________________________________________________\n",
      "bidirectional_2 (Bidirectional) (None, 40)           35360       max_pooling1d_2[0][0]            \n",
      "__________________________________________________________________________________________________\n",
      "bidirectional_3 (Bidirectional) (None, 140)          375760      max_pooling1d_4[0][0]            \n",
      "__________________________________________________________________________________________________\n",
      "concatenate_1 (Concatenate)     (None, 180)          0           bidirectional_2[0][0]            \n",
      "                                                                 bidirectional_3[0][0]            \n",
      "__________________________________________________________________________________________________\n",
      "dense_4 (Dense)                 (None, 128)          23168       concatenate_1[0][0]              \n",
      "__________________________________________________________________________________________________\n",
      "dropout_1 (Dropout)             (None, 128)          0           dense_4[0][0]                    \n",
      "__________________________________________________________________________________________________\n",
      "dense_5 (Dense)                 (None, 256)          33024       dropout_1[0][0]                  \n",
      "__________________________________________________________________________________________________\n",
      "dropout_2 (Dropout)             (None, 256)          0           dense_5[0][0]                    \n",
      "__________________________________________________________________________________________________\n",
      "dense_6 (Dense)                 (None, 1)            257         dropout_2[0][0]                  \n",
      "==================================================================================================\n",
      "Total params: 1,818,769\n",
      "Trainable params: 1,818,769\n",
      "Non-trainable params: 0\n",
      "__________________________________________________________________________________________________\n",
      "Epoch 1/50\n",
      "    2/19317 [..............................] - ETA: 6:26:54 - loss: 0.6666 - acc: 0.5000WARNING:tensorflow:Callbacks method `on_train_batch_end` is slow compared to the batch time (batch time: 0.0930s vs `on_train_batch_end` time: 2.3098s). Check your callbacks.\n",
      "19317/19317 [==============================] - 320s 17ms/step - loss: 0.6978 - acc: 0.5976 - val_loss: 0.6734 - val_acc: 0.6017\n",
      "Epoch 2/50\n",
      "19317/19317 [==============================] - 263s 14ms/step - loss: 0.6833 - acc: 0.6285 - val_loss: 0.6600 - val_acc: 0.6323\n",
      "Epoch 3/50\n",
      "19317/19317 [==============================] - 265s 14ms/step - loss: 0.6843 - acc: 0.6356 - val_loss: 0.6816 - val_acc: 0.6498\n",
      "Epoch 4/50\n",
      "19317/19317 [==============================] - 264s 14ms/step - loss: 0.6797 - acc: 0.6381 - val_loss: 0.6847 - val_acc: 0.6421\n",
      "Epoch 5/50\n",
      "19317/19317 [==============================] - 270s 14ms/step - loss: 0.6797 - acc: 0.6387 - val_loss: 0.6654 - val_acc: 0.6498\n",
      "Epoch 6/50\n",
      "19317/19317 [==============================] - 265s 14ms/step - loss: 0.6803 - acc: 0.6465 - val_loss: 0.6709 - val_acc: 0.6365\n",
      "Epoch 7/50\n",
      "19317/19317 [==============================] - 265s 14ms/step - loss: 0.6792 - acc: 0.6429 - val_loss: 0.6505 - val_acc: 0.6592\n",
      "Epoch 8/50\n",
      "19317/19317 [==============================] - 265s 14ms/step - loss: 0.6760 - acc: 0.6460 - val_loss: 0.7021 - val_acc: 0.6214\n",
      "Epoch 9/50\n",
      "19317/19317 [==============================] - 261s 14ms/step - loss: 0.6785 - acc: 0.6446 - val_loss: 0.6749 - val_acc: 0.6512\n",
      "Epoch 10/50\n",
      "19317/19317 [==============================] - 262s 14ms/step - loss: 0.6815 - acc: 0.6450 - val_loss: 0.6611 - val_acc: 0.6477\n",
      "Epoch 11/50\n",
      "19317/19317 [==============================] - 266s 14ms/step - loss: 0.6796 - acc: 0.6460 - val_loss: 0.6654 - val_acc: 0.6567\n",
      "Epoch 12/50\n",
      "19317/19317 [==============================] - 264s 14ms/step - loss: 0.6747 - acc: 0.6472 - val_loss: 0.6645 - val_acc: 0.6486\n",
      "Epoch 13/50\n",
      "19317/19317 [==============================] - 263s 14ms/step - loss: 0.6750 - acc: 0.6495 - val_loss: 0.6897 - val_acc: 0.6411\n",
      "Epoch 14/50\n",
      "19317/19317 [==============================] - 263s 14ms/step - loss: 0.6728 - acc: 0.6508 - val_loss: 0.6914 - val_acc: 0.6140\n",
      "Epoch 15/50\n",
      "19317/19317 [==============================] - 261s 13ms/step - loss: 0.6812 - acc: 0.6489 - val_loss: 0.6722 - val_acc: 0.6478\n"
     ]
    },
    {
     "data": {
      "text/plain": [
       "<tensorflow.python.keras.callbacks.History at 0x27b03407088>"
      ]
     },
     "execution_count": 12,
     "metadata": {},
     "output_type": "execute_result"
    }
   ],
   "source": [
    "model = modeling.get_model('crnn')()\n",
    "model.fit(X_train, y_train)"
   ]
  },
  {
   "cell_type": "code",
   "execution_count": 13,
   "metadata": {
    "ExecuteTime": {
     "end_time": "2020-11-08T02:23:12.434956Z",
     "start_time": "2020-11-08T02:21:55.766635Z"
    }
   },
   "outputs": [],
   "source": [
    "y_pred = model.predict(X_test)"
   ]
  },
  {
   "cell_type": "code",
   "execution_count": 14,
   "metadata": {
    "ExecuteTime": {
     "end_time": "2020-11-08T02:23:12.449967Z",
     "start_time": "2020-11-08T02:23:12.436961Z"
    }
   },
   "outputs": [
    {
     "name": "stdout",
     "output_type": "stream",
     "text": [
      "Accuracy: 0.6212037548315847\n",
      "Classification report:\n",
      "               precision    recall  f1-score   support\n",
      "\n",
      "       False       0.67      0.86      0.76      1234\n",
      "        True       0.26      0.10      0.15       577\n",
      "\n",
      "    accuracy                           0.62      1811\n",
      "   macro avg       0.47      0.48      0.45      1811\n",
      "weighted avg       0.54      0.62      0.56      1811\n",
      "\n"
     ]
    }
   ],
   "source": [
    "print('Accuracy:', evaluating.get_accuracy(y_test, y_pred))\n",
    "evaluating.print_classification_report(y_test, y_pred)"
   ]
  },
  {
   "cell_type": "code",
   "execution_count": 15,
   "metadata": {
    "ExecuteTime": {
     "end_time": "2020-11-08T02:23:12.606187Z",
     "start_time": "2020-11-08T02:23:12.452964Z"
    }
   },
   "outputs": [
    {
     "data": {
      "image/png": "[encoded data removed]",
      "text/plain": [
       "<Figure size 432x288 with 2 Axes>"
      ]
     },
     "metadata": {
      "needs_background": "light"
     },
     "output_type": "display_data"
    }
   ],
   "source": [
    "evaluating.plot_confusion_matrix(y_test, y_pred)"
   ]
  },
  {
   "cell_type": "markdown",
   "metadata": {},
   "source": [
    "# CRNN + Attention"
   ]
  },
  {
   "cell_type": "code",
   "execution_count": 8,
   "metadata": {
    "ExecuteTime": {
     "end_time": "2020-11-07T20:19:13.657245Z",
     "start_time": "2020-11-07T19:24:59.790314Z"
    }
   },
   "outputs": [
    {
     "name": "stdout",
     "output_type": "stream",
     "text": [
      "Model: \"functional_1\"\n",
      "__________________________________________________________________________________________________\n",
      "Layer (type)                    Output Shape         Param #     Connected to                     \n",
      "==================================================================================================\n",
      "input_2 (InputLayer)            [(None, None, 50)]   0                                            \n",
      "__________________________________________________________________________________________________\n",
      "conv1d (Conv1D)                 (None, None, 128)    32128       input_2[0][0]                    \n",
      "__________________________________________________________________________________________________\n",
      "max_pooling1d (MaxPooling1D)    (None, None, 128)    0           conv1d[0][0]                     \n",
      "__________________________________________________________________________________________________\n",
      "conv1d_1 (Conv1D)               (None, None, 128)    82048       max_pooling1d[0][0]              \n",
      "__________________________________________________________________________________________________\n",
      "input_1 (InputLayer)            [(None, None, 50)]   0                                            \n",
      "__________________________________________________________________________________________________\n",
      "max_pooling1d_1 (MaxPooling1D)  (None, None, 128)    0           conv1d_1[0][0]                   \n",
      "__________________________________________________________________________________________________\n",
      "bidirectional (Bidirectional)   (None, 128)          58880       input_1[0][0]                    \n",
      "__________________________________________________________________________________________________\n",
      "bidirectional_1 (Bidirectional) (None, 128)          98816       max_pooling1d_1[0][0]            \n",
      "__________________________________________________________________________________________________\n",
      "dense (Dense)                   (None, 128)          16512       bidirectional[0][0]              \n",
      "__________________________________________________________________________________________________\n",
      "dense_1 (Dense)                 (None, 128)          16512       bidirectional_1[0][0]            \n",
      "__________________________________________________________________________________________________\n",
      "multiply (Multiply)             (None, 128)          0           bidirectional[0][0]              \n",
      "                                                                 dense[0][0]                      \n",
      "__________________________________________________________________________________________________\n",
      "multiply_1 (Multiply)           (None, 128)          0           bidirectional_1[0][0]            \n",
      "                                                                 dense_1[0][0]                    \n",
      "__________________________________________________________________________________________________\n",
      "concatenate (Concatenate)       (None, 256)          0           multiply[0][0]                   \n",
      "                                                                 multiply_1[0][0]                 \n",
      "__________________________________________________________________________________________________\n",
      "dense_2 (Dense)                 (None, 128)          32896       concatenate[0][0]                \n",
      "__________________________________________________________________________________________________\n",
      "dropout (Dropout)               (None, 128)          0           dense_2[0][0]                    \n",
      "__________________________________________________________________________________________________\n",
      "dense_3 (Dense)                 (None, 1)            129         dropout[0][0]                    \n",
      "==================================================================================================\n",
      "Total params: 337,921\n",
      "Trainable params: 337,921\n",
      "Non-trainable params: 0\n",
      "__________________________________________________________________________________________________\n",
      "Epoch 1/50\n",
      "    1/19317 [..............................] - ETA: 0s - loss: 0.6930 - acc: 1.0000WARNING:tensorflow:From C:\\Users\\Admin\\AppData\\Roaming\\Python\\Python37\\site-packages\\tensorflow\\python\\ops\\summary_ops_v2.py:1277: stop (from tensorflow.python.eager.profiler) is deprecated and will be removed after 2020-07-01.\n",
      "Instructions for updating:\n",
      "use `tf.profiler.experimental.stop` instead.\n",
      "19317/19317 [==============================] - 282s 15ms/step - loss: 0.6479 - acc: 0.6197 - val_loss: 0.6176 - val_acc: 0.6554\n",
      "Epoch 2/50\n",
      "19317/19317 [==============================] - 236s 12ms/step - loss: 0.6095 - acc: 0.6631 - val_loss: 0.6014 - val_acc: 0.6708\n",
      "Epoch 3/50\n",
      "19317/19317 [==============================] - 231s 12ms/step - loss: 0.5868 - acc: 0.6816 - val_loss: 0.5893 - val_acc: 0.6773\n",
      "Epoch 4/50\n",
      "19317/19317 [==============================] - 232s 12ms/step - loss: 0.5655 - acc: 0.6945 - val_loss: 0.5788 - val_acc: 0.6803\n",
      "Epoch 5/50\n",
      "19317/19317 [==============================] - 238s 12ms/step - loss: 0.5468 - acc: 0.7100 - val_loss: 0.5823 - val_acc: 0.6753\n",
      "Epoch 6/50\n",
      "19317/19317 [==============================] - 229s 12ms/step - loss: 0.5295 - acc: 0.7227 - val_loss: 0.5824 - val_acc: 0.6856\n",
      "Epoch 7/50\n",
      "19317/19317 [==============================] - 225s 12ms/step - loss: 0.5143 - acc: 0.7289 - val_loss: 0.5910 - val_acc: 0.6821\n",
      "Epoch 8/50\n",
      "19317/19317 [==============================] - 225s 12ms/step - loss: 0.5037 - acc: 0.7361 - val_loss: 0.6056 - val_acc: 0.6741\n",
      "Epoch 9/50\n",
      "19317/19317 [==============================] - 225s 12ms/step - loss: 0.4943 - acc: 0.7420 - val_loss: 0.6333 - val_acc: 0.6733\n",
      "Epoch 10/50\n",
      "19317/19317 [==============================] - 225s 12ms/step - loss: 0.4868 - acc: 0.7496 - val_loss: 0.6331 - val_acc: 0.6722\n",
      "Epoch 11/50\n",
      "19317/19317 [==============================] - 223s 12ms/step - loss: 0.4744 - acc: 0.7562 - val_loss: 0.6560 - val_acc: 0.6717\n",
      "Epoch 12/50\n",
      "19317/19317 [==============================] - 223s 12ms/step - loss: 0.4658 - acc: 0.7585 - val_loss: 0.6766 - val_acc: 0.6714\n",
      "Epoch 13/50\n",
      "19317/19317 [==============================] - 223s 12ms/step - loss: 0.4616 - acc: 0.7603 - val_loss: 0.6764 - val_acc: 0.6623\n",
      "Epoch 14/50\n",
      "19317/19317 [==============================] - 222s 11ms/step - loss: 0.4495 - acc: 0.7653 - val_loss: 0.6936 - val_acc: 0.6724\n"
     ]
    },
    {
     "data": {
      "text/plain": [
       "<tensorflow.python.keras.callbacks.History at 0x278b4b4f248>"
      ]
     },
     "execution_count": 8,
     "metadata": {},
     "output_type": "execute_result"
    }
   ],
   "source": [
    "model = modeling.get_model('crnn-attention')()\n",
    "model.fit(X_train, y_train)"
   ]
  },
  {
   "cell_type": "code",
   "execution_count": 9,
   "metadata": {
    "ExecuteTime": {
     "end_time": "2020-11-07T20:20:31.516647Z",
     "start_time": "2020-11-07T20:19:13.659243Z"
    }
   },
   "outputs": [],
   "source": [
    "y_pred = model.predict(X_test)"
   ]
  },
  {
   "cell_type": "code",
   "execution_count": 10,
   "metadata": {
    "ExecuteTime": {
     "end_time": "2020-11-07T20:20:31.532579Z",
     "start_time": "2020-11-07T20:20:31.518580Z"
    }
   },
   "outputs": [
    {
     "name": "stdout",
     "output_type": "stream",
     "text": [
      "Accuracy: 0.6129210381004969\n",
      "Classification report:\n",
      "               precision    recall  f1-score   support\n",
      "\n",
      "       False       0.67      0.85      0.75      1234\n",
      "        True       0.25      0.11      0.15       577\n",
      "\n",
      "    accuracy                           0.61      1811\n",
      "   macro avg       0.46      0.48      0.45      1811\n",
      "weighted avg       0.54      0.61      0.56      1811\n",
      "\n"
     ]
    }
   ],
   "source": [
    "print('Accuracy:', evaluating.get_accuracy(y_test, y_pred))\n",
    "evaluating.print_classification_report(y_test, y_pred)"
   ]
  },
  {
   "cell_type": "code",
   "execution_count": 11,
   "metadata": {
    "ExecuteTime": {
     "end_time": "2020-11-07T20:20:31.673606Z",
     "start_time": "2020-11-07T20:20:31.534595Z"
    }
   },
   "outputs": [
    {
     "data": {
      "image/png": "[encoded data removed]",
      "text/plain": [
       "<Figure size 432x288 with 2 Axes>"
      ]
     },
     "metadata": {
      "needs_background": "light"
     },
     "output_type": "display_data"
    }
   ],
   "source": [
    "evaluating.plot_confusion_matrix(y_test, y_pred)"
   ]
  },
  {
   "cell_type": "code",
   "execution_count": null,
   "metadata": {},
   "outputs": [],
   "source": []
  }
 ],
 "metadata": {
  "colab": {
   "collapsed_sections": [],
   "name": "train.ipynb",
   "provenance": [],
   "toc_visible": true
  },
  "kernelspec": {
   "display_name": "Python 3",
   "language": "python",
   "name": "python3"
  },
  "language_info": {
   "codemirror_mode": {
    "name": "ipython",
    "version": 3
   },
   "file_extension": ".py",
   "mimetype": "text/x-python",
   "name": "python",
   "nbconvert_exporter": "python",
   "pygments_lexer": "ipython3",
   "version": "3.7.8"
  },
  "toc": {
   "base_numbering": 1,
   "nav_menu": {},
   "number_sections": true,
   "sideBar": true,
   "skip_h1_title": false,
   "title_cell": "Table of Contents",
   "title_sidebar": "Contents",
   "toc_cell": false,
   "toc_position": {},
   "toc_section_display": true,
   "toc_window_display": false
  }
 },
 "nbformat": 4,
 "nbformat_minor": 1
}
