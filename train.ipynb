{
 "cells": [
  {
   "cell_type": "markdown",
   "metadata": {
    "id": "_tS0rjTVZIk-"
   },
   "source": [
    "# Clone the repo"
   ]
  },
  {
   "cell_type": "code",
   "execution_count": 1,
   "metadata": {
    "ExecuteTime": {
     "end_time": "2020-11-13T17:57:00.772158Z",
     "start_time": "2020-11-13T17:57:00.762173Z"
    },
    "id": "qDB0D_pfYJs8"
   },
   "outputs": [],
   "source": [
    "# # Clone the entire repo.\n",
    "# !git clone -b master --single-branch https://github.com/NewLuminous/Zalo-Vietnamese-Wiki-QA.git zaloqa\n",
    "# %cd zaloqa"
   ]
  },
  {
   "cell_type": "markdown",
   "metadata": {
    "id": "Qwdz9e0qvZCd"
   },
   "source": [
    "# Install & load libraries"
   ]
  },
  {
   "cell_type": "code",
   "execution_count": 1,
   "metadata": {
    "ExecuteTime": {
     "end_time": "2020-11-14T12:05:30.588257Z",
     "start_time": "2020-11-14T12:05:14.729795Z"
    },
    "id": "a6RVnEoehZj8"
   },
   "outputs": [],
   "source": [
    "import modeling\n",
    "import evaluation\n",
    "%matplotlib inline\n",
    "\n",
    "import warnings\n",
    "warnings.filterwarnings('ignore')"
   ]
  },
  {
   "cell_type": "code",
   "execution_count": null,
   "metadata": {
    "ExecuteTime": {
     "end_time": "2020-11-07T07:54:15.375403Z",
     "start_time": "2020-11-07T07:54:15.362400Z"
    },
    "colab": {
     "base_uri": "https://localhost:8080/"
    },
    "id": "0STOXrXCM_aY",
    "outputId": "44a01d23-77f1-4f66-824c-c37250dd78c6"
   },
   "outputs": [],
   "source": [
    "# To reload a module while in the interactive mode\n",
    "import importlib\n",
    "importlib.reload(modeling)"
   ]
  },
  {
   "cell_type": "markdown",
   "metadata": {
    "id": "gRKbkEMeZQm0"
   },
   "source": [
    "# Load data"
   ]
  },
  {
   "cell_type": "code",
   "execution_count": 2,
   "metadata": {
    "ExecuteTime": {
     "end_time": "2020-11-14T12:05:31.026029Z",
     "start_time": "2020-11-14T12:05:30.590046Z"
    },
    "colab": {
     "base_uri": "https://localhost:8080/",
     "height": 570
    },
    "id": "So1HOLq8jy-m",
    "outputId": "de453752-d2b1-46e0-e38d-26314fbeb0ed",
    "scrolled": false
   },
   "outputs": [
    {
     "data": {
      "text/html": [
       "<div>\n",
       "<style scoped>\n",
       "    .dataframe tbody tr th:only-of-type {\n",
       "        vertical-align: middle;\n",
       "    }\n",
       "\n",
       "    .dataframe tbody tr th {\n",
       "        vertical-align: top;\n",
       "    }\n",
       "\n",
       "    .dataframe thead th {\n",
       "        text-align: right;\n",
       "    }\n",
       "</style>\n",
       "<table border=\"1\" class=\"dataframe\">\n",
       "  <thead>\n",
       "    <tr style=\"text-align: right;\">\n",
       "      <th></th>\n",
       "      <th>question</th>\n",
       "      <th>text</th>\n",
       "      <th>label</th>\n",
       "    </tr>\n",
       "  </thead>\n",
       "  <tbody>\n",
       "    <tr>\n",
       "      <th>0</th>\n",
       "      <td>Quang Hải giành được chức vô địch U21 quốc gia...</td>\n",
       "      <td>Năm 2013 , Nguyễn Quang Hải giành chức vô địch...</td>\n",
       "      <td>True</td>\n",
       "    </tr>\n",
       "    <tr>\n",
       "      <th>1</th>\n",
       "      <td>Quang Hải giành được chức vô địch U21 quốc gia...</td>\n",
       "      <td>Sau chức vô địch U-21 quốc gia 2013 , Nguyễn Q...</td>\n",
       "      <td>True</td>\n",
       "    </tr>\n",
       "    <tr>\n",
       "      <th>2</th>\n",
       "      <td>Quang Hải giành được chức vô địch U21 quốc gia...</td>\n",
       "      <td>Anh bắt đầu gia nhập lò đào tạo trẻ Hà Nội T&amp;T...</td>\n",
       "      <td>False</td>\n",
       "    </tr>\n",
       "    <tr>\n",
       "      <th>3</th>\n",
       "      <td>Quang Hải giành được chức vô địch U21 quốc gia...</td>\n",
       "      <td>Năm 2011 , Nguyễn Quang Hải mới 14 tuổi được g...</td>\n",
       "      <td>False</td>\n",
       "    </tr>\n",
       "    <tr>\n",
       "      <th>4</th>\n",
       "      <td>Mỗi hiệp bóng đá kéo dài bao lâu</td>\n",
       "      <td>Một trận đấu bóng đá thông thường có hai hiệp ...</td>\n",
       "      <td>True</td>\n",
       "    </tr>\n",
       "    <tr>\n",
       "      <th>...</th>\n",
       "      <td>...</td>\n",
       "      <td>...</td>\n",
       "      <td>...</td>\n",
       "    </tr>\n",
       "    <tr>\n",
       "      <th>18103</th>\n",
       "      <td>Thành phố nào là thủ đô của Costa Rica</td>\n",
       "      <td>San José (tiếng Tây Ban Nha: San José; ) là th...</td>\n",
       "      <td>True</td>\n",
       "    </tr>\n",
       "    <tr>\n",
       "      <th>18104</th>\n",
       "      <td>Thành phố nào là thủ đô của Costa Rica</td>\n",
       "      <td>Vì Costa Rica có địa hình đa dạng nhiều núi no...</td>\n",
       "      <td>True</td>\n",
       "    </tr>\n",
       "    <tr>\n",
       "      <th>18105</th>\n",
       "      <td>Thành phố nào là thủ đô của Costa Rica</td>\n",
       "      <td>Với địa vị là thủ đô, San José là nơi đặt trụ ...</td>\n",
       "      <td>True</td>\n",
       "    </tr>\n",
       "    <tr>\n",
       "      <th>18106</th>\n",
       "      <td>Thành phố nào là thủ đô của Costa Rica</td>\n",
       "      <td>Santa Teresa là một thị xã nhỏ ở tỉnh Puntaren...</td>\n",
       "      <td>True</td>\n",
       "    </tr>\n",
       "    <tr>\n",
       "      <th>18107</th>\n",
       "      <td>Thành phố nào là thủ đô của Costa Rica</td>\n",
       "      <td>Cartago là một tỉnh của Costa Rica. Tỉnh này n...</td>\n",
       "      <td>False</td>\n",
       "    </tr>\n",
       "  </tbody>\n",
       "</table>\n",
       "<p>18108 rows × 3 columns</p>\n",
       "</div>"
      ],
      "text/plain": [
       "                                                question  \\\n",
       "0      Quang Hải giành được chức vô địch U21 quốc gia...   \n",
       "1      Quang Hải giành được chức vô địch U21 quốc gia...   \n",
       "2      Quang Hải giành được chức vô địch U21 quốc gia...   \n",
       "3      Quang Hải giành được chức vô địch U21 quốc gia...   \n",
       "4                       Mỗi hiệp bóng đá kéo dài bao lâu   \n",
       "...                                                  ...   \n",
       "18103             Thành phố nào là thủ đô của Costa Rica   \n",
       "18104             Thành phố nào là thủ đô của Costa Rica   \n",
       "18105             Thành phố nào là thủ đô của Costa Rica   \n",
       "18106             Thành phố nào là thủ đô của Costa Rica   \n",
       "18107             Thành phố nào là thủ đô của Costa Rica   \n",
       "\n",
       "                                                    text  label  \n",
       "0      Năm 2013 , Nguyễn Quang Hải giành chức vô địch...   True  \n",
       "1      Sau chức vô địch U-21 quốc gia 2013 , Nguyễn Q...   True  \n",
       "2      Anh bắt đầu gia nhập lò đào tạo trẻ Hà Nội T&T...  False  \n",
       "3      Năm 2011 , Nguyễn Quang Hải mới 14 tuổi được g...  False  \n",
       "4      Một trận đấu bóng đá thông thường có hai hiệp ...   True  \n",
       "...                                                  ...    ...  \n",
       "18103  San José (tiếng Tây Ban Nha: San José; ) là th...   True  \n",
       "18104  Vì Costa Rica có địa hình đa dạng nhiều núi no...   True  \n",
       "18105  Với địa vị là thủ đô, San José là nơi đặt trụ ...   True  \n",
       "18106  Santa Teresa là một thị xã nhỏ ở tỉnh Puntaren...   True  \n",
       "18107  Cartago là một tỉnh của Costa Rica. Tỉnh này n...  False  \n",
       "\n",
       "[18108 rows x 3 columns]"
      ]
     },
     "execution_count": 2,
     "metadata": {},
     "output_type": "execute_result"
    }
   ],
   "source": [
    "from utils import data_loading\n",
    "\n",
    "zalo_data = data_loading.load(['zaloai'])\n",
    "zalo_data"
   ]
  },
  {
   "cell_type": "markdown",
   "metadata": {
    "id": "2XLrq3BHNeih"
   },
   "source": [
    "# Train & evaluate"
   ]
  },
  {
   "cell_type": "code",
   "execution_count": 3,
   "metadata": {
    "ExecuteTime": {
     "end_time": "2020-11-14T12:05:33.905125Z",
     "start_time": "2020-11-14T12:05:33.882127Z"
    },
    "id": "ZtmWtowukxW-"
   },
   "outputs": [],
   "source": [
    "from sklearn.model_selection import train_test_split\n",
    "\n",
    "X = zalo_data.drop(columns=['label'])\n",
    "y = zalo_data['label']\n",
    "X_train, X_test, y_train, y_test = train_test_split(X, y, test_size = 0.1, random_state=42)"
   ]
  },
  {
   "cell_type": "code",
   "execution_count": 4,
   "metadata": {
    "ExecuteTime": {
     "end_time": "2020-11-14T06:09:07.059104Z",
     "start_time": "2020-11-14T06:09:05.095073Z"
    }
   },
   "outputs": [
    {
     "data": {
      "text/html": [
       "<div>\n",
       "<style scoped>\n",
       "    .dataframe tbody tr th:only-of-type {\n",
       "        vertical-align: middle;\n",
       "    }\n",
       "\n",
       "    .dataframe tbody tr th {\n",
       "        vertical-align: top;\n",
       "    }\n",
       "\n",
       "    .dataframe thead th {\n",
       "        text-align: right;\n",
       "    }\n",
       "</style>\n",
       "<table border=\"1\" class=\"dataframe\">\n",
       "  <thead>\n",
       "    <tr style=\"text-align: right;\">\n",
       "      <th></th>\n",
       "      <th>question</th>\n",
       "      <th>text</th>\n",
       "      <th>label</th>\n",
       "    </tr>\n",
       "  </thead>\n",
       "  <tbody>\n",
       "    <tr>\n",
       "      <th>0</th>\n",
       "      <td>Ai là thủ tướng Ấn Độ hiện tại</td>\n",
       "      <td>Thủ tướng Ấn Độ sắp sang Mỹ gặp ông Trump mua ...</td>\n",
       "      <td>False</td>\n",
       "    </tr>\n",
       "    <tr>\n",
       "      <th>1</th>\n",
       "      <td>Ai là thủ tướng Ấn Độ hiện tại</td>\n",
       "      <td>Narendra Damodardas Modi ( tiếng Gujarat : નરે...</td>\n",
       "      <td>True</td>\n",
       "    </tr>\n",
       "    <tr>\n",
       "      <th>2</th>\n",
       "      <td>Ai là thủ tướng Ấn Độ hiện tại</td>\n",
       "      <td>- Google hôm 3/6 đã xin lỗi Thủ tướng Ấn Độ Na...</td>\n",
       "      <td>True</td>\n",
       "    </tr>\n",
       "    <tr>\n",
       "      <th>3</th>\n",
       "      <td>Ai là thủ tướng Ấn Độ hiện tại</td>\n",
       "      <td>thủ tướng thăm Ấn Độ Nguyễn Xuân Phúc ASEAN th...</td>\n",
       "      <td>False</td>\n",
       "    </tr>\n",
       "    <tr>\n",
       "      <th>4</th>\n",
       "      <td>Ai là thủ tướng Ấn Độ hiện tại</td>\n",
       "      <td>Tin tức về chủ đề \" Thủ tướng Ấn Độ Narendra M...</td>\n",
       "      <td>True</td>\n",
       "    </tr>\n",
       "    <tr>\n",
       "      <th>...</th>\n",
       "      <td>...</td>\n",
       "      <td>...</td>\n",
       "      <td>...</td>\n",
       "    </tr>\n",
       "    <tr>\n",
       "      <th>11868</th>\n",
       "      <td>Đơn vị lực ít khi được sử dụng bằng một nghìn ...</td>\n",
       "      <td>Lực pound có một đối trọng hệ mét, ít được sử ...</td>\n",
       "      <td>True</td>\n",
       "    </tr>\n",
       "    <tr>\n",
       "      <th>11869</th>\n",
       "      <td>Những gì không có một đối tác số liệu?</td>\n",
       "      <td>Lực pound có một đối trọng hệ mét, ít được sử ...</td>\n",
       "      <td>False</td>\n",
       "    </tr>\n",
       "    <tr>\n",
       "      <th>11870</th>\n",
       "      <td>Lực do trọng lực tiêu chuẩn tác dụng lên một t...</td>\n",
       "      <td>Lực pound có một đối trọng hệ mét, ít được sử ...</td>\n",
       "      <td>False</td>\n",
       "    </tr>\n",
       "    <tr>\n",
       "      <th>11871</th>\n",
       "      <td>Lực nào dẫn đến một đơn vị khối lượng thường d...</td>\n",
       "      <td>Lực pound có một đối trọng hệ mét, ít được sử ...</td>\n",
       "      <td>False</td>\n",
       "    </tr>\n",
       "    <tr>\n",
       "      <th>11872</th>\n",
       "      <td>Lực nào là một phần của hệ SI hiện đại?</td>\n",
       "      <td>Lực pound có một đối trọng hệ mét, ít được sử ...</td>\n",
       "      <td>False</td>\n",
       "    </tr>\n",
       "  </tbody>\n",
       "</table>\n",
       "<p>151439 rows × 3 columns</p>\n",
       "</div>"
      ],
      "text/plain": [
       "                                                question  \\\n",
       "0                         Ai là thủ tướng Ấn Độ hiện tại   \n",
       "1                         Ai là thủ tướng Ấn Độ hiện tại   \n",
       "2                         Ai là thủ tướng Ấn Độ hiện tại   \n",
       "3                         Ai là thủ tướng Ấn Độ hiện tại   \n",
       "4                         Ai là thủ tướng Ấn Độ hiện tại   \n",
       "...                                                  ...   \n",
       "11868  Đơn vị lực ít khi được sử dụng bằng một nghìn ...   \n",
       "11869             Những gì không có một đối tác số liệu?   \n",
       "11870  Lực do trọng lực tiêu chuẩn tác dụng lên một t...   \n",
       "11871  Lực nào dẫn đến một đơn vị khối lượng thường d...   \n",
       "11872            Lực nào là một phần của hệ SI hiện đại?   \n",
       "\n",
       "                                                    text  label  \n",
       "0      Thủ tướng Ấn Độ sắp sang Mỹ gặp ông Trump mua ...  False  \n",
       "1      Narendra Damodardas Modi ( tiếng Gujarat : નરે...   True  \n",
       "2      - Google hôm 3/6 đã xin lỗi Thủ tướng Ấn Độ Na...   True  \n",
       "3      thủ tướng thăm Ấn Độ Nguyễn Xuân Phúc ASEAN th...  False  \n",
       "4      Tin tức về chủ đề \" Thủ tướng Ấn Độ Narendra M...   True  \n",
       "...                                                  ...    ...  \n",
       "11868  Lực pound có một đối trọng hệ mét, ít được sử ...   True  \n",
       "11869  Lực pound có một đối trọng hệ mét, ít được sử ...  False  \n",
       "11870  Lực pound có một đối trọng hệ mét, ít được sử ...  False  \n",
       "11871  Lực pound có một đối trọng hệ mét, ít được sử ...  False  \n",
       "11872  Lực pound có một đối trọng hệ mét, ít được sử ...  False  \n",
       "\n",
       "[151439 rows x 3 columns]"
      ]
     },
     "execution_count": 4,
     "metadata": {},
     "output_type": "execute_result"
    }
   ],
   "source": [
    "extra_data = data_loading.load(['mailong25', 'facebook', 'squad'])\n",
    "X_train = X_train.append(extra_data.drop(columns=['label']))\n",
    "y_train = y_train.append(extra_data['label'])\n",
    "extra_data"
   ]
  },
  {
   "cell_type": "markdown",
   "metadata": {
    "id": "UmJwtAXbNrUS"
   },
   "source": [
    "## LogisticRegression + CountVectorizer"
   ]
  },
  {
   "cell_type": "code",
   "execution_count": 5,
   "metadata": {
    "ExecuteTime": {
     "end_time": "2020-11-14T06:30:18.311408Z",
     "start_time": "2020-11-14T06:09:12.675969Z"
    },
    "id": "GZWBVs9xhRyp"
   },
   "outputs": [],
   "source": [
    "model = modeling.get_model('logit')(vectorizer='bow-ngram', random_state=42)\n",
    "model.fit(X_train, y_train)\n",
    "y_pred = model.predict(X_test)"
   ]
  },
  {
   "cell_type": "code",
   "execution_count": 6,
   "metadata": {
    "ExecuteTime": {
     "end_time": "2020-11-14T06:30:18.343138Z",
     "start_time": "2020-11-14T06:30:18.315097Z"
    },
    "colab": {
     "base_uri": "https://localhost:8080/"
    },
    "id": "ybe-ITf4GFq5",
    "outputId": "21b7f240-1d39-4683-9476-f4d0cd4656ac"
   },
   "outputs": [
    {
     "name": "stdout",
     "output_type": "stream",
     "text": [
      "Accuracy: 0.6234124792932082\n",
      "Classification report:\n",
      "               precision    recall  f1-score   support\n",
      "\n",
      "       False       0.73      0.70      0.72      1234\n",
      "        True       0.42      0.46      0.44       577\n",
      "\n",
      "    accuracy                           0.62      1811\n",
      "   macro avg       0.58      0.58      0.58      1811\n",
      "weighted avg       0.63      0.62      0.63      1811\n",
      "\n"
     ]
    }
   ],
   "source": [
    "print('Accuracy:', evaluation.get_accuracy(y_test, y_pred))\n",
    "evaluation.print_classification_report(y_test, y_pred)"
   ]
  },
  {
   "cell_type": "code",
   "execution_count": 7,
   "metadata": {
    "ExecuteTime": {
     "end_time": "2020-11-14T06:30:18.515135Z",
     "start_time": "2020-11-14T06:30:18.345098Z"
    },
    "colab": {
     "base_uri": "https://localhost:8080/",
     "height": 265
    },
    "id": "Cq5uggAAC5uH",
    "outputId": "9f5040f4-58a0-4d2f-e4ac-d5ed3d36c069"
   },
   "outputs": [
    {
     "data": {
      "image/png": "[encoded data removed]",
      "text/plain": [
       "<Figure size 432x288 with 2 Axes>"
      ]
     },
     "metadata": {
      "needs_background": "light"
     },
     "output_type": "display_data"
    }
   ],
   "source": [
    "evaluation.plot_confusion_matrix(y_test, y_pred)"
   ]
  },
  {
   "cell_type": "markdown",
   "metadata": {
    "id": "5LJpm2JEPk4u"
   },
   "source": [
    "## LogisticRegression + TfidfVectorizer"
   ]
  },
  {
   "cell_type": "code",
   "execution_count": 8,
   "metadata": {
    "ExecuteTime": {
     "end_time": "2020-11-14T06:54:32.158937Z",
     "start_time": "2020-11-14T06:33:42.271415Z"
    },
    "id": "CeQwhwPrQBui"
   },
   "outputs": [],
   "source": [
    "model = modeling.get_model('logit')(vectorizer='tfidf', random_state=42)\n",
    "model.fit(X_train, y_train)\n",
    "y_pred = model.predict(X_test)"
   ]
  },
  {
   "cell_type": "code",
   "execution_count": 9,
   "metadata": {
    "ExecuteTime": {
     "end_time": "2020-11-14T06:54:32.174505Z",
     "start_time": "2020-11-14T06:54:32.160701Z"
    },
    "colab": {
     "base_uri": "https://localhost:8080/"
    },
    "id": "4WPlQqSVQDgl",
    "outputId": "935a0cf0-2c44-4c2a-ace7-8ab25f585ec6"
   },
   "outputs": [
    {
     "name": "stdout",
     "output_type": "stream",
     "text": [
      "Accuracy: 0.620651573716179\n",
      "Classification report:\n",
      "               precision    recall  f1-score   support\n",
      "\n",
      "       False       0.72      0.72      0.72      1234\n",
      "        True       0.41      0.41      0.41       577\n",
      "\n",
      "    accuracy                           0.62      1811\n",
      "   macro avg       0.56      0.57      0.56      1811\n",
      "weighted avg       0.62      0.62      0.62      1811\n",
      "\n"
     ]
    }
   ],
   "source": [
    "print('Accuracy:', evaluation.get_accuracy(y_test, y_pred))\n",
    "evaluation.print_classification_report(y_test, y_pred)"
   ]
  },
  {
   "cell_type": "code",
   "execution_count": 10,
   "metadata": {
    "ExecuteTime": {
     "end_time": "2020-11-14T06:54:32.342607Z",
     "start_time": "2020-11-14T06:54:32.177495Z"
    },
    "colab": {
     "base_uri": "https://localhost:8080/",
     "height": 265
    },
    "id": "Fhc_qp11QFdc",
    "outputId": "7c8652f5-2ccf-426c-a1bf-84ead41f186f"
   },
   "outputs": [
    {
     "data": {
      "image/png": "[encoded data removed]",
      "text/plain": [
       "<Figure size 432x288 with 2 Axes>"
      ]
     },
     "metadata": {
      "needs_background": "light"
     },
     "output_type": "display_data"
    }
   ],
   "source": [
    "evaluation.plot_confusion_matrix(y_test, y_pred)"
   ]
  },
  {
   "cell_type": "markdown",
   "metadata": {},
   "source": [
    "## LogisticRegression + Keras's Embedding"
   ]
  },
  {
   "cell_type": "code",
   "execution_count": 5,
   "metadata": {
    "ExecuteTime": {
     "end_time": "2020-11-13T22:32:46.793659Z",
     "start_time": "2020-11-13T19:25:29.982251Z"
    }
   },
   "outputs": [
    {
     "name": "stdout",
     "output_type": "stream",
     "text": [
      "Model: \"functional_1\"\n",
      "__________________________________________________________________________________________________\n",
      "Layer (type)                    Output Shape         Param #     Connected to                     \n",
      "==================================================================================================\n",
      "input_1 (InputLayer)            [(None, 40)]         0                                            \n",
      "__________________________________________________________________________________________________\n",
      "input_2 (InputLayer)            [(None, 500)]        0                                            \n",
      "__________________________________________________________________________________________________\n",
      "embedding (Embedding)           (None, 40, 64)       1920000     input_1[0][0]                    \n",
      "__________________________________________________________________________________________________\n",
      "embedding_1 (Embedding)         (None, 500, 64)      1920000     input_2[0][0]                    \n",
      "__________________________________________________________________________________________________\n",
      "flatten (Flatten)               (None, 2560)         0           embedding[0][0]                  \n",
      "__________________________________________________________________________________________________\n",
      "flatten_1 (Flatten)             (None, 32000)        0           embedding_1[0][0]                \n",
      "__________________________________________________________________________________________________\n",
      "concatenate (Concatenate)       (None, 34560)        0           flatten[0][0]                    \n",
      "                                                                 flatten_1[0][0]                  \n",
      "__________________________________________________________________________________________________\n",
      "dense (Dense)                   (None, 10)           345610      concatenate[0][0]                \n",
      "__________________________________________________________________________________________________\n",
      "dense_1 (Dense)                 (None, 1)            11          dense[0][0]                      \n",
      "==================================================================================================\n",
      "Total params: 4,185,621\n",
      "Trainable params: 4,185,621\n",
      "Non-trainable params: 0\n",
      "__________________________________________________________________________________________________\n",
      "Epoch 1/50\n",
      "3931/3931 [==============================] - 1555s 396ms/step - loss: 0.5587 - acc: 0.6774 - val_loss: 0.5227 - val_acc: 0.6977\n",
      "Epoch 2/50\n",
      "3931/3931 [==============================] - 1363s 347ms/step - loss: 0.4575 - acc: 0.7430 - val_loss: 0.5275 - val_acc: 0.6938\n",
      "Epoch 3/50\n",
      "3931/3931 [==============================] - 1394s 355ms/step - loss: 0.3853 - acc: 0.7953 - val_loss: 0.5962 - val_acc: 0.6927\n",
      "Epoch 4/50\n",
      "3931/3931 [==============================] - 1374s 349ms/step - loss: 0.3134 - acc: 0.8414 - val_loss: 0.7231 - val_acc: 0.6900\n",
      "Epoch 5/50\n",
      "3931/3931 [==============================] - 1383s 352ms/step - loss: 0.2521 - acc: 0.8772 - val_loss: 0.8231 - val_acc: 0.6827\n",
      "Epoch 6/50\n",
      "3931/3931 [==============================] - 1380s 351ms/step - loss: 0.2109 - acc: 0.8994 - val_loss: 0.8791 - val_acc: 0.6815\n",
      "Epoch 7/50\n",
      "3931/3931 [==============================] - 1376s 350ms/step - loss: 0.1805 - acc: 0.9144 - val_loss: 0.8953 - val_acc: 0.6789\n",
      "Epoch 8/50\n",
      "3931/3931 [==============================] - 1405s 357ms/step - loss: 0.1554 - acc: 0.9263 - val_loss: 1.0633 - val_acc: 0.6845\n"
     ]
    }
   ],
   "source": [
    "model = modeling.get_model('logit-embedding')()\n",
    "model.fit(X_train, y_train)\n",
    "y_pred = model.predict(X_test)"
   ]
  },
  {
   "cell_type": "code",
   "execution_count": 6,
   "metadata": {
    "ExecuteTime": {
     "end_time": "2020-11-13T22:32:46.809332Z",
     "start_time": "2020-11-13T22:32:46.795375Z"
    }
   },
   "outputs": [
    {
     "name": "stdout",
     "output_type": "stream",
     "text": [
      "Accuracy: 0.6570955273329652\n",
      "Classification report:\n",
      "               precision    recall  f1-score   support\n",
      "\n",
      "       False       0.70      0.87      0.78      1234\n",
      "        True       0.42      0.20      0.27       577\n",
      "\n",
      "    accuracy                           0.66      1811\n",
      "   macro avg       0.56      0.54      0.52      1811\n",
      "weighted avg       0.61      0.66      0.62      1811\n",
      "\n"
     ]
    }
   ],
   "source": [
    "print('Accuracy:', evaluation.get_accuracy(y_test, y_pred))\n",
    "evaluation.print_classification_report(y_test, y_pred)"
   ]
  },
  {
   "cell_type": "code",
   "execution_count": 7,
   "metadata": {
    "ExecuteTime": {
     "end_time": "2020-11-13T22:32:47.029367Z",
     "start_time": "2020-11-13T22:32:46.813346Z"
    }
   },
   "outputs": [
    {
     "data": {
      "image/png": "[encoded data removed]",
      "text/plain": [
       "<Figure size 432x288 with 2 Axes>"
      ]
     },
     "metadata": {
      "needs_background": "light"
     },
     "output_type": "display_data"
    }
   ],
   "source": [
    "evaluation.plot_confusion_matrix(y_test, y_pred)"
   ]
  },
  {
   "cell_type": "markdown",
   "metadata": {},
   "source": [
    "## LogisticRegression + Word2Vec"
   ]
  },
  {
   "cell_type": "code",
   "execution_count": 4,
   "metadata": {
    "ExecuteTime": {
     "end_time": "2020-11-14T05:48:51.844253Z",
     "start_time": "2020-11-14T05:47:21.378799Z"
    }
   },
   "outputs": [],
   "source": [
    "model = modeling.get_model('logit')(vectorizer='word2vec', random_state=42)\n",
    "model.fit(X_train, y_train)\n",
    "y_pred = model.predict(X_test)"
   ]
  },
  {
   "cell_type": "code",
   "execution_count": 5,
   "metadata": {
    "ExecuteTime": {
     "end_time": "2020-11-14T05:48:56.202502Z",
     "start_time": "2020-11-14T05:48:56.182494Z"
    }
   },
   "outputs": [
    {
     "name": "stdout",
     "output_type": "stream",
     "text": [
      "Accuracy: 0.6515737161789067\n",
      "Classification report:\n",
      "               precision    recall  f1-score   support\n",
      "\n",
      "       False       0.74      0.74      0.74      1234\n",
      "        True       0.45      0.45      0.45       577\n",
      "\n",
      "    accuracy                           0.65      1811\n",
      "   macro avg       0.60      0.60      0.60      1811\n",
      "weighted avg       0.65      0.65      0.65      1811\n",
      "\n"
     ]
    }
   ],
   "source": [
    "print('Accuracy:', evaluation.get_accuracy(y_test, y_pred))\n",
    "evaluation.print_classification_report(y_test, y_pred)"
   ]
  },
  {
   "cell_type": "code",
   "execution_count": 6,
   "metadata": {
    "ExecuteTime": {
     "end_time": "2020-11-14T05:48:59.070711Z",
     "start_time": "2020-11-14T05:48:58.518752Z"
    }
   },
   "outputs": [
    {
     "data": {
      "image/png": "[encoded data removed]",
      "text/plain": [
       "<Figure size 432x288 with 2 Axes>"
      ]
     },
     "metadata": {
      "needs_background": "light"
     },
     "output_type": "display_data"
    }
   ],
   "source": [
    "evaluation.plot_confusion_matrix(y_test, y_pred)"
   ]
  },
  {
   "cell_type": "markdown",
   "metadata": {},
   "source": [
    "## CRNN"
   ]
  },
  {
   "cell_type": "code",
   "execution_count": 12,
   "metadata": {
    "ExecuteTime": {
     "end_time": "2020-11-08T02:21:55.764214Z",
     "start_time": "2020-11-08T01:14:52.651662Z"
    }
   },
   "outputs": [
    {
     "name": "stdout",
     "output_type": "stream",
     "text": [
      "Model: \"functional_3\"\n",
      "__________________________________________________________________________________________________\n",
      "Layer (type)                    Output Shape         Param #     Connected to                     \n",
      "==================================================================================================\n",
      "input_4 (InputLayer)            [(None, None, 50)]   0                                            \n",
      "__________________________________________________________________________________________________\n",
      "conv1d_3 (Conv1D)               (None, None, 400)    100400      input_4[0][0]                    \n",
      "__________________________________________________________________________________________________\n",
      "input_3 (InputLayer)            [(None, None, 50)]   0                                            \n",
      "__________________________________________________________________________________________________\n",
      "max_pooling1d_3 (MaxPooling1D)  (None, None, 400)    0           conv1d_3[0][0]                   \n",
      "__________________________________________________________________________________________________\n",
      "conv1d_2 (Conv1D)               (None, None, 200)    50200       input_3[0][0]                    \n",
      "__________________________________________________________________________________________________\n",
      "conv1d_4 (Conv1D)               (None, None, 600)    1200600     max_pooling1d_3[0][0]            \n",
      "__________________________________________________________________________________________________\n",
      "max_pooling1d_2 (MaxPooling1D)  (None, None, 200)    0           conv1d_2[0][0]                   \n",
      "__________________________________________________________________________________________________\n",
      "max_pooling1d_4 (MaxPooling1D)  (None, None, 600)    0           conv1d_4[0][0]                   \n",
      "__________________________________________________________________________________________________\n",
      "bidirectional_2 (Bidirectional) (None, 40)           35360       max_pooling1d_2[0][0]            \n",
      "__________________________________________________________________________________________________\n",
      "bidirectional_3 (Bidirectional) (None, 140)          375760      max_pooling1d_4[0][0]            \n",
      "__________________________________________________________________________________________________\n",
      "concatenate_1 (Concatenate)     (None, 180)          0           bidirectional_2[0][0]            \n",
      "                                                                 bidirectional_3[0][0]            \n",
      "__________________________________________________________________________________________________\n",
      "dense_4 (Dense)                 (None, 128)          23168       concatenate_1[0][0]              \n",
      "__________________________________________________________________________________________________\n",
      "dropout_1 (Dropout)             (None, 128)          0           dense_4[0][0]                    \n",
      "__________________________________________________________________________________________________\n",
      "dense_5 (Dense)                 (None, 256)          33024       dropout_1[0][0]                  \n",
      "__________________________________________________________________________________________________\n",
      "dropout_2 (Dropout)             (None, 256)          0           dense_5[0][0]                    \n",
      "__________________________________________________________________________________________________\n",
      "dense_6 (Dense)                 (None, 1)            257         dropout_2[0][0]                  \n",
      "==================================================================================================\n",
      "Total params: 1,818,769\n",
      "Trainable params: 1,818,769\n",
      "Non-trainable params: 0\n",
      "__________________________________________________________________________________________________\n",
      "Epoch 1/50\n",
      "    2/19317 [..............................] - ETA: 6:26:54 - loss: 0.6666 - acc: 0.5000WARNING:tensorflow:Callbacks method `on_train_batch_end` is slow compared to the batch time (batch time: 0.0930s vs `on_train_batch_end` time: 2.3098s). Check your callbacks.\n",
      "19317/19317 [==============================] - 320s 17ms/step - loss: 0.6978 - acc: 0.5976 - val_loss: 0.6734 - val_acc: 0.6017\n",
      "Epoch 2/50\n",
      "19317/19317 [==============================] - 263s 14ms/step - loss: 0.6833 - acc: 0.6285 - val_loss: 0.6600 - val_acc: 0.6323\n",
      "Epoch 3/50\n",
      "19317/19317 [==============================] - 265s 14ms/step - loss: 0.6843 - acc: 0.6356 - val_loss: 0.6816 - val_acc: 0.6498\n",
      "Epoch 4/50\n",
      "19317/19317 [==============================] - 264s 14ms/step - loss: 0.6797 - acc: 0.6381 - val_loss: 0.6847 - val_acc: 0.6421\n",
      "Epoch 5/50\n",
      "19317/19317 [==============================] - 270s 14ms/step - loss: 0.6797 - acc: 0.6387 - val_loss: 0.6654 - val_acc: 0.6498\n",
      "Epoch 6/50\n",
      "19317/19317 [==============================] - 265s 14ms/step - loss: 0.6803 - acc: 0.6465 - val_loss: 0.6709 - val_acc: 0.6365\n",
      "Epoch 7/50\n",
      "19317/19317 [==============================] - 265s 14ms/step - loss: 0.6792 - acc: 0.6429 - val_loss: 0.6505 - val_acc: 0.6592\n",
      "Epoch 8/50\n",
      "19317/19317 [==============================] - 265s 14ms/step - loss: 0.6760 - acc: 0.6460 - val_loss: 0.7021 - val_acc: 0.6214\n",
      "Epoch 9/50\n",
      "19317/19317 [==============================] - 261s 14ms/step - loss: 0.6785 - acc: 0.6446 - val_loss: 0.6749 - val_acc: 0.6512\n",
      "Epoch 10/50\n",
      "19317/19317 [==============================] - 262s 14ms/step - loss: 0.6815 - acc: 0.6450 - val_loss: 0.6611 - val_acc: 0.6477\n",
      "Epoch 11/50\n",
      "19317/19317 [==============================] - 266s 14ms/step - loss: 0.6796 - acc: 0.6460 - val_loss: 0.6654 - val_acc: 0.6567\n",
      "Epoch 12/50\n",
      "19317/19317 [==============================] - 264s 14ms/step - loss: 0.6747 - acc: 0.6472 - val_loss: 0.6645 - val_acc: 0.6486\n",
      "Epoch 13/50\n",
      "19317/19317 [==============================] - 263s 14ms/step - loss: 0.6750 - acc: 0.6495 - val_loss: 0.6897 - val_acc: 0.6411\n",
      "Epoch 14/50\n",
      "19317/19317 [==============================] - 263s 14ms/step - loss: 0.6728 - acc: 0.6508 - val_loss: 0.6914 - val_acc: 0.6140\n",
      "Epoch 15/50\n",
      "19317/19317 [==============================] - 261s 13ms/step - loss: 0.6812 - acc: 0.6489 - val_loss: 0.6722 - val_acc: 0.6478\n"
     ]
    },
    {
     "data": {
      "text/plain": [
       "<tensorflow.python.keras.callbacks.History at 0x27b03407088>"
      ]
     },
     "execution_count": 12,
     "metadata": {},
     "output_type": "execute_result"
    }
   ],
   "source": [
    "model = modeling.get_model('crnn')()\n",
    "model.fit(X_train, y_train)"
   ]
  },
  {
   "cell_type": "code",
   "execution_count": 13,
   "metadata": {
    "ExecuteTime": {
     "end_time": "2020-11-08T02:23:12.434956Z",
     "start_time": "2020-11-08T02:21:55.766635Z"
    }
   },
   "outputs": [],
   "source": [
    "y_pred = model.predict(X_test)"
   ]
  },
  {
   "cell_type": "code",
   "execution_count": 14,
   "metadata": {
    "ExecuteTime": {
     "end_time": "2020-11-08T02:23:12.449967Z",
     "start_time": "2020-11-08T02:23:12.436961Z"
    }
   },
   "outputs": [
    {
     "name": "stdout",
     "output_type": "stream",
     "text": [
      "Accuracy: 0.6212037548315847\n",
      "Classification report:\n",
      "               precision    recall  f1-score   support\n",
      "\n",
      "       False       0.67      0.86      0.76      1234\n",
      "        True       0.26      0.10      0.15       577\n",
      "\n",
      "    accuracy                           0.62      1811\n",
      "   macro avg       0.47      0.48      0.45      1811\n",
      "weighted avg       0.54      0.62      0.56      1811\n",
      "\n"
     ]
    }
   ],
   "source": [
    "print('Accuracy:', evaluation.get_accuracy(y_test, y_pred))\n",
    "evaluation.print_classification_report(y_test, y_pred)"
   ]
  },
  {
   "cell_type": "code",
   "execution_count": 15,
   "metadata": {
    "ExecuteTime": {
     "end_time": "2020-11-08T02:23:12.606187Z",
     "start_time": "2020-11-08T02:23:12.452964Z"
    }
   },
   "outputs": [
    {
     "data": {
      "image/png": "[encoded data removed]",
      "text/plain": [
       "<Figure size 432x288 with 2 Axes>"
      ]
     },
     "metadata": {
      "needs_background": "light"
     },
     "output_type": "display_data"
    }
   ],
   "source": [
    "evaluation.plot_confusion_matrix(y_test, y_pred)"
   ]
  },
  {
   "cell_type": "markdown",
   "metadata": {},
   "source": [
    "## CRNN + Attention"
   ]
  },
  {
   "cell_type": "code",
   "execution_count": 5,
   "metadata": {
    "ExecuteTime": {
     "end_time": "2020-11-11T01:13:56.692792Z",
     "start_time": "2020-11-10T19:38:07.659575Z"
    }
   },
   "outputs": [
    {
     "name": "stdout",
     "output_type": "stream",
     "text": [
      "Model: \"functional_1\"\n",
      "__________________________________________________________________________________________________\n",
      "Layer (type)                    Output Shape         Param #     Connected to                     \n",
      "==================================================================================================\n",
      "input_2 (InputLayer)            [(None, None, 50)]   0                                            \n",
      "__________________________________________________________________________________________________\n",
      "conv1d (Conv1D)                 (None, None, 128)    32128       input_2[0][0]                    \n",
      "__________________________________________________________________________________________________\n",
      "max_pooling1d (MaxPooling1D)    (None, None, 128)    0           conv1d[0][0]                     \n",
      "__________________________________________________________________________________________________\n",
      "conv1d_1 (Conv1D)               (None, None, 128)    82048       max_pooling1d[0][0]              \n",
      "__________________________________________________________________________________________________\n",
      "input_1 (InputLayer)            [(None, None, 50)]   0                                            \n",
      "__________________________________________________________________________________________________\n",
      "max_pooling1d_1 (MaxPooling1D)  (None, None, 128)    0           conv1d_1[0][0]                   \n",
      "__________________________________________________________________________________________________\n",
      "bidirectional (Bidirectional)   (None, 128)          58880       input_1[0][0]                    \n",
      "__________________________________________________________________________________________________\n",
      "bidirectional_1 (Bidirectional) (None, 128)          98816       max_pooling1d_1[0][0]            \n",
      "__________________________________________________________________________________________________\n",
      "dense (Dense)                   (None, 128)          16512       bidirectional[0][0]              \n",
      "__________________________________________________________________________________________________\n",
      "dense_1 (Dense)                 (None, 128)          16512       bidirectional_1[0][0]            \n",
      "__________________________________________________________________________________________________\n",
      "multiply (Multiply)             (None, 128)          0           bidirectional[0][0]              \n",
      "                                                                 dense[0][0]                      \n",
      "__________________________________________________________________________________________________\n",
      "multiply_1 (Multiply)           (None, 128)          0           bidirectional_1[0][0]            \n",
      "                                                                 dense_1[0][0]                    \n",
      "__________________________________________________________________________________________________\n",
      "concatenate (Concatenate)       (None, 256)          0           multiply[0][0]                   \n",
      "                                                                 multiply_1[0][0]                 \n",
      "__________________________________________________________________________________________________\n",
      "dense_2 (Dense)                 (None, 128)          32896       concatenate[0][0]                \n",
      "__________________________________________________________________________________________________\n",
      "dropout (Dropout)               (None, 128)          0           dense_2[0][0]                    \n",
      "__________________________________________________________________________________________________\n",
      "dense_3 (Dense)                 (None, 1)            129         dropout[0][0]                    \n",
      "==================================================================================================\n",
      "Total params: 337,921\n",
      "Trainable params: 337,921\n",
      "Non-trainable params: 0\n",
      "__________________________________________________________________________________________________\n",
      "Epoch 1/50\n",
      "     1/125802 [..............................] - ETA: 0s - loss: 0.6942 - acc: 0.0000e+00WARNING:tensorflow:From C:\\Users\\Admin\\AppData\\Roaming\\Python\\Python37\\site-packages\\tensorflow\\python\\ops\\summary_ops_v2.py:1277: stop (from tensorflow.python.eager.profiler) is deprecated and will be removed after 2020-07-01.\n",
      "Instructions for updating:\n",
      "use `tf.profiler.experimental.stop` instead.\n",
      "125802/125802 [==============================] - 1597s 13ms/step - loss: 0.6472 - acc: 0.6396 - val_loss: 0.6302 - val_acc: 0.6613\n",
      "Epoch 2/50\n",
      "125802/125802 [==============================] - 1528s 12ms/step - loss: 0.6287 - acc: 0.6607 - val_loss: 0.6241 - val_acc: 0.6654\n",
      "Epoch 3/50\n",
      "125802/125802 [==============================] - 1532s 12ms/step - loss: 0.6192 - acc: 0.6689 - val_loss: 0.6283 - val_acc: 0.6672\n",
      "Epoch 4/50\n",
      "125802/125802 [==============================] - 1527s 12ms/step - loss: 0.6118 - acc: 0.6744 - val_loss: 0.6297 - val_acc: 0.6640\n",
      "Epoch 5/50\n",
      "125802/125802 [==============================] - 1525s 12ms/step - loss: 0.6077 - acc: 0.6792 - val_loss: 0.6330 - val_acc: 0.6708\n",
      "Epoch 6/50\n",
      "125802/125802 [==============================] - 1501s 12ms/step - loss: 0.6051 - acc: 0.6805 - val_loss: 0.6293 - val_acc: 0.6695\n",
      "Epoch 7/50\n",
      "125802/125802 [==============================] - 1505s 12ms/step - loss: 0.6028 - acc: 0.6821 - val_loss: 0.6393 - val_acc: 0.6682\n",
      "Epoch 8/50\n",
      "125802/125802 [==============================] - 1500s 12ms/step - loss: 0.6036 - acc: 0.6829 - val_loss: 0.6380 - val_acc: 0.6650\n",
      "Epoch 9/50\n",
      "125802/125802 [==============================] - 1579s 13ms/step - loss: 0.6022 - acc: 0.6828 - val_loss: 0.6436 - val_acc: 0.6633\n",
      "Epoch 10/50\n",
      "125802/125802 [==============================] - 1597s 13ms/step - loss: 0.6034 - acc: 0.6839 - val_loss: 0.6278 - val_acc: 0.6643\n",
      "Epoch 11/50\n",
      "125802/125802 [==============================] - 1555s 12ms/step - loss: 0.6038 - acc: 0.6840 - val_loss: 0.6300 - val_acc: 0.6656\n",
      "Epoch 12/50\n",
      "125802/125802 [==============================] - 1580s 13ms/step - loss: 0.6053 - acc: 0.6831 - val_loss: 0.6311 - val_acc: 0.6664\n",
      "Epoch 13/50\n",
      "125802/125802 [==============================] - 1608s 13ms/step - loss: 0.6088 - acc: 0.6807 - val_loss: 0.6276 - val_acc: 0.6673\n"
     ]
    },
    {
     "data": {
      "text/plain": [
       "<tensorflow.python.keras.callbacks.History at 0x26ca56b6088>"
      ]
     },
     "execution_count": 5,
     "metadata": {},
     "output_type": "execute_result"
    }
   ],
   "source": [
    "model = modeling.get_model('crnn-attention')()\n",
    "model.fit(X_train, y_train)"
   ]
  },
  {
   "cell_type": "code",
   "execution_count": 6,
   "metadata": {
    "ExecuteTime": {
     "end_time": "2020-11-11T01:15:17.046587Z",
     "start_time": "2020-11-11T01:13:56.695805Z"
    }
   },
   "outputs": [],
   "source": [
    "y_pred = model.predict(X_test)"
   ]
  },
  {
   "cell_type": "code",
   "execution_count": 7,
   "metadata": {
    "ExecuteTime": {
     "end_time": "2020-11-11T01:15:17.078586Z",
     "start_time": "2020-11-11T01:15:17.050617Z"
    }
   },
   "outputs": [
    {
     "name": "stdout",
     "output_type": "stream",
     "text": [
      "Accuracy: 0.49088901159580345\n",
      "Classification report:\n",
      "               precision    recall  f1-score   support\n",
      "\n",
      "       False       0.66      0.53      0.59      1234\n",
      "        True       0.29      0.41      0.34       577\n",
      "\n",
      "    accuracy                           0.49      1811\n",
      "   macro avg       0.47      0.47      0.46      1811\n",
      "weighted avg       0.54      0.49      0.51      1811\n",
      "\n"
     ]
    }
   ],
   "source": [
    "print('Accuracy:', evaluation.get_accuracy(y_test, y_pred))\n",
    "evaluation.print_classification_report(y_test, y_pred)"
   ]
  },
  {
   "cell_type": "code",
   "execution_count": 8,
   "metadata": {
    "ExecuteTime": {
     "end_time": "2020-11-11T01:15:17.391615Z",
     "start_time": "2020-11-11T01:15:17.082587Z"
    }
   },
   "outputs": [
    {
     "data": {
      "image/png": "[encoded data removed]",
      "text/plain": [
       "<Figure size 432x288 with 2 Axes>"
      ]
     },
     "metadata": {
      "needs_background": "light"
     },
     "output_type": "display_data"
    }
   ],
   "source": [
    "evaluation.plot_confusion_matrix(y_test, y_pred)"
   ]
  },
  {
   "cell_type": "code",
   "execution_count": null,
   "metadata": {},
   "outputs": [],
   "source": []
  }
 ],
 "metadata": {
  "colab": {
   "collapsed_sections": [],
   "name": "train.ipynb",
   "provenance": [],
   "toc_visible": true
  },
  "kernelspec": {
   "display_name": "Python 3",
   "language": "python",
   "name": "python3"
  },
  "language_info": {
   "codemirror_mode": {
    "name": "ipython",
    "version": 3
   },
   "file_extension": ".py",
   "mimetype": "text/x-python",
   "name": "python",
   "nbconvert_exporter": "python",
   "pygments_lexer": "ipython3",
   "version": "3.7.8"
  },
  "toc": {
   "base_numbering": 1,
   "nav_menu": {},
   "number_sections": true,
   "sideBar": true,
   "skip_h1_title": false,
   "title_cell": "Table of Contents",
   "title_sidebar": "Contents",
   "toc_cell": false,
   "toc_position": {},
   "toc_section_display": true,
   "toc_window_display": false
  }
 },
 "nbformat": 4,
 "nbformat_minor": 1
}
