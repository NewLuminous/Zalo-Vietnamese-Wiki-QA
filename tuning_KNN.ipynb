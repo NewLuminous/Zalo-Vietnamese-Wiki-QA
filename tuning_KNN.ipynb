{
 "cells": [
  {
   "cell_type": "markdown",
   "metadata": {},
   "source": [
    "# Load libraries"
   ]
  },
  {
   "cell_type": "code",
   "execution_count": 1,
   "metadata": {
    "ExecuteTime": {
     "end_time": "2020-12-01T06:10:58.464695Z",
     "start_time": "2020-12-01T06:10:53.903229Z"
    }
   },
   "outputs": [],
   "source": [
    "import modeling\n",
    "import evaluation\n",
    "from utils import data_loading\n",
    "import matplotlib.pyplot as plt\n",
    "import pickle\n",
    "from pprint import pprint\n",
    "%matplotlib inline\n",
    "\n",
    "import warnings\n",
    "warnings.filterwarnings('ignore')"
   ]
  },
  {
   "cell_type": "markdown",
   "metadata": {},
   "source": [
    "# Load data"
   ]
  },
  {
   "cell_type": "code",
   "execution_count": 2,
   "metadata": {
    "ExecuteTime": {
     "end_time": "2020-12-01T06:10:59.010720Z",
     "start_time": "2020-12-01T06:10:58.466689Z"
    }
   },
   "outputs": [
    {
     "data": {
      "text/html": [
       "<div>\n",
       "<style scoped>\n",
       "    .dataframe tbody tr th:only-of-type {\n",
       "        vertical-align: middle;\n",
       "    }\n",
       "\n",
       "    .dataframe tbody tr th {\n",
       "        vertical-align: top;\n",
       "    }\n",
       "\n",
       "    .dataframe thead th {\n",
       "        text-align: right;\n",
       "    }\n",
       "</style>\n",
       "<table border=\"1\" class=\"dataframe\">\n",
       "  <thead>\n",
       "    <tr style=\"text-align: right;\">\n",
       "      <th></th>\n",
       "      <th>question</th>\n",
       "      <th>text</th>\n",
       "      <th>label</th>\n",
       "    </tr>\n",
       "  </thead>\n",
       "  <tbody>\n",
       "    <tr>\n",
       "      <th>0</th>\n",
       "      <td>Quang Hải giành được chức vô địch U21 quốc gia...</td>\n",
       "      <td>Năm 2013 , Nguyễn Quang Hải giành chức vô địch...</td>\n",
       "      <td>True</td>\n",
       "    </tr>\n",
       "    <tr>\n",
       "      <th>1</th>\n",
       "      <td>Quang Hải giành được chức vô địch U21 quốc gia...</td>\n",
       "      <td>Sau chức vô địch U-21 quốc gia 2013 , Nguyễn Q...</td>\n",
       "      <td>True</td>\n",
       "    </tr>\n",
       "    <tr>\n",
       "      <th>2</th>\n",
       "      <td>Quang Hải giành được chức vô địch U21 quốc gia...</td>\n",
       "      <td>Anh bắt đầu gia nhập lò đào tạo trẻ Hà Nội T&amp;T...</td>\n",
       "      <td>False</td>\n",
       "    </tr>\n",
       "    <tr>\n",
       "      <th>3</th>\n",
       "      <td>Quang Hải giành được chức vô địch U21 quốc gia...</td>\n",
       "      <td>Năm 2011 , Nguyễn Quang Hải mới 14 tuổi được g...</td>\n",
       "      <td>False</td>\n",
       "    </tr>\n",
       "    <tr>\n",
       "      <th>4</th>\n",
       "      <td>Mỗi hiệp bóng đá kéo dài bao lâu</td>\n",
       "      <td>Một trận đấu bóng đá thông thường có hai hiệp ...</td>\n",
       "      <td>True</td>\n",
       "    </tr>\n",
       "    <tr>\n",
       "      <th>...</th>\n",
       "      <td>...</td>\n",
       "      <td>...</td>\n",
       "      <td>...</td>\n",
       "    </tr>\n",
       "    <tr>\n",
       "      <th>5490</th>\n",
       "      <td>Ai đã xác định Vaginailis?</td>\n",
       "      <td>Có khoảng 58 triệu ca nhiễm bệnh này trong năm...</td>\n",
       "      <td>True</td>\n",
       "    </tr>\n",
       "    <tr>\n",
       "      <th>5491</th>\n",
       "      <td>Bộ phận nào trong quá khứ có quyền ra quyết đị...</td>\n",
       "      <td>Hiến pháp Hoa Kỳ phân chia quyền lực giữa hai ...</td>\n",
       "      <td>True</td>\n",
       "    </tr>\n",
       "    <tr>\n",
       "      <th>5492</th>\n",
       "      <td>Lễ trao giải diễn ra khi nào?</td>\n",
       "      <td>Lễ trao giải Oscar lần thứ 89, tổ chức bởi Việ...</td>\n",
       "      <td>True</td>\n",
       "    </tr>\n",
       "    <tr>\n",
       "      <th>5493</th>\n",
       "      <td>Các mẫu được nhắm đến ai?</td>\n",
       "      <td>Dòng  Nokia 3000 chủ yếu là điện thoại tầm tru...</td>\n",
       "      <td>True</td>\n",
       "    </tr>\n",
       "    <tr>\n",
       "      <th>5494</th>\n",
       "      <td>DEF có nghĩa là gì?</td>\n",
       "      <td>Dung dịch xử lý khí thải động cơ diesel (viết ...</td>\n",
       "      <td>True</td>\n",
       "    </tr>\n",
       "  </tbody>\n",
       "</table>\n",
       "<p>24900 rows × 3 columns</p>\n",
       "</div>"
      ],
      "text/plain": [
       "                                               question  \\\n",
       "0     Quang Hải giành được chức vô địch U21 quốc gia...   \n",
       "1     Quang Hải giành được chức vô địch U21 quốc gia...   \n",
       "2     Quang Hải giành được chức vô địch U21 quốc gia...   \n",
       "3     Quang Hải giành được chức vô địch U21 quốc gia...   \n",
       "4                      Mỗi hiệp bóng đá kéo dài bao lâu   \n",
       "...                                                 ...   \n",
       "5490                      Ai đã xác định Vaginailis?   \n",
       "5491  Bộ phận nào trong quá khứ có quyền ra quyết đị...   \n",
       "5492                     Lễ trao giải diễn ra khi nào?    \n",
       "5493                          Các mẫu được nhắm đến ai?   \n",
       "5494                                DEF có nghĩa là gì?   \n",
       "\n",
       "                                                   text  label  \n",
       "0     Năm 2013 , Nguyễn Quang Hải giành chức vô địch...   True  \n",
       "1     Sau chức vô địch U-21 quốc gia 2013 , Nguyễn Q...   True  \n",
       "2     Anh bắt đầu gia nhập lò đào tạo trẻ Hà Nội T&T...  False  \n",
       "3     Năm 2011 , Nguyễn Quang Hải mới 14 tuổi được g...  False  \n",
       "4     Một trận đấu bóng đá thông thường có hai hiệp ...   True  \n",
       "...                                                 ...    ...  \n",
       "5490  Có khoảng 58 triệu ca nhiễm bệnh này trong năm...   True  \n",
       "5491  Hiến pháp Hoa Kỳ phân chia quyền lực giữa hai ...   True  \n",
       "5492  Lễ trao giải Oscar lần thứ 89, tổ chức bởi Việ...   True  \n",
       "5493  Dòng  Nokia 3000 chủ yếu là điện thoại tầm tru...   True  \n",
       "5494  Dung dịch xử lý khí thải động cơ diesel (viết ...   True  \n",
       "\n",
       "[24900 rows x 3 columns]"
      ]
     },
     "execution_count": 2,
     "metadata": {},
     "output_type": "execute_result"
    }
   ],
   "source": [
    "train_data = data_loading.load_train(['zaloai', 'mailong25', 'facebook'])\n",
    "test_data = data_loading.load_test(['zaloai', 'mailong25', 'facebook'])\n",
    "train_data"
   ]
  },
  {
   "cell_type": "code",
   "execution_count": 3,
   "metadata": {
    "ExecuteTime": {
     "end_time": "2020-12-01T06:10:59.025711Z",
     "start_time": "2020-12-01T06:10:59.013692Z"
    }
   },
   "outputs": [],
   "source": [
    "X_train = train_data.drop(columns=['label'])\n",
    "y_train = train_data['label']\n",
    "X_test = test_data.drop(columns=['label'])\n",
    "y_test = test_data['label']"
   ]
  },
  {
   "cell_type": "markdown",
   "metadata": {},
   "source": [
    "# Train & Tune models"
   ]
  },
  {
   "cell_type": "markdown",
   "metadata": {},
   "source": [
    "## K-Nearest Neighbors"
   ]
  },
  {
   "cell_type": "code",
   "execution_count": 4,
   "metadata": {
    "ExecuteTime": {
     "end_time": "2020-12-01T06:10:59.040692Z",
     "start_time": "2020-12-01T06:10:59.028691Z"
    }
   },
   "outputs": [],
   "source": [
    "model = modeling.get_model('knn')(vectorizer='tfidf-ngram')"
   ]
  },
  {
   "cell_type": "code",
   "execution_count": 5,
   "metadata": {
    "ExecuteTime": {
     "end_time": "2020-12-01T06:10:59.056694Z",
     "start_time": "2020-12-01T06:10:59.042689Z"
    }
   },
   "outputs": [
    {
     "name": "stdout",
     "output_type": "stream",
     "text": [
      "Default Parameters \n",
      "==================================================\n",
      "{'algorithm': 'auto',\n",
      " 'leaf_size': 30,\n",
      " 'metric': 'minkowski',\n",
      " 'metric_params': None,\n",
      " 'n_jobs': None,\n",
      " 'n_neighbors': 3,\n",
      " 'p': 2,\n",
      " 'weights': 'uniform'}\n",
      "==================================================\n"
     ]
    }
   ],
   "source": [
    "print(\"Default Parameters \")\n",
    "print('='*50)\n",
    "pprint(model.get_classifier_params())\n",
    "print('='*50)"
   ]
  },
  {
   "cell_type": "code",
   "execution_count": 6,
   "metadata": {
    "ExecuteTime": {
     "end_time": "2020-12-01T06:11:00.318953Z",
     "start_time": "2020-12-01T06:11:00.310946Z"
    }
   },
   "outputs": [
    {
     "name": "stdout",
     "output_type": "stream",
     "text": [
      "Tuning Parameters\n",
      "==================================================\n",
      "{'n_neighbors': [200, 500, 1000]}\n",
      "==================================================\n"
     ]
    }
   ],
   "source": [
    "grid_params  = {\n",
    "    'n_neighbors' : [200, 500, 1000],\n",
    "}\n",
    "print(\"Tuning Parameters\")\n",
    "print('='*50)\n",
    "pprint(grid_params)\n",
    "print('='*50)"
   ]
  },
  {
   "cell_type": "code",
   "execution_count": 7,
   "metadata": {
    "ExecuteTime": {
     "end_time": "2020-12-01T06:13:48.526048Z",
     "start_time": "2020-12-01T06:11:13.467751Z"
    }
   },
   "outputs": [
    {
     "name": "stdout",
     "output_type": "stream",
     "text": [
      "Best Parameters\n",
      "==================================================\n",
      "Fitting 3 folds for each of 3 candidates, totalling 9 fits\n"
     ]
    },
    {
     "name": "stderr",
     "output_type": "stream",
     "text": [
      "[Parallel(n_jobs=-2)]: Using backend LokyBackend with 7 concurrent workers.\n",
      "[Parallel(n_jobs=-2)]: Done   6 out of   9 | elapsed: 15.4min remaining:  7.7min\n",
      "[Parallel(n_jobs=-2)]: Done   9 out of   9 | elapsed: 15.5min finished\n"
     ]
    },
    {
     "name": "stdout",
     "output_type": "stream",
     "text": [
      "{'n_neighbors': 500}\n",
      "==================================================\n"
     ]
    }
   ],
   "source": [
    "print('Best Parameters')\n",
    "print('='*50)\n",
    "print(model.grid_search(X_train, y_train, grid_params, scoring='f1_macro'))\n",
    "print('='*50)"
   ]
  },
  {
   "cell_type": "code",
   "execution_count": 8,
   "metadata": {
    "ExecuteTime": {
     "end_time": "2020-12-01T06:17:58.700991Z",
     "start_time": "2020-12-01T06:15:51.520523Z"
    }
   },
   "outputs": [],
   "source": [
    "model = modeling.get_model('knn')(vectorizer='tfidf-ngram', n_neighbors=500)\n",
    "model.fit(X_train, y_train)\n",
    "y_pred = model.predict(X_test)"
   ]
  },
  {
   "cell_type": "code",
   "execution_count": 9,
   "metadata": {
    "ExecuteTime": {
     "end_time": "2020-12-01T06:17:58.716733Z",
     "start_time": "2020-12-01T06:17:58.704730Z"
    }
   },
   "outputs": [
    {
     "data": {
      "text/plain": [
       "0.6409469473408091"
      ]
     },
     "execution_count": 9,
     "metadata": {},
     "output_type": "execute_result"
    }
   ],
   "source": [
    "evaluation.get_f1_score(y_test, y_pred)"
   ]
  }
 ],
 "metadata": {
  "colab": {
   "collapsed_sections": [],
   "name": "train.ipynb",
   "provenance": [],
   "toc_visible": true
  },
  "kernelspec": {
   "display_name": "Python (nlp)",
   "language": "python",
   "name": "nlp"
  },
  "language_info": {
   "codemirror_mode": {
    "name": "ipython",
    "version": 3
   },
   "file_extension": ".py",
   "mimetype": "text/x-python",
   "name": "python",
   "nbconvert_exporter": "python",
   "pygments_lexer": "ipython3",
   "version": "3.8.6"
  },
  "toc": {
   "base_numbering": 1,
   "nav_menu": {},
   "number_sections": true,
   "sideBar": true,
   "skip_h1_title": false,
   "title_cell": "Table of Contents",
   "title_sidebar": "Contents",
   "toc_cell": false,
   "toc_position": {},
   "toc_section_display": true,
   "toc_window_display": false
  }
 },
 "nbformat": 4,
 "nbformat_minor": 1
}
