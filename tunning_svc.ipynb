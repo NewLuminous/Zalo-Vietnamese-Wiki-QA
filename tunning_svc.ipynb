{
 "cells": [
  {
   "cell_type": "markdown",
   "metadata": {},
   "source": [
    "# Load libraries"
   ]
  },
  {
   "cell_type": "code",
   "execution_count": 9,
   "metadata": {},
   "outputs": [],
   "source": [
    "import modeling\n",
    "import evaluation\n",
    "from utils import data_loading\n",
    "import matplotlib.pyplot as plt\n",
    "import pickle\n",
    "from pprint import pprint\n",
    "%matplotlib inline\n",
    "\n",
    "import warnings\n",
    "warnings.filterwarnings('ignore')"
   ]
  },
  {
   "cell_type": "markdown",
   "metadata": {},
   "source": [
    "# Load data"
   ]
  },
  {
   "cell_type": "code",
   "execution_count": 10,
   "metadata": {},
   "outputs": [
    {
     "data": {
      "text/html": [
       "<div>\n",
       "<style scoped>\n",
       "    .dataframe tbody tr th:only-of-type {\n",
       "        vertical-align: middle;\n",
       "    }\n",
       "\n",
       "    .dataframe tbody tr th {\n",
       "        vertical-align: top;\n",
       "    }\n",
       "\n",
       "    .dataframe thead th {\n",
       "        text-align: right;\n",
       "    }\n",
       "</style>\n",
       "<table border=\"1\" class=\"dataframe\">\n",
       "  <thead>\n",
       "    <tr style=\"text-align: right;\">\n",
       "      <th></th>\n",
       "      <th>question</th>\n",
       "      <th>text</th>\n",
       "      <th>label</th>\n",
       "    </tr>\n",
       "  </thead>\n",
       "  <tbody>\n",
       "    <tr>\n",
       "      <th>0</th>\n",
       "      <td>Quang Hải giành được chức vô địch U21 quốc gia...</td>\n",
       "      <td>Năm 2013 , Nguyễn Quang Hải giành chức vô địch...</td>\n",
       "      <td>True</td>\n",
       "    </tr>\n",
       "    <tr>\n",
       "      <th>1</th>\n",
       "      <td>Quang Hải giành được chức vô địch U21 quốc gia...</td>\n",
       "      <td>Sau chức vô địch U-21 quốc gia 2013 , Nguyễn Q...</td>\n",
       "      <td>True</td>\n",
       "    </tr>\n",
       "    <tr>\n",
       "      <th>2</th>\n",
       "      <td>Quang Hải giành được chức vô địch U21 quốc gia...</td>\n",
       "      <td>Anh bắt đầu gia nhập lò đào tạo trẻ Hà Nội T&amp;T...</td>\n",
       "      <td>False</td>\n",
       "    </tr>\n",
       "    <tr>\n",
       "      <th>3</th>\n",
       "      <td>Quang Hải giành được chức vô địch U21 quốc gia...</td>\n",
       "      <td>Năm 2011 , Nguyễn Quang Hải mới 14 tuổi được g...</td>\n",
       "      <td>False</td>\n",
       "    </tr>\n",
       "    <tr>\n",
       "      <th>4</th>\n",
       "      <td>Mỗi hiệp bóng đá kéo dài bao lâu</td>\n",
       "      <td>Một trận đấu bóng đá thông thường có hai hiệp ...</td>\n",
       "      <td>True</td>\n",
       "    </tr>\n",
       "    <tr>\n",
       "      <th>...</th>\n",
       "      <td>...</td>\n",
       "      <td>...</td>\n",
       "      <td>...</td>\n",
       "    </tr>\n",
       "    <tr>\n",
       "      <th>5490</th>\n",
       "      <td>Ai đã xác định Vaginailis?</td>\n",
       "      <td>Có khoảng 58 triệu ca nhiễm bệnh này trong năm...</td>\n",
       "      <td>True</td>\n",
       "    </tr>\n",
       "    <tr>\n",
       "      <th>5491</th>\n",
       "      <td>Bộ phận nào trong quá khứ có quyền ra quyết đị...</td>\n",
       "      <td>Hiến pháp Hoa Kỳ phân chia quyền lực giữa hai ...</td>\n",
       "      <td>True</td>\n",
       "    </tr>\n",
       "    <tr>\n",
       "      <th>5492</th>\n",
       "      <td>Lễ trao giải diễn ra khi nào?</td>\n",
       "      <td>Lễ trao giải Oscar lần thứ 89, tổ chức bởi Việ...</td>\n",
       "      <td>True</td>\n",
       "    </tr>\n",
       "    <tr>\n",
       "      <th>5493</th>\n",
       "      <td>Các mẫu được nhắm đến ai?</td>\n",
       "      <td>Dòng  Nokia 3000 chủ yếu là điện thoại tầm tru...</td>\n",
       "      <td>True</td>\n",
       "    </tr>\n",
       "    <tr>\n",
       "      <th>5494</th>\n",
       "      <td>DEF có nghĩa là gì?</td>\n",
       "      <td>Dung dịch xử lý khí thải động cơ diesel (viết ...</td>\n",
       "      <td>True</td>\n",
       "    </tr>\n",
       "  </tbody>\n",
       "</table>\n",
       "<p>24900 rows × 3 columns</p>\n",
       "</div>"
      ],
      "text/plain": [
       "                                               question  \\\n",
       "0     Quang Hải giành được chức vô địch U21 quốc gia...   \n",
       "1     Quang Hải giành được chức vô địch U21 quốc gia...   \n",
       "2     Quang Hải giành được chức vô địch U21 quốc gia...   \n",
       "3     Quang Hải giành được chức vô địch U21 quốc gia...   \n",
       "4                      Mỗi hiệp bóng đá kéo dài bao lâu   \n",
       "...                                                 ...   \n",
       "5490                      Ai đã xác định Vaginailis?   \n",
       "5491  Bộ phận nào trong quá khứ có quyền ra quyết đị...   \n",
       "5492                     Lễ trao giải diễn ra khi nào?    \n",
       "5493                          Các mẫu được nhắm đến ai?   \n",
       "5494                                DEF có nghĩa là gì?   \n",
       "\n",
       "                                                   text  label  \n",
       "0     Năm 2013 , Nguyễn Quang Hải giành chức vô địch...   True  \n",
       "1     Sau chức vô địch U-21 quốc gia 2013 , Nguyễn Q...   True  \n",
       "2     Anh bắt đầu gia nhập lò đào tạo trẻ Hà Nội T&T...  False  \n",
       "3     Năm 2011 , Nguyễn Quang Hải mới 14 tuổi được g...  False  \n",
       "4     Một trận đấu bóng đá thông thường có hai hiệp ...   True  \n",
       "...                                                 ...    ...  \n",
       "5490  Có khoảng 58 triệu ca nhiễm bệnh này trong năm...   True  \n",
       "5491  Hiến pháp Hoa Kỳ phân chia quyền lực giữa hai ...   True  \n",
       "5492  Lễ trao giải Oscar lần thứ 89, tổ chức bởi Việ...   True  \n",
       "5493  Dòng  Nokia 3000 chủ yếu là điện thoại tầm tru...   True  \n",
       "5494  Dung dịch xử lý khí thải động cơ diesel (viết ...   True  \n",
       "\n",
       "[24900 rows x 3 columns]"
      ]
     },
     "execution_count": 10,
     "metadata": {},
     "output_type": "execute_result"
    }
   ],
   "source": [
    "train_data = data_loading.load_train(['zaloai', 'mailong25', 'facebook'])\n",
    "test_data = data_loading.load_test(['zaloai', 'mailong25', 'facebook'])\n",
    "train_data"
   ]
  },
  {
   "cell_type": "code",
   "execution_count": 11,
   "metadata": {},
   "outputs": [],
   "source": [
    "X_train = train_data.drop(columns=['label'])\n",
    "y_train = train_data['label']\n",
    "X_test = test_data.drop(columns=['label'])\n",
    "y_test = test_data['label']"
   ]
  },
  {
   "cell_type": "markdown",
   "metadata": {},
   "source": [
    "# Train & Tune models"
   ]
  },
  {
   "cell_type": "markdown",
   "metadata": {},
   "source": [
    "## SVC"
   ]
  },
  {
   "cell_type": "code",
   "execution_count": 12,
   "metadata": {},
   "outputs": [],
   "source": [
    "model = modeling.get_model('svc')(vectorizer='tfidf')"
   ]
  },
  {
   "cell_type": "code",
   "execution_count": 13,
   "metadata": {},
   "outputs": [
    {
     "name": "stdout",
     "output_type": "stream",
     "text": [
      "Default Parameters \n",
      "==================================================\n",
      "{'C': 1.0,\n",
      " 'break_ties': False,\n",
      " 'cache_size': 200,\n",
      " 'class_weight': None,\n",
      " 'coef0': 0.0,\n",
      " 'decision_function_shape': 'ovr',\n",
      " 'degree': 3,\n",
      " 'gamma': 'scale',\n",
      " 'kernel': 'rbf',\n",
      " 'max_iter': -1,\n",
      " 'probability': False,\n",
      " 'random_state': None,\n",
      " 'shrinking': True,\n",
      " 'tol': 0.001,\n",
      " 'verbose': False}\n",
      "==================================================\n"
     ]
    }
   ],
   "source": [
    "print(\"Default Parameters \")\n",
    "print('='*50)\n",
    "pprint(model.get_classifier_params())\n",
    "print('='*50)"
   ]
  },
  {
   "cell_type": "code",
   "execution_count": 14,
   "metadata": {},
   "outputs": [
    {
     "name": "stdout",
     "output_type": "stream",
     "text": [
      "Tuning Parameters\n",
      "==================================================\n",
      "{'gamma': ['scale', 'auto']}\n",
      "==================================================\n"
     ]
    }
   ],
   "source": [
    "grid_params  = {\n",
    "    'gamma' : ['scale','auto']\n",
    "}\n",
    "print(\"Tuning Parameters\")\n",
    "print('='*50)\n",
    "pprint(grid_params)\n",
    "print('='*50)"
   ]
  },
  {
   "cell_type": "code",
   "execution_count": 15,
   "metadata": {},
   "outputs": [
    {
     "name": "stdout",
     "output_type": "stream",
     "text": [
      "Best Parameters\n",
      "==================================================\n",
      "Fitting 3 folds for each of 2 candidates, totalling 6 fits\n"
     ]
    },
    {
     "name": "stderr",
     "output_type": "stream",
     "text": [
      "[Parallel(n_jobs=-2)]: Using backend LokyBackend with 7 concurrent workers.\n",
      "[Parallel(n_jobs=-2)]: Done   6 out of   6 | elapsed:  8.4min finished\n"
     ]
    },
    {
     "name": "stdout",
     "output_type": "stream",
     "text": [
      "{'gamma': 'scale'}\n",
      "==================================================\n"
     ]
    }
   ],
   "source": [
    "print('Best Parameters')\n",
    "print('='*50)\n",
    "print(model.grid_search(X_train, y_train, grid_params, scoring='f1_macro'))\n",
    "print('='*50)"
   ]
  },
  {
   "cell_type": "code",
   "execution_count": 16,
   "metadata": {},
   "outputs": [],
   "source": [
    "model = modeling.get_model('svc')(vectorizer='tfidf', gamma = 'scale')"
   ]
  },
  {
   "cell_type": "code",
   "execution_count": 17,
   "metadata": {},
   "outputs": [],
   "source": [
    "model.fit(X_train, y_train)\n",
    "y_pred = model.predict(X_test)"
   ]
  },
  {
   "cell_type": "code",
   "execution_count": 18,
   "metadata": {},
   "outputs": [
    {
     "data": {
      "text/plain": [
       "0.7225193056049091"
      ]
     },
     "execution_count": 18,
     "metadata": {},
     "output_type": "execute_result"
    }
   ],
   "source": [
    "evaluation.get_f1_score(y_test, y_pred)"
   ]
  }
 ],
 "metadata": {
  "kernelspec": {
   "display_name": "Python (nlp)",
   "language": "python",
   "name": "nlp"
  },
  "language_info": {
   "codemirror_mode": {
    "name": "ipython",
    "version": 3
   },
   "file_extension": ".py",
   "mimetype": "text/x-python",
   "name": "python",
   "nbconvert_exporter": "python",
   "pygments_lexer": "ipython3",
   "version": "3.8.6"
  }
 },
 "nbformat": 4,
 "nbformat_minor": 2
}
