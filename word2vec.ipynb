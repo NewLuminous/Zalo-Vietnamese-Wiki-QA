{
 "cells": [
  {
   "cell_type": "markdown",
   "metadata": {
    "toc": true
   },
   "source": [
    "<h1>Table of Contents<span class=\"tocSkip\"></span></h1>\n",
    "<div class=\"toc\"><ul class=\"toc-item\"><li><span><a href=\"#Load-dataset\" data-toc-modified-id=\"Load-dataset-1\"><span class=\"toc-item-num\">1&nbsp;&nbsp;</span>Load dataset</a></span></li><li><span><a href=\"#Train-Word2Vec-model\" data-toc-modified-id=\"Train-Word2Vec-model-2\"><span class=\"toc-item-num\">2&nbsp;&nbsp;</span>Train Word2Vec model</a></span></li><li><span><a href=\"#Play-around\" data-toc-modified-id=\"Play-around-3\"><span class=\"toc-item-num\">3&nbsp;&nbsp;</span>Play around</a></span></li><li><span><a href=\"#Visualize\" data-toc-modified-id=\"Visualize-4\"><span class=\"toc-item-num\">4&nbsp;&nbsp;</span>Visualize</a></span></li></ul></div>"
   ]
  },
  {
   "cell_type": "code",
   "execution_count": 1,
   "metadata": {
    "ExecuteTime": {
     "end_time": "2020-11-08T04:10:27.063018Z",
     "start_time": "2020-11-08T04:10:25.064284Z"
    }
   },
   "outputs": [],
   "source": [
    "import numpy as np\n",
    "from gensim.models import Word2Vec\n",
    "from sklearn.manifold import TSNE\n",
    "import matplotlib.pyplot as plt\n",
    "%matplotlib inline\n",
    "\n",
    "import warnings\n",
    "warnings.filterwarnings('ignore')"
   ]
  },
  {
   "cell_type": "markdown",
   "metadata": {
    "id": "jSAUB0cPXS8F"
   },
   "source": [
    "# Load dataset"
   ]
  },
  {
   "cell_type": "code",
   "execution_count": 2,
   "metadata": {
    "ExecuteTime": {
     "end_time": "2020-11-07T16:24:19.664728Z",
     "start_time": "2020-11-07T16:24:19.652745Z"
    },
    "id": "dzUD_nlrXS8G"
   },
   "outputs": [],
   "source": [
    "# sentences = []\n",
    "# with open('./data/news_corpus_tokenize.txt', 'r', encoding='utf-8') as file:\n",
    "#     for line in file:\n",
    "#         sentences.append(line.split())"
   ]
  },
  {
   "cell_type": "code",
   "execution_count": 3,
   "metadata": {
    "ExecuteTime": {
     "end_time": "2020-11-07T16:24:19.679735Z",
     "start_time": "2020-11-07T16:24:19.670737Z"
    },
    "id": "TD0LWp6PXS8J"
   },
   "outputs": [],
   "source": [
    "# sentences[:3]"
   ]
  },
  {
   "cell_type": "markdown",
   "metadata": {
    "id": "BnjShz_jXS8M"
   },
   "source": [
    "# Train Word2Vec model\n",
    "\n",
    "- vector_size: Dimensionality of the word vectors. Default: 100.\n",
    "- window: Maximum distance between the current and predicted word within a sentence. Default: 5.\n",
    "- min_count: Ignores all words with total frequency lower than this. Default: 5.\n",
    "- workers: Use these many worker threads to train the model (=faster training with multicore machines). Default: 3\n",
    "- sg: Training algorithm: 1 for skip-gram; otherwise CBOW. The default training algorithm is CBOW."
   ]
  },
  {
   "cell_type": "code",
   "execution_count": 4,
   "metadata": {
    "ExecuteTime": {
     "end_time": "2020-11-07T16:24:19.695734Z",
     "start_time": "2020-11-07T16:24:19.683731Z"
    },
    "id": "3re-y6FBXS8N"
   },
   "outputs": [],
   "source": [
    "# model = Word2Vec(sentences, vector_size=50, window=3, min_count=10, workers=12, sg=1)"
   ]
  },
  {
   "cell_type": "code",
   "execution_count": 5,
   "metadata": {
    "ExecuteTime": {
     "end_time": "2020-11-07T16:24:19.710727Z",
     "start_time": "2020-11-07T16:24:19.698730Z"
    },
    "id": "UxkrO3YvXS8P"
   },
   "outputs": [],
   "source": [
    "# model.save(\"saved_models/word2vec_news.model\")"
   ]
  },
  {
   "cell_type": "code",
   "execution_count": 2,
   "metadata": {
    "ExecuteTime": {
     "end_time": "2020-11-08T04:10:39.750475Z",
     "start_time": "2020-11-08T04:10:38.666220Z"
    },
    "executionInfo": {
     "elapsed": 29437,
     "status": "ok",
     "timestamp": 1604737332401,
     "user": {
      "displayName": "Minh Tân Nguyễn",
      "photoUrl": "https://lh3.googleusercontent.com/a-/AOh14GjB_FXjFydXbD57BQnwV_PlXZLZ6x7lh8bddx_s=s64",
      "userId": "15685404723980402174"
     },
     "user_tz": -420
    },
    "id": "goGgfEYMyQ2K"
   },
   "outputs": [],
   "source": [
    "model = Word2Vec.load(\"saved_models/word2vec_news.model\")"
   ]
  },
  {
   "cell_type": "markdown",
   "metadata": {
    "id": "NtZca4pWXS8S"
   },
   "source": [
    "# Play around"
   ]
  },
  {
   "cell_type": "code",
   "execution_count": 7,
   "metadata": {
    "ExecuteTime": {
     "end_time": "2020-11-07T16:24:21.000902Z",
     "start_time": "2020-11-07T16:24:20.941728Z"
    },
    "colab": {
     "base_uri": "https://localhost:8080/"
    },
    "executionInfo": {
     "elapsed": 699,
     "status": "ok",
     "timestamp": 1604552726732,
     "user": {
      "displayName": "Minh Tân Nguyễn",
      "photoUrl": "https://lh3.googleusercontent.com/a-/AOh14GjB_FXjFydXbD57BQnwV_PlXZLZ6x7lh8bddx_s=s64",
      "userId": "15685404723980402174"
     },
     "user_tz": -420
    },
    "id": "VkVryOMRXS8S",
    "outputId": "78c1f575-1870-40b8-8ad1-d2c21ec4f739"
   },
   "outputs": [
    {
     "data": {
      "text/plain": [
       "[('đại_học', 0.8292111158370972),\n",
       " ('Hanyang', 0.8209556341171265),\n",
       " ('Gilmer', 0.799005389213562),\n",
       " ('hàm_thụ', 0.7988263964653015),\n",
       " ('Berklee', 0.7985203862190247),\n",
       " ('thỉnh_giảng', 0.7903547286987305),\n",
       " ('Morehouse', 0.7830025553703308),\n",
       " ('tốt_nghiệp', 0.7825169563293457),\n",
       " ('Vassar', 0.7818542718887329),\n",
       " ('Llandrillo', 0.7793876528739929)]"
      ]
     },
     "execution_count": 7,
     "metadata": {},
     "output_type": "execute_result"
    }
   ],
   "source": [
    "model.wv.most_similar('Todai')[:10]"
   ]
  },
  {
   "cell_type": "code",
   "execution_count": 8,
   "metadata": {
    "ExecuteTime": {
     "end_time": "2020-11-07T16:24:21.016870Z",
     "start_time": "2020-11-07T16:24:21.003835Z"
    },
    "id": "zT1DWSZBXS8V"
   },
   "outputs": [],
   "source": [
    "def analogy(x1, x2, y1):\n",
    "    result = model.wv.most_similar(positive=[y1, x2], negative=[x1])\n",
    "    return result[0][0]"
   ]
  },
  {
   "cell_type": "code",
   "execution_count": 9,
   "metadata": {
    "ExecuteTime": {
     "end_time": "2020-11-07T16:24:21.032831Z",
     "start_time": "2020-11-07T16:24:21.018831Z"
    },
    "colab": {
     "base_uri": "https://localhost:8080/",
     "height": 35
    },
    "executionInfo": {
     "elapsed": 412,
     "status": "ok",
     "timestamp": 1604552728280,
     "user": {
      "displayName": "Minh Tân Nguyễn",
      "photoUrl": "https://lh3.googleusercontent.com/a-/AOh14GjB_FXjFydXbD57BQnwV_PlXZLZ6x7lh8bddx_s=s64",
      "userId": "15685404723980402174"
     },
     "user_tz": -420
    },
    "id": "NIcLhcDRXS8Y",
    "outputId": "171f67a0-94f5-4d6f-d7f8-2c4459c17565"
   },
   "outputs": [
    {
     "data": {
      "text/plain": [
       "'sinh_viên'"
      ]
     },
     "execution_count": 9,
     "metadata": {},
     "output_type": "execute_result"
    }
   ],
   "source": [
    "analogy('tiểu_học', 'học_sinh', 'đại_học')"
   ]
  },
  {
   "cell_type": "code",
   "execution_count": 10,
   "metadata": {
    "ExecuteTime": {
     "end_time": "2020-11-07T16:24:21.048011Z",
     "start_time": "2020-11-07T16:24:21.034832Z"
    },
    "colab": {
     "base_uri": "https://localhost:8080/",
     "height": 35
    },
    "executionInfo": {
     "elapsed": 787,
     "status": "ok",
     "timestamp": 1604552730788,
     "user": {
      "displayName": "Minh Tân Nguyễn",
      "photoUrl": "https://lh3.googleusercontent.com/a-/AOh14GjB_FXjFydXbD57BQnwV_PlXZLZ6x7lh8bddx_s=s64",
      "userId": "15685404723980402174"
     },
     "user_tz": -420
    },
    "id": "dU0rHZkeXS8a",
    "outputId": "adfcb772-1316-4373-aea2-3d9f2571eeb8"
   },
   "outputs": [
    {
     "data": {
      "text/plain": [
       "'á_khoa'"
      ]
     },
     "execution_count": 10,
     "metadata": {},
     "output_type": "execute_result"
    }
   ],
   "source": [
    "analogy('một', 'thủ_khoa', 'hai')"
   ]
  },
  {
   "cell_type": "code",
   "execution_count": 11,
   "metadata": {
    "ExecuteTime": {
     "end_time": "2020-11-07T16:24:21.063831Z",
     "start_time": "2020-11-07T16:24:21.049834Z"
    },
    "colab": {
     "base_uri": "https://localhost:8080/",
     "height": 35
    },
    "executionInfo": {
     "elapsed": 512,
     "status": "ok",
     "timestamp": 1604552730789,
     "user": {
      "displayName": "Minh Tân Nguyễn",
      "photoUrl": "https://lh3.googleusercontent.com/a-/AOh14GjB_FXjFydXbD57BQnwV_PlXZLZ6x7lh8bddx_s=s64",
      "userId": "15685404723980402174"
     },
     "user_tz": -420
    },
    "id": "N869xrZeXS8c",
    "outputId": "564faee1-6c53-43db-d2cd-30d4244819c3"
   },
   "outputs": [
    {
     "data": {
      "text/plain": [
       "'Apple'"
      ]
     },
     "execution_count": 11,
     "metadata": {},
     "output_type": "execute_result"
    }
   ],
   "source": [
    "analogy('Galaxy', 'Samsung', 'iPhone')"
   ]
  },
  {
   "cell_type": "code",
   "execution_count": 12,
   "metadata": {
    "ExecuteTime": {
     "end_time": "2020-11-07T16:24:21.078866Z",
     "start_time": "2020-11-07T16:24:21.065832Z"
    },
    "colab": {
     "base_uri": "https://localhost:8080/",
     "height": 35
    },
    "executionInfo": {
     "elapsed": 623,
     "status": "ok",
     "timestamp": 1604552731112,
     "user": {
      "displayName": "Minh Tân Nguyễn",
      "photoUrl": "https://lh3.googleusercontent.com/a-/AOh14GjB_FXjFydXbD57BQnwV_PlXZLZ6x7lh8bddx_s=s64",
      "userId": "15685404723980402174"
     },
     "user_tz": -420
    },
    "id": "VwG5bQ4DXS8g",
    "outputId": "8a31e873-0fa4-4519-c8f6-dbc004133462"
   },
   "outputs": [
    {
     "data": {
      "text/plain": [
       "'nghỉ_ngơi'"
      ]
     },
     "execution_count": 12,
     "metadata": {},
     "output_type": "execute_result"
    }
   ],
   "source": [
    "analogy('nặng_nhọc', 'làm_việc', 'thư_giãn')"
   ]
  },
  {
   "cell_type": "code",
   "execution_count": 13,
   "metadata": {
    "ExecuteTime": {
     "end_time": "2020-11-07T16:24:21.094871Z",
     "start_time": "2020-11-07T16:24:21.080843Z"
    },
    "colab": {
     "base_uri": "https://localhost:8080/",
     "height": 35
    },
    "executionInfo": {
     "elapsed": 636,
     "status": "ok",
     "timestamp": 1604552731365,
     "user": {
      "displayName": "Minh Tân Nguyễn",
      "photoUrl": "https://lh3.googleusercontent.com/a-/AOh14GjB_FXjFydXbD57BQnwV_PlXZLZ6x7lh8bddx_s=s64",
      "userId": "15685404723980402174"
     },
     "user_tz": -420
    },
    "id": "2PTPGOqiXS8j",
    "outputId": "f5fe78d1-bd55-4eff-ece0-489601a03069"
   },
   "outputs": [
    {
     "data": {
      "text/plain": [
       "'đàn_ông'"
      ]
     },
     "execution_count": 13,
     "metadata": {},
     "output_type": "execute_result"
    }
   ],
   "source": [
    "analogy('cô_giáo', 'phụ_nữ', 'thầy_giáo')"
   ]
  },
  {
   "cell_type": "code",
   "execution_count": 14,
   "metadata": {
    "ExecuteTime": {
     "end_time": "2020-11-07T16:24:21.110831Z",
     "start_time": "2020-11-07T16:24:21.096853Z"
    },
    "colab": {
     "base_uri": "https://localhost:8080/",
     "height": 35
    },
    "executionInfo": {
     "elapsed": 654,
     "status": "ok",
     "timestamp": 1604552731639,
     "user": {
      "displayName": "Minh Tân Nguyễn",
      "photoUrl": "https://lh3.googleusercontent.com/a-/AOh14GjB_FXjFydXbD57BQnwV_PlXZLZ6x7lh8bddx_s=s64",
      "userId": "15685404723980402174"
     },
     "user_tz": -420
    },
    "id": "t7JOpWfbXS8l",
    "outputId": "da43a0a9-66ca-4948-ea24-2583cd58e2b7"
   },
   "outputs": [
    {
     "data": {
      "text/plain": [
       "'thứ_trưởng'"
      ]
     },
     "execution_count": 14,
     "metadata": {},
     "output_type": "execute_result"
    }
   ],
   "source": [
    "analogy('trưởng_phòng', 'bộ_trưởng', 'phó_phòng')"
   ]
  },
  {
   "cell_type": "markdown",
   "metadata": {
    "id": "9j64QfKbXS8p"
   },
   "source": [
    "# Visualize"
   ]
  },
  {
   "cell_type": "code",
   "execution_count": 15,
   "metadata": {
    "ExecuteTime": {
     "end_time": "2020-11-07T16:24:21.125832Z",
     "start_time": "2020-11-07T16:24:21.112831Z"
    },
    "id": "pSX42MZ4XS8q"
   },
   "outputs": [],
   "source": [
    "def display_closestwords_tsnescatterplot(model, word, size):\n",
    "    \n",
    "    arr = np.empty((0,size), dtype='f')\n",
    "    word_labels = [word]\n",
    "    close_words = model.wv.similar_by_word(word)\n",
    "    arr = np.append(arr, np.array([model.wv[word]]), axis=0)\n",
    "    for wrd_score in close_words:\n",
    "        wrd_vector = model.wv[wrd_score[0]]\n",
    "        word_labels.append(wrd_score[0])\n",
    "        arr = np.append(arr, np.array([wrd_vector]), axis=0)\n",
    "        \n",
    "    tsne = TSNE(n_components=2, random_state=0)\n",
    "    np.set_printoptions(suppress=True)\n",
    "    Y = tsne.fit_transform(arr)\n",
    "    x_coords = Y[:, 0]\n",
    "    y_coords = Y[:, 1]\n",
    "    plt.scatter(x_coords, y_coords)\n",
    "    \n",
    "    for label, x, y in zip(word_labels, x_coords, y_coords):\n",
    "        plt.annotate(label, xy=(x, y), xytext=(0, 0), textcoords='offset points')\n",
    "        plt.xlim(x_coords.min()+0.00005, x_coords.max()+0.00005)\n",
    "        plt.ylim(y_coords.min()+0.00005, y_coords.max()+0.00005)\n",
    "    plt.show()"
   ]
  },
  {
   "cell_type": "code",
   "execution_count": 16,
   "metadata": {
    "ExecuteTime": {
     "end_time": "2020-11-07T16:24:21.730991Z",
     "start_time": "2020-11-07T16:24:21.129833Z"
    },
    "colab": {
     "base_uri": "https://localhost:8080/",
     "height": 274
    },
    "executionInfo": {
     "elapsed": 906,
     "status": "ok",
     "timestamp": 1604552761907,
     "user": {
      "displayName": "Minh Tân Nguyễn",
      "photoUrl": "https://lh3.googleusercontent.com/a-/AOh14GjB_FXjFydXbD57BQnwV_PlXZLZ6x7lh8bddx_s=s64",
      "userId": "15685404723980402174"
     },
     "user_tz": -420
    },
    "id": "ExRaaybgXS8s",
    "outputId": "617f9991-31f4-49f0-8f78-6e5e496464a6"
   },
   "outputs": [
    {
     "data": {
      "image/png": "[encoded data removed]",
      "text/plain": [
       "<Figure size 432x288 with 1 Axes>"
      ]
     },
     "metadata": {
      "needs_background": "light"
     },
     "output_type": "display_data"
    }
   ],
   "source": [
    "display_closestwords_tsnescatterplot(model, 'tiểu_học', 50)"
   ]
  },
  {
   "cell_type": "code",
   "execution_count": null,
   "metadata": {},
   "outputs": [],
   "source": []
  }
 ],
 "metadata": {
  "accelerator": "TPU",
  "colab": {
   "name": "w2v_gensim.ipynb",
   "provenance": [],
   "toc_visible": true
  },
  "kernelspec": {
   "display_name": "Python 3",
   "language": "python",
   "name": "python3"
  },
  "language_info": {
   "codemirror_mode": {
    "name": "ipython",
    "version": 3
   },
   "file_extension": ".py",
   "mimetype": "text/x-python",
   "name": "python",
   "nbconvert_exporter": "python",
   "pygments_lexer": "ipython3",
   "version": "3.7.8"
  },
  "toc": {
   "base_numbering": 1,
   "nav_menu": {},
   "number_sections": true,
   "sideBar": true,
   "skip_h1_title": false,
   "title_cell": "Table of Contents",
   "title_sidebar": "Contents",
   "toc_cell": true,
   "toc_position": {},
   "toc_section_display": true,
   "toc_window_display": true
  }
 },
 "nbformat": 4,
 "nbformat_minor": 1
}
